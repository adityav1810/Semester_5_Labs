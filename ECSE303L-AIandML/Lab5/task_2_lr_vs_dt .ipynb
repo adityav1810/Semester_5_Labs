{
  "nbformat": 4,
  "nbformat_minor": 0,
  "metadata": {
    "kernelspec": {
      "display_name": "Python 3",
      "language": "python",
      "name": "python3"
    },
    "language_info": {
      "codemirror_mode": {
        "name": "ipython",
        "version": 3
      },
      "file_extension": ".py",
      "mimetype": "text/x-python",
      "name": "python",
      "nbconvert_exporter": "python",
      "pygments_lexer": "ipython3",
      "version": "3.8.3"
    },
    "toc": {
      "base_numbering": 1,
      "nav_menu": {},
      "number_sections": true,
      "sideBar": true,
      "skip_h1_title": false,
      "title_cell": "Table of Contents",
      "title_sidebar": "Contents",
      "toc_cell": false,
      "toc_position": {},
      "toc_section_display": true,
      "toc_window_display": false
    },
    "colab": {
      "name": "task_2_lr_vs_dt.ipynb",
      "provenance": []
    }
  },
  "cells": [
    {
      "cell_type": "markdown",
      "metadata": {
        "id": "P0QdX2SOks8j",
        "colab_type": "text"
      },
      "source": [
        "## Predicting Customer response to Personal Loan Ad-Campaign"
      ]
    },
    {
      "cell_type": "markdown",
      "metadata": {
        "id": "W3OVNrC4ks8k",
        "colab_type": "text"
      },
      "source": [
        "#### Dataset\n",
        "The dataset is available at <strong>\"data/personal_loan.csv\"</strong> in the respective challenge's repo.<br>\n",
        "Original Dataset : https://www.kaggle.com/itsmesunil/bank-loan-modelling\n",
        "\n",
        "#### Features (X)\n",
        "1. Age - Customer's age in completed years. (Numeric)\n",
        "2. Experience - No. of years of professional experience (Numeric)\n",
        "3. Income - Annual income of the customer. (Numeric)\n",
        "4. ZIPCode - Home Address ZIP code. (Numeric)\n",
        "5. Family - Family size of the customer. (Numeric)\n",
        "6. CCAvg Avg. - Spending on credit cards per month (Numeric)\n",
        "7. Education  - \n",
        "    - Education Level (Categorical|Multiclass):\n",
        "        - 1: Undergrad\n",
        "        - 2: Graduate\n",
        "        - 3: Advanced/Professional \n",
        "8. Mortgage - Value of house mortgage if any. (Numeric)\n",
        "9. Securities Account - Does the customer have a securities account with the bank? (Categorical | Binary)\n",
        "10. CD Account - Does the customer have a certificate of deposit (CD) account with the bank? (Categorical | Binary)\n",
        "11. Online - Does the customer use internet banking facilities? (Categorical | Binary)\n",
        "12. CreditCard - Does the customer uses a credit card issued by UniversalBank? (Categorical | Binary)\n",
        "\n",
        "#### Target (y)\n",
        "- Personal Loan : Did this customer accept the personal loan offered in the last campaign? (Binary)\n",
        "\n",
        "#### Objective\n",
        "- To apply Logistic Regression and Decision Tree Algorithms on the given imbalanced dataset. and compare the algorithms used on our dataset on the basis of appropriately used evaluated metrics while presenting a summarized analysis of what you find.\n",
        "\n",
        "#### Tasks\n",
        "- Download and load the data (csv file).\n",
        "- Process the data according to guidelines given in the comments of the respective cells.\n",
        "- Split the dataset into 80% for training and rest 20% for testing. (sklearn.model_selection.train_test_split function).\n",
        "- Initialize Logistic Regression and Decision Tree Models (With parameters given in the cell).\n",
        "- Train the models on the same dataset.\n",
        "- Compute the confusion matrix for both models and compare.\n",
        "- Compute a classification report (Precision, Recall and F-1 score) for both models and compare. \n",
        "- Compute and plot the ROC Curve of both curves and simultaneously compute the ROC-AUC for both models and thereby compare.\n",
        "- Summarize your findings and give reasoning for your results (comparing task_1 and task_2).\n",
        "\n",
        "#### Further Fun (will not be evaluated)\n",
        "- Train model on different train-test splits such as 60-40, 50-50, 70-30, 80-20, 90-10, 95-5 etc. and observe accuracies on both X_train and X_test.\n",
        "- Shuffle training samples with different random seed values in the train_test_split function. Check the model error for the testing data for each setup.\n",
        "- Explore ways to deal with imbalanced dataset. Use different methods (such as eliminating outliers and such) to experiment with the given dataset.\n",
        "\n",
        "#### Helpful links\n",
        "- pd.get_dummies() and One Hot Encoding: https://queirozf.com/entries/one-hot-encoding-a-feature-on-a-pandas-dataframe-an-example\n",
        "- Differences between Logistic Regression and a Decision Tree: https://www.geeksforgeeks.org/ml-logistic-regression-v-s-decision-tree-classification/\n",
        "- When are Decision Trees better than Logistic Regression?: https://www.displayr.com/decision-trees-are-usually-better-than-logistic-regression\n",
        "- How to choose between Logistic Regression and Decision Trees given a dataset: https://datascience.stackexchange.com/questions/6048/should-i-use-a-decision-tree-or-logistic-regression-for-classification\n",
        "- Decision Tree Classifier by Sklearn: https://scikit-learn.org/stable/modules/generated/sklearn.tree.DecisionTreeClassifier.html\n",
        "- Understanding classification metrics like Precision, Recall, F-Scores and Confusion matrices: https://nillsf.com/index.php/2020/05/23/confusion-matrix-accuracy-recall-precision-false-positive-rate-and-f-scores-explained/\n",
        "- Understanding the ROC Curve: https://developers.google.com/machine-learning/crash-course/classification/roc-and-auc\n",
        "- Use slack for doubts: https://join.slack.com/t/deepconnectai/shared_invite/zt-givlfnf6-~cn3SQ43k0BGDrG9_YOn4g\n"
      ]
    },
    {
      "cell_type": "code",
      "metadata": {
        "id": "5oe6ACXRks8l",
        "colab_type": "code",
        "colab": {}
      },
      "source": [
        "# Importing necessary libraries\n",
        "import pandas as pd\n",
        "import numpy as np\n",
        "import matplotlib.pyplot as plt\n",
        "from sklearn.preprocessing import LabelEncoder\n",
        "from sklearn.preprocessing import MinMaxScaler, StandardScaler\n",
        "from sklearn.model_selection import train_test_split\n",
        "from sklearn.linear_model import LogisticRegression\n",
        "from sklearn.tree import DecisionTreeClassifier\n",
        "from sklearn.metrics import f1_score, precision_score, recall_score\n",
        "from sklearn.metrics import accuracy_score, confusion_matrix, classification_report\n",
        "from sklearn.metrics import roc_curve, roc_auc_score"
      ],
      "execution_count": 1,
      "outputs": []
    },
    {
      "cell_type": "code",
      "metadata": {
        "id": "U-v0JMOBks8s",
        "colab_type": "code",
        "colab": {}
      },
      "source": [
        "# Read the data from local cloud directory\n",
        "data = pd.read_csv('https://raw.githubusercontent.com/DeepConnectAI/challenge-week-5/master/data/personal_loan.csv')"
      ],
      "execution_count": 2,
      "outputs": []
    },
    {
      "cell_type": "code",
      "metadata": {
        "id": "ux82NIC0ks8v",
        "colab_type": "code",
        "colab": {
          "base_uri": "https://localhost:8080/",
          "height": 195
        },
        "outputId": "fdf5351e-9070-4c04-ebd2-6fc56a769ffd"
      },
      "source": [
        "# Print the dataframe rows just to see some samples\n",
        "data.head()"
      ],
      "execution_count": 3,
      "outputs": [
        {
          "output_type": "execute_result",
          "data": {
            "text/html": [
              "<div>\n",
              "<style scoped>\n",
              "    .dataframe tbody tr th:only-of-type {\n",
              "        vertical-align: middle;\n",
              "    }\n",
              "\n",
              "    .dataframe tbody tr th {\n",
              "        vertical-align: top;\n",
              "    }\n",
              "\n",
              "    .dataframe thead th {\n",
              "        text-align: right;\n",
              "    }\n",
              "</style>\n",
              "<table border=\"1\" class=\"dataframe\">\n",
              "  <thead>\n",
              "    <tr style=\"text-align: right;\">\n",
              "      <th></th>\n",
              "      <th>Age</th>\n",
              "      <th>Experience</th>\n",
              "      <th>Income</th>\n",
              "      <th>ZIP Code</th>\n",
              "      <th>Family</th>\n",
              "      <th>CCAvg</th>\n",
              "      <th>Education</th>\n",
              "      <th>Mortgage</th>\n",
              "      <th>CreditCard</th>\n",
              "      <th>Securities Account</th>\n",
              "      <th>CD Account</th>\n",
              "      <th>Online</th>\n",
              "      <th>Personal Loan</th>\n",
              "    </tr>\n",
              "  </thead>\n",
              "  <tbody>\n",
              "    <tr>\n",
              "      <th>0</th>\n",
              "      <td>25</td>\n",
              "      <td>1</td>\n",
              "      <td>49</td>\n",
              "      <td>91107</td>\n",
              "      <td>4</td>\n",
              "      <td>1.6</td>\n",
              "      <td>1</td>\n",
              "      <td>0</td>\n",
              "      <td>0</td>\n",
              "      <td>1</td>\n",
              "      <td>0</td>\n",
              "      <td>0</td>\n",
              "      <td>0</td>\n",
              "    </tr>\n",
              "    <tr>\n",
              "      <th>1</th>\n",
              "      <td>45</td>\n",
              "      <td>19</td>\n",
              "      <td>34</td>\n",
              "      <td>90089</td>\n",
              "      <td>3</td>\n",
              "      <td>1.5</td>\n",
              "      <td>1</td>\n",
              "      <td>0</td>\n",
              "      <td>0</td>\n",
              "      <td>1</td>\n",
              "      <td>0</td>\n",
              "      <td>0</td>\n",
              "      <td>0</td>\n",
              "    </tr>\n",
              "    <tr>\n",
              "      <th>2</th>\n",
              "      <td>39</td>\n",
              "      <td>15</td>\n",
              "      <td>11</td>\n",
              "      <td>94720</td>\n",
              "      <td>1</td>\n",
              "      <td>1.0</td>\n",
              "      <td>1</td>\n",
              "      <td>0</td>\n",
              "      <td>0</td>\n",
              "      <td>0</td>\n",
              "      <td>0</td>\n",
              "      <td>0</td>\n",
              "      <td>0</td>\n",
              "    </tr>\n",
              "    <tr>\n",
              "      <th>3</th>\n",
              "      <td>35</td>\n",
              "      <td>9</td>\n",
              "      <td>100</td>\n",
              "      <td>94112</td>\n",
              "      <td>1</td>\n",
              "      <td>2.7</td>\n",
              "      <td>2</td>\n",
              "      <td>0</td>\n",
              "      <td>0</td>\n",
              "      <td>0</td>\n",
              "      <td>0</td>\n",
              "      <td>0</td>\n",
              "      <td>0</td>\n",
              "    </tr>\n",
              "    <tr>\n",
              "      <th>4</th>\n",
              "      <td>35</td>\n",
              "      <td>8</td>\n",
              "      <td>45</td>\n",
              "      <td>91330</td>\n",
              "      <td>4</td>\n",
              "      <td>1.0</td>\n",
              "      <td>2</td>\n",
              "      <td>0</td>\n",
              "      <td>1</td>\n",
              "      <td>0</td>\n",
              "      <td>0</td>\n",
              "      <td>0</td>\n",
              "      <td>0</td>\n",
              "    </tr>\n",
              "  </tbody>\n",
              "</table>\n",
              "</div>"
            ],
            "text/plain": [
              "   Age  Experience  Income  ...  CD Account  Online  Personal Loan\n",
              "0   25           1      49  ...           0       0              0\n",
              "1   45          19      34  ...           0       0              0\n",
              "2   39          15      11  ...           0       0              0\n",
              "3   35           9     100  ...           0       0              0\n",
              "4   35           8      45  ...           0       0              0\n",
              "\n",
              "[5 rows x 13 columns]"
            ]
          },
          "metadata": {
            "tags": []
          },
          "execution_count": 3
        }
      ]
    },
    {
      "cell_type": "code",
      "metadata": {
        "id": "8eFNAdgQks8x",
        "colab_type": "code",
        "colab": {
          "base_uri": "https://localhost:8080/",
          "height": 34
        },
        "outputId": "a2300799-6abf-455b-965a-1ddc9ad95567"
      },
      "source": [
        "# Print shape of the dataframe\n",
        "data.shape\n"
      ],
      "execution_count": 4,
      "outputs": [
        {
          "output_type": "execute_result",
          "data": {
            "text/plain": [
              "(5000, 13)"
            ]
          },
          "metadata": {
            "tags": []
          },
          "execution_count": 4
        }
      ]
    },
    {
      "cell_type": "code",
      "metadata": {
        "id": "PxnCJmE7ks80",
        "colab_type": "code",
        "colab": {
          "base_uri": "https://localhost:8080/",
          "height": 67
        },
        "outputId": "28c7775c-7794-4105-9c5c-bf7366286b2f"
      },
      "source": [
        "# Take a look at the distribution of target variable (Below is an example of what we mean)\n",
        "print(data['Personal Loan'].value_counts())"
      ],
      "execution_count": 5,
      "outputs": [
        {
          "output_type": "stream",
          "text": [
            "0    4520\n",
            "1     480\n",
            "Name: Personal Loan, dtype: int64\n"
          ],
          "name": "stdout"
        }
      ]
    },
    {
      "cell_type": "markdown",
      "metadata": {
        "id": "ntNeEhncks82",
        "colab_type": "text"
      },
      "source": [
        "### This is an imbalanced dataset, as shown above"
      ]
    },
    {
      "cell_type": "code",
      "metadata": {
        "id": "YdEvCApyks83",
        "colab_type": "code",
        "colab": {
          "base_uri": "https://localhost:8080/",
          "height": 370
        },
        "outputId": "9a3581c6-4ac1-4174-acc7-e15d6f393b42"
      },
      "source": [
        "# Print info about dataset\n",
        "print(data.info())"
      ],
      "execution_count": 6,
      "outputs": [
        {
          "output_type": "stream",
          "text": [
            "<class 'pandas.core.frame.DataFrame'>\n",
            "RangeIndex: 5000 entries, 0 to 4999\n",
            "Data columns (total 13 columns):\n",
            " #   Column              Non-Null Count  Dtype  \n",
            "---  ------              --------------  -----  \n",
            " 0   Age                 5000 non-null   int64  \n",
            " 1   Experience          5000 non-null   int64  \n",
            " 2   Income              5000 non-null   int64  \n",
            " 3   ZIP Code            5000 non-null   int64  \n",
            " 4   Family              5000 non-null   int64  \n",
            " 5   CCAvg               5000 non-null   float64\n",
            " 6   Education           5000 non-null   int64  \n",
            " 7   Mortgage            5000 non-null   int64  \n",
            " 8   CreditCard          5000 non-null   int64  \n",
            " 9   Securities Account  5000 non-null   int64  \n",
            " 10  CD Account          5000 non-null   int64  \n",
            " 11  Online              5000 non-null   int64  \n",
            " 12  Personal Loan       5000 non-null   int64  \n",
            "dtypes: float64(1), int64(12)\n",
            "memory usage: 507.9 KB\n",
            "None\n"
          ],
          "name": "stdout"
        }
      ]
    },
    {
      "cell_type": "code",
      "metadata": {
        "id": "3moIml1Tks85",
        "colab_type": "code",
        "colab": {
          "base_uri": "https://localhost:8080/",
          "height": 34
        },
        "outputId": "3d101113-5541-4ed3-c4d7-3973d13c3e3e"
      },
      "source": [
        "# Fill Missing Values (if any)\n",
        "data.isnull().values.any()"
      ],
      "execution_count": 7,
      "outputs": [
        {
          "output_type": "execute_result",
          "data": {
            "text/plain": [
              "False"
            ]
          },
          "metadata": {
            "tags": []
          },
          "execution_count": 7
        }
      ]
    },
    {
      "cell_type": "code",
      "metadata": {
        "id": "u9zhq9fzks88",
        "colab_type": "code",
        "colab": {}
      },
      "source": [
        "# Label Encode Categorical Columns (if required)\n",
        "\n",
        "Categorical_col=['Education','CreditCard','Securities Account','CD Account'\t,'Online']\n",
        "label_encoder=LabelEncoder()\n",
        "for col in Categorical_col:\n",
        "  data[col]=label_encoder.fit_transform(data[col])"
      ],
      "execution_count": 8,
      "outputs": []
    },
    {
      "cell_type": "code",
      "metadata": {
        "id": "TBcmHtn1qBKh",
        "colab_type": "code",
        "colab": {
          "base_uri": "https://localhost:8080/",
          "height": 195
        },
        "outputId": "e6f2ab22-5c48-4c68-ee50-e8ea08b9d00d"
      },
      "source": [
        "data.head()"
      ],
      "execution_count": 9,
      "outputs": [
        {
          "output_type": "execute_result",
          "data": {
            "text/html": [
              "<div>\n",
              "<style scoped>\n",
              "    .dataframe tbody tr th:only-of-type {\n",
              "        vertical-align: middle;\n",
              "    }\n",
              "\n",
              "    .dataframe tbody tr th {\n",
              "        vertical-align: top;\n",
              "    }\n",
              "\n",
              "    .dataframe thead th {\n",
              "        text-align: right;\n",
              "    }\n",
              "</style>\n",
              "<table border=\"1\" class=\"dataframe\">\n",
              "  <thead>\n",
              "    <tr style=\"text-align: right;\">\n",
              "      <th></th>\n",
              "      <th>Age</th>\n",
              "      <th>Experience</th>\n",
              "      <th>Income</th>\n",
              "      <th>ZIP Code</th>\n",
              "      <th>Family</th>\n",
              "      <th>CCAvg</th>\n",
              "      <th>Education</th>\n",
              "      <th>Mortgage</th>\n",
              "      <th>CreditCard</th>\n",
              "      <th>Securities Account</th>\n",
              "      <th>CD Account</th>\n",
              "      <th>Online</th>\n",
              "      <th>Personal Loan</th>\n",
              "    </tr>\n",
              "  </thead>\n",
              "  <tbody>\n",
              "    <tr>\n",
              "      <th>0</th>\n",
              "      <td>25</td>\n",
              "      <td>1</td>\n",
              "      <td>49</td>\n",
              "      <td>91107</td>\n",
              "      <td>4</td>\n",
              "      <td>1.6</td>\n",
              "      <td>0</td>\n",
              "      <td>0</td>\n",
              "      <td>0</td>\n",
              "      <td>1</td>\n",
              "      <td>0</td>\n",
              "      <td>0</td>\n",
              "      <td>0</td>\n",
              "    </tr>\n",
              "    <tr>\n",
              "      <th>1</th>\n",
              "      <td>45</td>\n",
              "      <td>19</td>\n",
              "      <td>34</td>\n",
              "      <td>90089</td>\n",
              "      <td>3</td>\n",
              "      <td>1.5</td>\n",
              "      <td>0</td>\n",
              "      <td>0</td>\n",
              "      <td>0</td>\n",
              "      <td>1</td>\n",
              "      <td>0</td>\n",
              "      <td>0</td>\n",
              "      <td>0</td>\n",
              "    </tr>\n",
              "    <tr>\n",
              "      <th>2</th>\n",
              "      <td>39</td>\n",
              "      <td>15</td>\n",
              "      <td>11</td>\n",
              "      <td>94720</td>\n",
              "      <td>1</td>\n",
              "      <td>1.0</td>\n",
              "      <td>0</td>\n",
              "      <td>0</td>\n",
              "      <td>0</td>\n",
              "      <td>0</td>\n",
              "      <td>0</td>\n",
              "      <td>0</td>\n",
              "      <td>0</td>\n",
              "    </tr>\n",
              "    <tr>\n",
              "      <th>3</th>\n",
              "      <td>35</td>\n",
              "      <td>9</td>\n",
              "      <td>100</td>\n",
              "      <td>94112</td>\n",
              "      <td>1</td>\n",
              "      <td>2.7</td>\n",
              "      <td>1</td>\n",
              "      <td>0</td>\n",
              "      <td>0</td>\n",
              "      <td>0</td>\n",
              "      <td>0</td>\n",
              "      <td>0</td>\n",
              "      <td>0</td>\n",
              "    </tr>\n",
              "    <tr>\n",
              "      <th>4</th>\n",
              "      <td>35</td>\n",
              "      <td>8</td>\n",
              "      <td>45</td>\n",
              "      <td>91330</td>\n",
              "      <td>4</td>\n",
              "      <td>1.0</td>\n",
              "      <td>1</td>\n",
              "      <td>0</td>\n",
              "      <td>1</td>\n",
              "      <td>0</td>\n",
              "      <td>0</td>\n",
              "      <td>0</td>\n",
              "      <td>0</td>\n",
              "    </tr>\n",
              "  </tbody>\n",
              "</table>\n",
              "</div>"
            ],
            "text/plain": [
              "   Age  Experience  Income  ...  CD Account  Online  Personal Loan\n",
              "0   25           1      49  ...           0       0              0\n",
              "1   45          19      34  ...           0       0              0\n",
              "2   39          15      11  ...           0       0              0\n",
              "3   35           9     100  ...           0       0              0\n",
              "4   35           8      45  ...           0       0              0\n",
              "\n",
              "[5 rows x 13 columns]"
            ]
          },
          "metadata": {
            "tags": []
          },
          "execution_count": 9
        }
      ]
    },
    {
      "cell_type": "code",
      "metadata": {
        "id": "Dn4jwaKcks8-",
        "colab_type": "code",
        "colab": {}
      },
      "source": [
        "# Normalize/Standardize numerical columns\n",
        "standard_scaler=StandardScaler()\n",
        "Numerical_col=['Age','Experience','Income','ZIP Code','Family','CCAvg']\n",
        "for col in Numerical_col:\n",
        "  data[col]=standard_scaler.fit_transform(data[col].values.reshape(-1,1))"
      ],
      "execution_count": 10,
      "outputs": []
    },
    {
      "cell_type": "code",
      "metadata": {
        "id": "FzS1xyS8ks9A",
        "colab_type": "code",
        "colab": {}
      },
      "source": [
        "# One hot encode columns with multiple categories\n",
        "# Use pd.get_dummies(), concatenate that with the original dataset, and drop the column (keeping only the dummy columns)\n",
        "# Use link given in the \"Helpful Links\" section for help\n",
        "\n",
        "for col in ['Education']:\n",
        "  data=pd.concat([data,pd.get_dummies(data[col],prefix=col)],axis=1)\n",
        "  data.drop([col],axis=1, inplace=True)\n"
      ],
      "execution_count": 11,
      "outputs": []
    },
    {
      "cell_type": "code",
      "metadata": {
        "id": "PQK5YIRIrWaa",
        "colab_type": "code",
        "colab": {
          "base_uri": "https://localhost:8080/",
          "height": 212
        },
        "outputId": "992c99dc-d4c5-4ea7-8700-e44f1d93c294"
      },
      "source": [
        "data.head()"
      ],
      "execution_count": 12,
      "outputs": [
        {
          "output_type": "execute_result",
          "data": {
            "text/html": [
              "<div>\n",
              "<style scoped>\n",
              "    .dataframe tbody tr th:only-of-type {\n",
              "        vertical-align: middle;\n",
              "    }\n",
              "\n",
              "    .dataframe tbody tr th {\n",
              "        vertical-align: top;\n",
              "    }\n",
              "\n",
              "    .dataframe thead th {\n",
              "        text-align: right;\n",
              "    }\n",
              "</style>\n",
              "<table border=\"1\" class=\"dataframe\">\n",
              "  <thead>\n",
              "    <tr style=\"text-align: right;\">\n",
              "      <th></th>\n",
              "      <th>Age</th>\n",
              "      <th>Experience</th>\n",
              "      <th>Income</th>\n",
              "      <th>ZIP Code</th>\n",
              "      <th>Family</th>\n",
              "      <th>CCAvg</th>\n",
              "      <th>Mortgage</th>\n",
              "      <th>CreditCard</th>\n",
              "      <th>Securities Account</th>\n",
              "      <th>CD Account</th>\n",
              "      <th>Online</th>\n",
              "      <th>Personal Loan</th>\n",
              "      <th>Education_0</th>\n",
              "      <th>Education_1</th>\n",
              "      <th>Education_2</th>\n",
              "    </tr>\n",
              "  </thead>\n",
              "  <tbody>\n",
              "    <tr>\n",
              "      <th>0</th>\n",
              "      <td>-1.774417</td>\n",
              "      <td>-1.666078</td>\n",
              "      <td>-0.538229</td>\n",
              "      <td>-0.964114</td>\n",
              "      <td>1.397414</td>\n",
              "      <td>-0.193371</td>\n",
              "      <td>0</td>\n",
              "      <td>0</td>\n",
              "      <td>1</td>\n",
              "      <td>0</td>\n",
              "      <td>0</td>\n",
              "      <td>0</td>\n",
              "      <td>1</td>\n",
              "      <td>0</td>\n",
              "      <td>0</td>\n",
              "    </tr>\n",
              "    <tr>\n",
              "      <th>1</th>\n",
              "      <td>-0.029524</td>\n",
              "      <td>-0.096330</td>\n",
              "      <td>-0.864109</td>\n",
              "      <td>-1.443932</td>\n",
              "      <td>0.525991</td>\n",
              "      <td>-0.250595</td>\n",
              "      <td>0</td>\n",
              "      <td>0</td>\n",
              "      <td>1</td>\n",
              "      <td>0</td>\n",
              "      <td>0</td>\n",
              "      <td>0</td>\n",
              "      <td>1</td>\n",
              "      <td>0</td>\n",
              "      <td>0</td>\n",
              "    </tr>\n",
              "    <tr>\n",
              "      <th>2</th>\n",
              "      <td>-0.552992</td>\n",
              "      <td>-0.445163</td>\n",
              "      <td>-1.363793</td>\n",
              "      <td>0.738814</td>\n",
              "      <td>-1.216855</td>\n",
              "      <td>-0.536720</td>\n",
              "      <td>0</td>\n",
              "      <td>0</td>\n",
              "      <td>0</td>\n",
              "      <td>0</td>\n",
              "      <td>0</td>\n",
              "      <td>0</td>\n",
              "      <td>1</td>\n",
              "      <td>0</td>\n",
              "      <td>0</td>\n",
              "    </tr>\n",
              "    <tr>\n",
              "      <th>3</th>\n",
              "      <td>-0.901970</td>\n",
              "      <td>-0.968413</td>\n",
              "      <td>0.569765</td>\n",
              "      <td>0.452243</td>\n",
              "      <td>-1.216855</td>\n",
              "      <td>0.436103</td>\n",
              "      <td>0</td>\n",
              "      <td>0</td>\n",
              "      <td>0</td>\n",
              "      <td>0</td>\n",
              "      <td>0</td>\n",
              "      <td>0</td>\n",
              "      <td>0</td>\n",
              "      <td>1</td>\n",
              "      <td>0</td>\n",
              "    </tr>\n",
              "    <tr>\n",
              "      <th>4</th>\n",
              "      <td>-0.901970</td>\n",
              "      <td>-1.055621</td>\n",
              "      <td>-0.625130</td>\n",
              "      <td>-0.859007</td>\n",
              "      <td>1.397414</td>\n",
              "      <td>-0.536720</td>\n",
              "      <td>0</td>\n",
              "      <td>1</td>\n",
              "      <td>0</td>\n",
              "      <td>0</td>\n",
              "      <td>0</td>\n",
              "      <td>0</td>\n",
              "      <td>0</td>\n",
              "      <td>1</td>\n",
              "      <td>0</td>\n",
              "    </tr>\n",
              "  </tbody>\n",
              "</table>\n",
              "</div>"
            ],
            "text/plain": [
              "        Age  Experience    Income  ...  Education_0  Education_1  Education_2\n",
              "0 -1.774417   -1.666078 -0.538229  ...            1            0            0\n",
              "1 -0.029524   -0.096330 -0.864109  ...            1            0            0\n",
              "2 -0.552992   -0.445163 -1.363793  ...            1            0            0\n",
              "3 -0.901970   -0.968413  0.569765  ...            0            1            0\n",
              "4 -0.901970   -1.055621 -0.625130  ...            0            1            0\n",
              "\n",
              "[5 rows x 15 columns]"
            ]
          },
          "metadata": {
            "tags": []
          },
          "execution_count": 12
        }
      ]
    },
    {
      "cell_type": "code",
      "metadata": {
        "id": "7qtN98LWks9D",
        "colab_type": "code",
        "colab": {}
      },
      "source": [
        "# Define Feature Columns as X and Target Column as y\n",
        "X =data.loc[:,data.columns!='Personal Loan']\n",
        "y =data['Personal Loan']"
      ],
      "execution_count": 13,
      "outputs": []
    },
    {
      "cell_type": "code",
      "metadata": {
        "id": "4MdtdxK-ks9F",
        "colab_type": "code",
        "colab": {}
      },
      "source": [
        "# Do train-test split\n",
        "X_train, X_test, y_train, y_test = train_test_split(X, y, test_size=0.20, random_state=42)"
      ],
      "execution_count": 14,
      "outputs": []
    },
    {
      "cell_type": "markdown",
      "metadata": {
        "id": "w4YXDQiqks9H",
        "colab_type": "text"
      },
      "source": [
        "### Logistic Regression Model"
      ]
    },
    {
      "cell_type": "code",
      "metadata": {
        "id": "8hee2cOLks9I",
        "colab_type": "code",
        "colab": {}
      },
      "source": [
        "# Initializing the model\n",
        "log_reg = LogisticRegression(max_iter=1000)"
      ],
      "execution_count": 15,
      "outputs": []
    },
    {
      "cell_type": "code",
      "metadata": {
        "id": "umDTA6n0ks9K",
        "colab_type": "code",
        "colab": {
          "base_uri": "https://localhost:8080/",
          "height": 101
        },
        "outputId": "70196348-ad31-45aa-d82c-757dc860eda0"
      },
      "source": [
        "# Train the model\n",
        "log_reg.fit(X_train,y_train)"
      ],
      "execution_count": 16,
      "outputs": [
        {
          "output_type": "execute_result",
          "data": {
            "text/plain": [
              "LogisticRegression(C=1.0, class_weight=None, dual=False, fit_intercept=True,\n",
              "                   intercept_scaling=1, l1_ratio=None, max_iter=1000,\n",
              "                   multi_class='auto', n_jobs=None, penalty='l2',\n",
              "                   random_state=None, solver='lbfgs', tol=0.0001, verbose=0,\n",
              "                   warm_start=False)"
            ]
          },
          "metadata": {
            "tags": []
          },
          "execution_count": 16
        }
      ]
    },
    {
      "cell_type": "code",
      "metadata": {
        "id": "KY6me3W2ks9M",
        "colab_type": "code",
        "colab": {}
      },
      "source": [
        "# Make Predictions on the test data (log_prob values represents raw probabilities of predictions)\n",
        "# It will be used for ROC Curves\n",
        "log_pred = log_reg.predict(X_test)\n",
        "log_prob = log_reg.predict_proba(X_test)"
      ],
      "execution_count": 17,
      "outputs": []
    },
    {
      "cell_type": "markdown",
      "metadata": {
        "id": "WN98USwyks9P",
        "colab_type": "text"
      },
      "source": [
        "### Decision Tree Model"
      ]
    },
    {
      "cell_type": "code",
      "metadata": {
        "id": "peQ3kOdxks9P",
        "colab_type": "code",
        "colab": {}
      },
      "source": [
        "# Initializing the model\n",
        "d_tree = DecisionTreeClassifier()"
      ],
      "execution_count": 18,
      "outputs": []
    },
    {
      "cell_type": "code",
      "metadata": {
        "id": "Z4u5tlhLks9S",
        "colab_type": "code",
        "colab": {
          "base_uri": "https://localhost:8080/",
          "height": 118
        },
        "outputId": "f4ab7969-4b3a-4c8e-bf3d-ed015e841cec"
      },
      "source": [
        "# Train the model\n",
        "d_tree.fit(X_train,y_train)"
      ],
      "execution_count": 19,
      "outputs": [
        {
          "output_type": "execute_result",
          "data": {
            "text/plain": [
              "DecisionTreeClassifier(ccp_alpha=0.0, class_weight=None, criterion='gini',\n",
              "                       max_depth=None, max_features=None, max_leaf_nodes=None,\n",
              "                       min_impurity_decrease=0.0, min_impurity_split=None,\n",
              "                       min_samples_leaf=1, min_samples_split=2,\n",
              "                       min_weight_fraction_leaf=0.0, presort='deprecated',\n",
              "                       random_state=None, splitter='best')"
            ]
          },
          "metadata": {
            "tags": []
          },
          "execution_count": 19
        }
      ]
    },
    {
      "cell_type": "code",
      "metadata": {
        "id": "WJQdWDCmks9U",
        "colab_type": "code",
        "colab": {}
      },
      "source": [
        "# Make Predictions on the test data (dt_prob values represents raw probabilities of predictions)\n",
        "# It will be used for ROC Curves\n",
        "dt_pred = d_tree.predict(X_test)\n",
        "dt_prob = d_tree.predict_proba(X_test)"
      ],
      "execution_count": 20,
      "outputs": []
    },
    {
      "cell_type": "markdown",
      "metadata": {
        "id": "HtG_-xWiks9W",
        "colab_type": "text"
      },
      "source": [
        "## Evaluating Our Models"
      ]
    },
    {
      "cell_type": "code",
      "metadata": {
        "id": "vaaNdTMnks9W",
        "colab_type": "code",
        "colab": {
          "base_uri": "https://localhost:8080/",
          "height": 50
        },
        "outputId": "01f4d749-00a1-4e33-863a-d51a3952252f"
      },
      "source": [
        "# Confusion matrix for Logistic Regression Model\n",
        "print(confusion_matrix(y_test,log_pred))"
      ],
      "execution_count": 21,
      "outputs": [
        {
          "output_type": "stream",
          "text": [
            "[[888   7]\n",
            " [ 27  78]]\n"
          ],
          "name": "stdout"
        }
      ]
    },
    {
      "cell_type": "code",
      "metadata": {
        "id": "s9BbE14-ks9Y",
        "colab_type": "code",
        "colab": {
          "base_uri": "https://localhost:8080/",
          "height": 50
        },
        "outputId": "ff35902c-47f9-4cf8-cad8-e00b5aba978f"
      },
      "source": [
        "# Confusion matrix for Decision Tree Model\n",
        "print(confusion_matrix(y_test,dt_pred))"
      ],
      "execution_count": 22,
      "outputs": [
        {
          "output_type": "stream",
          "text": [
            "[[889   6]\n",
            " [  8  97]]\n"
          ],
          "name": "stdout"
        }
      ]
    },
    {
      "cell_type": "markdown",
      "metadata": {
        "id": "5QDOAvHKks9a",
        "colab_type": "text"
      },
      "source": [
        "### <b>Think</b> : Would accuracy_score be a good evaluation metric, given that the dataset is imbalanced?"
      ]
    },
    {
      "cell_type": "code",
      "metadata": {
        "id": "IevxMMRnks9a",
        "colab_type": "code",
        "colab": {}
      },
      "source": [
        "# Since the dataset is imbalanced, we evaluate our model using F1-Score"
      ],
      "execution_count": 23,
      "outputs": []
    },
    {
      "cell_type": "code",
      "metadata": {
        "id": "ASapsjQyks9c",
        "colab_type": "code",
        "colab": {
          "base_uri": "https://localhost:8080/",
          "height": 34
        },
        "outputId": "ff36fe1b-5497-4f60-9711-d2dfc42c17f8"
      },
      "source": [
        "# F1-Score for Logistic Regression Model\n",
        "print(f1_score(y_test,log_pred))"
      ],
      "execution_count": 24,
      "outputs": [
        {
          "output_type": "stream",
          "text": [
            "0.8210526315789475\n"
          ],
          "name": "stdout"
        }
      ]
    },
    {
      "cell_type": "code",
      "metadata": {
        "id": "OLBi_WXHks9e",
        "colab_type": "code",
        "colab": {
          "base_uri": "https://localhost:8080/",
          "height": 34
        },
        "outputId": "1010fb07-8641-4978-9f94-dd6a2fce90e8"
      },
      "source": [
        "# F1-Score for Decision Tree Model\n",
        "print(f1_score(y_test,dt_pred))"
      ],
      "execution_count": 25,
      "outputs": [
        {
          "output_type": "stream",
          "text": [
            "0.9326923076923078\n"
          ],
          "name": "stdout"
        }
      ]
    },
    {
      "cell_type": "code",
      "metadata": {
        "id": "xGmbA233ks9h",
        "colab_type": "code",
        "colab": {
          "base_uri": "https://localhost:8080/",
          "height": 168
        },
        "outputId": "9d3200b3-3a28-4e76-8010-86e3807dae38"
      },
      "source": [
        "# Classification report for Logistic Regression Model\n",
        "print(classification_report(y_test,log_pred))"
      ],
      "execution_count": 26,
      "outputs": [
        {
          "output_type": "stream",
          "text": [
            "              precision    recall  f1-score   support\n",
            "\n",
            "           0       0.97      0.99      0.98       895\n",
            "           1       0.92      0.74      0.82       105\n",
            "\n",
            "    accuracy                           0.97      1000\n",
            "   macro avg       0.94      0.87      0.90      1000\n",
            "weighted avg       0.96      0.97      0.96      1000\n",
            "\n"
          ],
          "name": "stdout"
        }
      ]
    },
    {
      "cell_type": "code",
      "metadata": {
        "id": "hceQ7JZxks9j",
        "colab_type": "code",
        "colab": {
          "base_uri": "https://localhost:8080/",
          "height": 168
        },
        "outputId": "b83db73b-72b4-4caa-82ad-da2cac29a219"
      },
      "source": [
        "# Classification report for Decision Tree Model\n",
        "print(classification_report(y_test,dt_pred))"
      ],
      "execution_count": 27,
      "outputs": [
        {
          "output_type": "stream",
          "text": [
            "              precision    recall  f1-score   support\n",
            "\n",
            "           0       0.99      0.99      0.99       895\n",
            "           1       0.94      0.92      0.93       105\n",
            "\n",
            "    accuracy                           0.99      1000\n",
            "   macro avg       0.97      0.96      0.96      1000\n",
            "weighted avg       0.99      0.99      0.99      1000\n",
            "\n"
          ],
          "name": "stdout"
        }
      ]
    },
    {
      "cell_type": "markdown",
      "metadata": {
        "id": "enGMH0SPks9l",
        "colab_type": "text"
      },
      "source": [
        "### Plotting the ROC Curve and computing the ROC-AUC"
      ]
    },
    {
      "cell_type": "code",
      "metadata": {
        "id": "sGh28D-Tks9l",
        "colab_type": "code",
        "colab": {}
      },
      "source": [
        "#ROC-AUC curve is a performance measurement for classification problems at various thresholds settings."
      ],
      "execution_count": 28,
      "outputs": []
    },
    {
      "cell_type": "code",
      "metadata": {
        "id": "00S0ebWsks9n",
        "colab_type": "code",
        "colab": {}
      },
      "source": [
        "#Calculate False Positive Rate and True Positive Rate for y_test\n",
        "fpr1, tpr1, thresh1 = roc_curve(y_test, log_pred, pos_label=1)\n",
        "fpr2, tpr2, thresh2 = roc_curve(y_test, dt_pred, pos_label=1)\n",
        "\n",
        "random_probs = [0 for i in range(len(y_test))]\n",
        "p_fpr, p_tpr, _ = roc_curve(y_test, random_probs, pos_label=1)"
      ],
      "execution_count": 29,
      "outputs": []
    },
    {
      "cell_type": "code",
      "metadata": {
        "id": "hn2WW18Kks9p",
        "colab_type": "code",
        "colab": {
          "base_uri": "https://localhost:8080/",
          "height": 376
        },
        "outputId": "26453a0c-b08e-44ba-c46c-df66b2f00bdf"
      },
      "source": [
        "#Plot ROC Curve (TPR vs FPR)\n",
        "plt.style.use('seaborn')\n",
        "plt.plot(fpr1, tpr1, linestyle='--',color='orange', label='Logistic Regression')\n",
        "plt.plot(fpr2, tpr2, linestyle='-',color='green', label='Decision Tree')\n",
        "plt.plot(p_fpr, p_tpr, linestyle='-.', color='blue')\n",
        "plt.title('ROC curve')\n",
        "plt.xlabel('False Positive Rate')\n",
        "plt.ylabel('True Positive rate')\n",
        "plt.legend(loc='best')\n",
        "plt.show();"
      ],
      "execution_count": 30,
      "outputs": [
        {
          "output_type": "display_data",
          "data": {
            "image/png": "[encoded data removed]",
            "text/plain": [
              "<Figure size 576x396 with 1 Axes>"
            ]
          },
          "metadata": {
            "tags": []
          }
        }
      ]
    },
    {
      "cell_type": "code",
      "metadata": {
        "id": "_dHq1y_wks9r",
        "colab_type": "code",
        "colab": {
          "base_uri": "https://localhost:8080/",
          "height": 50
        },
        "outputId": "2009523d-c9e1-4d20-c39b-43558ace4e5e"
      },
      "source": [
        "#Print ROC-AUC scores for both models\n",
        "auc_score1 = roc_auc_score(y_test,log_pred)\n",
        "auc_score2 = roc_auc_score(y_test, dt_pred)\n",
        "\n",
        "print(\"ROC-AUC Score for Logistic Regression: \",auc_score1)\n",
        "print(\"ROC-AUC Score for Decision Tree: \",auc_score2)"
      ],
      "execution_count": 32,
      "outputs": [
        {
          "output_type": "stream",
          "text": [
            "ROC-AUC Score for Logistic Regression:  0.8675179569034317\n",
            "ROC-AUC Score for Decision Tree:  0.9585528065974994\n"
          ],
          "name": "stdout"
        }
      ]
    },
    {
      "cell_type": "markdown",
      "metadata": {
        "id": "hP2BoeGuks9t",
        "colab_type": "text"
      },
      "source": [
        "## Conclusive Analysis"
      ]
    },
    {
      "cell_type": "markdown",
      "metadata": {
        "id": "qOaXr42dks9t",
        "colab_type": "text"
      },
      "source": [
        "Summarize your findings and give reasoning for the results you obtained from task_1 and task_2 and compare the algorithms utilized based on the evaluations metrics used."
      ]
    },
    {
      "cell_type": "markdown",
      "metadata": {
        "id": "qKxYi9t6DCns",
        "colab_type": "text"
      },
      "source": [
        "# RESULTS\n",
        "\n",
        "Both task 1 and task 2 had datasets which were biased. The Model predicted very high accuracy for both the Logistic Regression and Decision Tree , however we used the precision score, accuracy score and f1 score to cross check our findings. The Precision score came out to be very low for task1 which meant that the majority of predictions werent accurate. To handle biased data, we use the f1 score and the roc curve to get rid of the biasness. We achieved a f1 score of .17 and .12  and a roc score of .56 and .54 for the 2 models in task 1.This clearly shows how much error was present in the model's prediction. from these evaluation metrics, we decided that the Logistic regression model worked better . Altough in a similar classification task in task 2 , we again performed the same evalautation metrics and achieved much better results for the 2 models. As the Data was once again biased, we used the f1 score instead of the accuracy score to compare our model performance,We saw a that the Decision Tree Classifier outperformed the Log Reg model with a f1 score of .92. \n",
        "Also by plotting the ROC curve, we saw that the graph of the Decision Tree was more towards the upper left as compared to the Log Reg graph, this also shows that the Decision Tree worked better than the Logistic Regression Model in this Task."
      ]
    }
  ]
}