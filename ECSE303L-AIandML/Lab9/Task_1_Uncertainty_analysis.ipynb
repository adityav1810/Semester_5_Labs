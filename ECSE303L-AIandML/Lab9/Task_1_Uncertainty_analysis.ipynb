{
  "nbformat": 4,
  "nbformat_minor": 0,
  "metadata": {
    "colab": {
      "name": "Task_1_Uncertainty_analysis (1).ipynb",
      "provenance": [],
      "collapsed_sections": [],
      "include_colab_link": true
    },
    "kernelspec": {
      "name": "python3",
      "display_name": "Python 3"
    }
  },
  "cells": [
    {
      "cell_type": "markdown",
      "metadata": {
        "id": "view-in-github",
        "colab_type": "text"
      },
      "source": [
        "<a href=\"https://colab.research.google.com/github/adityav1810/Semester_5_Labs/blob/master/ECSE303L-AIandML/Lab9/Task_1_Uncertainty_analysis.ipynb\" target=\"_parent\"><img src=\"https://colab.research.google.com/assets/colab-badge.svg\" alt=\"Open In Colab\"/></a>"
      ]
    },
    {
      "cell_type": "markdown",
      "metadata": {
        "id": "U_tcuiFmIToA"
      },
      "source": [
        "#Cardiotocography\n",
        "\n",
        "## Objective: To classify Cardiotocography dataset 10-class and 3-class problems, respectively. To experiment the influence of strategies such as,\n",
        "1. Feature Scaling\n",
        "2. Feature Selection\n",
        "3. Splitting of dataset and random seeds\n",
        "4. Cross validation\n",
        "\n",
        "#Dataset:\n",
        "2126 fetal cardiotocograms (CTGs) were automatically processed and the respective diagnostic features measured. The CTGs were also classified by three expert obstetricians and a consensus classification label assigned to each of them. Classification was both with respect to a morphologic pattern (A, B, C. …) and to a fetal state (N, S, P). Therefore, the dataset can be used either for 10-class or 3-class experiments.\n",
        "\n",
        "# Attribute Information:\n",
        "1.\tLB - FHR baseline (beats per minute)\n",
        "2.\tAC - # of accelerations per second\n",
        "3.\tFM - # of fetal movements per second\n",
        "4.\tUC - # of uterine contractions per second\n",
        "5.\tDL - # of light decelerations per second\n",
        "6.\tDS - # of severe decelerations per second\n",
        "7.\tDP - # of prolongued decelerations per second\n",
        "8.\tASTV - percentage of time with abnormal short term variability\n",
        "9.\tMSTV - mean value of short term variability\n",
        "10.\tALTV - percentage of time with abnormal long term variability\n",
        "11.\tMLTV - mean value of long term variability\n",
        "12.\tWidth - width of FHR histogram\n",
        "13.\tMin - minimum of FHR histogram\n",
        "14.\tMax - Maximum of FHR histogram\n",
        "15.\tNmax - # of histogram peaks\n",
        "16.\tNzeros - # of histogram zeros\n",
        "17.\tMode - histogram mode\n",
        "18.\tMean - histogram mean\n",
        "19.\tMedian - histogram median\n",
        "20.\tVariance - histogram variance\n",
        "21.\tTendency - histogram tendency\n",
        "\n",
        "#Target classes\n",
        "CLASS - FHR pattern class code (1 to 10)\n",
        "NSP - fetal state class code (N=normal; S=suspect; P=pathologic)\n",
        "\n",
        "#Source:\n",
        "https://archive.ics.uci.edu/ml/datasets/Cardiotocography\n",
        "\n",
        "#Tasks:\n",
        "##Task 1: Take class (1 to 10) as a target class.  \n",
        "a.\tLoad the dataset\n",
        "b.\tShuffles the rows of the dataset\n",
        "c.\tApply pre-processing techniques (if required)\n",
        "d.\tTake X [independent features] =data[1: 21] and Y= CLASS - FHR pattern class code (1 to 10)\n",
        "e.\tDivide the dataset into training (70%) and testing (30%) fractions\n",
        "f.\tApply logistic regression variants and variants of tree/forest-based classification models (implemented so far in Labs). Note: Minimum four models will be implemented.\n",
        "g.\tEvaluate and store the respective training and testing accuracy values\n",
        "h.\tPlot two boxplots for training and testing accuracy, respectively, by considering all the models. Note that use only single boxplot to show the performance of every model i.e., in total two boxplots one for training and one for testing. \n",
        "i. Print all the classification measures supported by sklearn\n",
        "j.\tConcludes the results \n",
        "\n",
        "Perform the following tasks to find influence of different strategies (Use above tasks from a to j)\n",
        "\n",
        "1. Compute model results with and without feature scaling and see which models work well even without scaling\n",
        "2. Perform different feature selection stragies using correlation analysis, forward selection, backward elimination, recursive feature elimination etc. Find minimal and best possible subset of features from each method.\n",
        "3. Split the dataset into different splits such as 90-10, 80-20, 70-30... 10-90. Find best split size which gives good accuracy for both training and testing.\n",
        "4. Split the dataset with different random state values and experiment the models. Find whether there is any influence of random state value and experiment.\n",
        "4. Perform classification with k-fold cross validation. Experiment with different k values and find what is their influence.\n",
        "\n",
        "##Task 2: Take fetal state as a target class.\n",
        "a.\tLoad the dataset\n",
        "b.\tShuffles the rows of the dataset\n",
        "c.\tApply pre-processing techniques (if required)\n",
        "d.\tTake X [independent features] =data[1: 21] and Y= NSP - fetal state class code (N=normal; S=suspect; P=pathologic)\n",
        "e.\tDivide the dataset into training (70%) and testing (30%) fractions\n",
        "f.\tApply logistic regression variants and variants of tree/forest-based classification models (implemented so far in Labs). Note: Minimum for models will be implemented.\n",
        "g.\tEvaluate and store the respective training and testing accuracy values. \n",
        "h.\tPlot two boxplots for training and testing accuracy, respectively, by considering all the models. Note that use only single boxplot to show the performance of every model i.e., in total two boxplots one for training and one for testing.  \n",
        "i. Print all the classification measures supported by sklearn\n",
        "j.\tConcludes the results \n",
        "\n",
        "Perform the following tasks to find influence of different strategies (Use above tasks from a to j)\n",
        "\n",
        "1. Compute model results with and without feature scaling and see which models work well even without scaling\n",
        "2. Perform different feature selection stragies using correlation analysis, forward selection, backward elimination, recursive feature elimination etc. Find minimal and best possible subset of features from each method.\n",
        "3. Split the dataset into different splits such as 90-10, 80-20, 70-30... 10-90. Find best split size which gives good accuracy for both training and testing.\n",
        "4. Split the dataset with different random state values and experiment the models. Find whether there is any influence of random state value and experiment.\n",
        "4. Perform classification with k-fold cross validation. Experiment with different k values and find what is their influence.\n",
        "\n",
        "#Helping links:\n",
        "https://www.tutorialspoint.com/python_data_science/python_box_plots.htm#:~:text=Advertisements,quartile%20in%20the%20data%20set.\n",
        "https://seaborn.pydata.org/generated/seaborn.boxplot.html\n",
        "https://pandas.pydata.org/pandas-docs/stable/reference/api/pandas.DataFrame.boxplot.html\n",
        "https://python-graph-gallery.com/boxplot/\n",
        "https://www.geeksforgeeks.org/box-plot-in-python-using-matplotlib/\n",
        "https://matplotlib.org/3.1.1/api/_as_gen/matplotlib.pyplot.boxplot.html\n",
        "\n",
        "\n"
      ]
    },
    {
      "cell_type": "markdown",
      "metadata": {
        "id": "1yGvcerZa0S8"
      },
      "source": [
        "## Task 1: Take class (1 to 10) as a target class. "
      ]
    },
    {
      "cell_type": "code",
      "metadata": {
        "id": "Duh_Q74qIidS"
      },
      "source": [
        "# Load the libraries\n"
      ],
      "execution_count": null,
      "outputs": []
    },
    {
      "cell_type": "code",
      "metadata": {
        "id": "SyioH2iYIjhk"
      },
      "source": [
        "# Load the dataset \n",
        "# Shuffel the dataset\n",
        "\n"
      ],
      "execution_count": null,
      "outputs": []
    },
    {
      "cell_type": "code",
      "metadata": {
        "id": "vtfupr9JInhf"
      },
      "source": [
        "# Preprocessing\n",
        "# Encoding categorical variables (if any)\n",
        "# Feature Scaling\n",
        "# Filling missing values (if any)\n",
        "\n"
      ],
      "execution_count": null,
      "outputs": []
    },
    {
      "cell_type": "code",
      "metadata": {
        "id": "13owZH7mIpZp"
      },
      "source": [
        "# Divide the dataset to training and testing set\n",
        "\n"
      ],
      "execution_count": null,
      "outputs": []
    },
    {
      "cell_type": "code",
      "metadata": {
        "id": "-KEJ1BB8a5xQ"
      },
      "source": [
        "# Implement logistic regression variants and variants of tree/forest-based classification models (implemented so far in Labs). Note: Minimum for models will be implemented.\n",
        "# Not all models can be obtained from sklearn \n",
        "\n",
        "\n",
        "\n"
      ],
      "execution_count": null,
      "outputs": []
    },
    {
      "cell_type": "code",
      "metadata": {
        "id": "jOIhehoYbSsJ"
      },
      "source": [
        "# Train and test the models\n",
        "\n"
      ],
      "execution_count": null,
      "outputs": []
    },
    {
      "cell_type": "code",
      "metadata": {
        "id": "XUBOrqrbbX-u"
      },
      "source": [
        "# Build training accuracy boxplot analysis \n",
        "\n"
      ],
      "execution_count": null,
      "outputs": []
    },
    {
      "cell_type": "code",
      "metadata": {
        "id": "x5vYDQzjCIHr"
      },
      "source": [
        "# Build testing accuracy boxplot analysis "
      ],
      "execution_count": null,
      "outputs": []
    },
    {
      "cell_type": "markdown",
      "metadata": {
        "id": "9hZF7xcjbdAF"
      },
      "source": [
        "## Task 2: Take fetal state as a target class."
      ]
    },
    {
      "cell_type": "code",
      "metadata": {
        "id": "1DSX6JMEbfss"
      },
      "source": [
        "# Use the preprocessed dataset here\n",
        "\n"
      ],
      "execution_count": null,
      "outputs": []
    },
    {
      "cell_type": "code",
      "metadata": {
        "id": "2yqNwnVCbkxG"
      },
      "source": [
        "# Divide the dataset to training and testing set"
      ],
      "execution_count": null,
      "outputs": []
    },
    {
      "cell_type": "code",
      "metadata": {
        "id": "eB_I4407bns6"
      },
      "source": [
        "# Implement logistic regression variants and variants of tree/forest-based classification models (implemented so far in Labs). Note: Minimum for models will be implemented.\n",
        "# Not all models can be obtained from sklearn \n",
        "\n",
        "\n",
        "\n"
      ],
      "execution_count": null,
      "outputs": []
    },
    {
      "cell_type": "code",
      "metadata": {
        "id": "GHOGKAXiCsSN"
      },
      "source": [
        "# Train and test the models"
      ],
      "execution_count": null,
      "outputs": []
    },
    {
      "cell_type": "code",
      "metadata": {
        "id": "1cZrbgNuCvQX"
      },
      "source": [
        "# Build training accuracy boxplot analysis "
      ],
      "execution_count": null,
      "outputs": []
    },
    {
      "cell_type": "code",
      "metadata": {
        "id": "SRWWKLmYCx5w"
      },
      "source": [
        "# Build testing accuracy boxplot analysis "
      ],
      "execution_count": null,
      "outputs": []
    },
    {
      "cell_type": "code",
      "metadata": {
        "id": "aK086juobpRo"
      },
      "source": [
        "# Play with the intial/hyper parameters of the models and try to build more boxplots (Optional)\n",
        "\n"
      ],
      "execution_count": null,
      "outputs": []
    }
  ]
}