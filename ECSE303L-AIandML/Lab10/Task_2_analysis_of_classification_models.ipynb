{
  "nbformat": 4,
  "nbformat_minor": 0,
  "metadata": {
    "colab": {
      "name": "Task_2_analysis_of_classification_models.ipynb",
      "provenance": [],
      "collapsed_sections": [],
      "include_colab_link": true
    },
    "kernelspec": {
      "name": "python3",
      "display_name": "Python 3"
    }
  },
  "cells": [
    {
      "cell_type": "markdown",
      "metadata": {
        "id": "view-in-github",
        "colab_type": "text"
      },
      "source": [
        "<a href=\"https://colab.research.google.com/github/adityav1810/Semester_5_Labs/blob/master/ECSE303L-AIandML/Lab10/Task_2_analysis_of_classification_models.ipynb\" target=\"_parent\"><img src=\"https://colab.research.google.com/assets/colab-badge.svg\" alt=\"Open In Colab\"/></a>"
      ]
    },
    {
      "cell_type": "markdown",
      "metadata": {
        "id": "U_tcuiFmIToA"
      },
      "source": [
        "#Chronic Kidney Disease\n",
        "\n",
        "# Objective: To implement various classification models and ensemble them to classify Chronic Kidney Disease as infected or not\n",
        "\n",
        "## Dataset\n",
        "The data was taken over a 2-month period in India with 25 features ( eg, red blood cell count, white blood cell count, etc). The target is the 'classification', which is either 'ckd' or 'notckd' - ckd=chronic kidney disease.\n",
        "\n",
        "## Attributes\n",
        "1.\tAge(numerical)\n",
        "age in years\n",
        "2.\tBlood Pressure(numerical)\n",
        "bp in mm/Hg\n",
        "3.\tSpecific Gravity(nominal)\n",
        "sg - (1.005,1.010,1.015,1.020,1.025)\n",
        "4.\tAlbumin(nominal)\n",
        "al - (0,1,2,3,4,5)\n",
        "5.\tSugar(nominal)\n",
        "su - (0,1,2,3,4,5)\n",
        "6.\tRed Blood Cells(nominal)\n",
        "rbc - (normal,abnormal)\n",
        "7.\tPus Cell (nominal)\n",
        "pc - (normal,abnormal)\n",
        "8.\tPus Cell clumps(nominal)\n",
        "pcc - (present,notpresent)\n",
        "9.\tBacteria(nominal)\n",
        "ba - (present,notpresent)\n",
        "10.\tBlood Glucose Random(numerical)\n",
        "bgr in mgs/dl\n",
        "11.\tBlood Urea(numerical)\n",
        "bu in mgs/dl\n",
        "12.\tSerum Creatinine(numerical)\n",
        "sc in mgs/dl\n",
        "13.\tSodium(numerical)\n",
        "sod in mEq/L\n",
        "14.\tPotassium(numerical)\n",
        "pot in mEq/L\n",
        "15.\tHemoglobin(numerical)\n",
        "hemo in gms\n",
        "16.\tPacked Cell Volume(numerical)\n",
        "17.\tWhite Blood Cell Count(numerical)\n",
        "wc in cells/cumm\n",
        "18.\tRed Blood Cell Count(numerical)\n",
        "rc in millions/cmm\n",
        "19.\tHypertension(nominal)\n",
        "htn - (yes,no)\n",
        "20.\tDiabetes Mellitus(nominal)\n",
        "dm - (yes,no)\n",
        "21.\tCoronary Artery Disease(nominal)\n",
        "cad - (yes,no)\n",
        "22.\tAppetite(nominal)\n",
        "appet - (good,poor)\n",
        "23.\tPedal Edema(nominal)\n",
        "pe - (yes,no)\n",
        "24.\tAnemia(nominal)\n",
        "ane - (yes,no)\n",
        "\n",
        "## Target Class\n",
        "Class (nominal)\n",
        "class - (ckd,notckd)\n",
        "\n",
        "## Source: https://archive.ics.uci.edu/ml/datasets/Chronic_Kidney_Disease\n",
        "\n",
        "Tasks:\n",
        "1.\tObtain the dataset\n",
        "2.\tApply pre-processing techniques (if any)\n",
        "3.\tDivide dataset into training and testing set, respectively.\n",
        "4.\tImplement SVM, Logistic regression, Decision tree and KNN models.\n",
        "5.\tEnsemble SVM, Logistic regression, Decision tree and KNN models. \n",
        "6.\tEvaluate accuracy, precision, recall and f-measure for all models.\n",
        "7.\tPlot the results by playing with the hyper-parameters of the afore-mentioned models.\n",
        "8.\tConclude the results\n",
        "\n",
        "\n",
        "Helpful links: \n",
        "\n",
        "https://scikit-learn.org/stable/modules/ensemble.html\n",
        "\n",
        "https://www.analyticsvidhya.com/blog/2018/06/comprehensive-guide-for-ensemble-models/\n",
        "\n",
        "https://machinelearningmastery.com/ensemble-machine-learning-algorithms-python-scikit-learn/\n",
        "\n",
        "https://scikit-learn.org/stable/modules/ensemble.html\n",
        "\n",
        "https://www.datacamp.com/community/tutorials/ensemble-learning-python\n",
        "\n",
        "\n",
        "\n",
        "\n",
        "\n"
      ]
    },
    {
      "cell_type": "markdown",
      "metadata": {
        "id": "1yGvcerZa0S8"
      },
      "source": [
        "## Task 1: Implement classification models on Chronic Kidney Disease dataset "
      ]
    },
    {
      "cell_type": "code",
      "metadata": {
        "id": "Duh_Q74qIidS"
      },
      "source": [
        "# Load the libraries\n"
      ],
      "execution_count": null,
      "outputs": []
    },
    {
      "cell_type": "code",
      "metadata": {
        "id": "SyioH2iYIjhk"
      },
      "source": [
        "# Load the dataset \n",
        "# Shuffel the dataset\n",
        "\n"
      ],
      "execution_count": null,
      "outputs": []
    },
    {
      "cell_type": "code",
      "metadata": {
        "id": "vtfupr9JInhf"
      },
      "source": [
        "# Preprocessing\n",
        "# Encoding categorical variables (if any)\n",
        "# Feature Scaling\n",
        "# Filling missing values (if any)\n",
        "\n"
      ],
      "execution_count": null,
      "outputs": []
    },
    {
      "cell_type": "code",
      "metadata": {
        "id": "13owZH7mIpZp"
      },
      "source": [
        "# Divide the dataset to training and testing set\n",
        "\n"
      ],
      "execution_count": null,
      "outputs": []
    },
    {
      "cell_type": "code",
      "metadata": {
        "id": "-KEJ1BB8a5xQ"
      },
      "source": [
        "# Implement various classification models such as SVM, Logistic regression, Decision tree and KNN, respectively.\n",
        "# Note all models can be obtained from sklearn \n",
        "\n",
        "\n",
        "\n"
      ],
      "execution_count": null,
      "outputs": []
    },
    {
      "cell_type": "code",
      "metadata": {
        "id": "jOIhehoYbSsJ"
      },
      "source": [
        "# Train and test the models\n",
        "\n"
      ],
      "execution_count": null,
      "outputs": []
    },
    {
      "cell_type": "markdown",
      "metadata": {
        "id": "9hZF7xcjbdAF"
      },
      "source": [
        "## Task 2: Ensembling of classificatino models"
      ]
    },
    {
      "cell_type": "code",
      "metadata": {
        "id": "1DSX6JMEbfss"
      },
      "source": [
        "# Obtain the results of various models from Task 1\n",
        "\n"
      ],
      "execution_count": null,
      "outputs": []
    },
    {
      "cell_type": "code",
      "metadata": {
        "id": "2yqNwnVCbkxG"
      },
      "source": [
        "# Apply ensembling of various classification models such as SVM, Logistic regression, Decision tree and KNN"
      ],
      "execution_count": null,
      "outputs": []
    },
    {
      "cell_type": "code",
      "metadata": {
        "id": "GHOGKAXiCsSN"
      },
      "source": [
        "# Build training analysis graphs for various parameters i.e., accuracy, precision, recall and f-measure for all models.  "
      ],
      "execution_count": null,
      "outputs": []
    },
    {
      "cell_type": "code",
      "metadata": {
        "id": "1cZrbgNuCvQX"
      },
      "source": [
        "# Build testing analysis graphs for various parameters i.e., accuracy, precision, recall and f-measure for all models.  "
      ],
      "execution_count": null,
      "outputs": []
    },
    {
      "cell_type": "markdown",
      "metadata": {
        "id": "VkCiUc-mBbv2"
      },
      "source": [
        "# Conclude the results"
      ]
    }
  ]
}