{
  "nbformat": 4,
  "nbformat_minor": 0,
  "metadata": {
    "colab": {
      "name": "Task_1_Software_cost_estimation.ipynb",
      "provenance": [],
      "collapsed_sections": [],
      "include_colab_link": true
    },
    "kernelspec": {
      "name": "python3",
      "display_name": "Python 3"
    }
  },
  "cells": [
    {
      "cell_type": "markdown",
      "metadata": {
        "id": "view-in-github",
        "colab_type": "text"
      },
      "source": [
        "<a href=\"https://colab.research.google.com/github/adityav1810/Semester_5_Labs/blob/master/ECSE303L-AIandML/Lab10/Task_1_Software_cost_estimation.ipynb\" target=\"_parent\"><img src=\"https://colab.research.google.com/assets/colab-badge.svg\" alt=\"Open In Colab\"/></a>"
      ]
    },
    {
      "cell_type": "markdown",
      "metadata": {
        "id": "1yGvcerZa0S8"
      },
      "source": [
        "# Objective: Feature Subset Selection to Improve Software Cost Estimation\n",
        "\n",
        "## Dataset\n",
        "This is a PROMISE Software Engineering Repository data set made publicly available to encourage repeatable, verifiable, refutable, and/or improvable predictive models of software engineering. The main objective is to estimate the software cost estimation using feature subset selection techniques.\n",
        "\n",
        "## Attributes\n",
        "1.\tRELY {Nominal,Very_High,High,Low} \n",
        "2.\tDATA {High,Low,Nominal,Very_High} \n",
        "3.\tCPLX {Very_High,High,Nominal,Extra_High,Low} \n",
        "4.\tTIME {Nominal,Very_High,High,Extra_High} \n",
        "5.\tSTOR {Nominal,Very_High,High,Extra_High} \n",
        "6.\tVIRT {Low,Nominal,High}\n",
        "7.\tTURN {Nominal,High,Low}\n",
        "8.\tACAP {High,Very_High,Nominal} \n",
        "9.\tAEXP {Nominal,Very_High,High} \n",
        "10.\tPCAP {Very_High,High,Nominal}\n",
        "11.\tVEXP {Low,Nominal,High}\n",
        "12.\tLEXP {Nominal,High,Very_Low,Low} \n",
        "13.\tMODP {High,Nominal,Very_High,Low}\n",
        "14.\tTOOL {Nominal,High,Very_High,Very_Low,Low} \n",
        "15.\tSCED {Low,Nominal,High}\n",
        "16.\tLOC numeric \n",
        "\n",
        "## Target Class\n",
        "ACT_EFFORT numeric %17\n",
        "\n",
        "### Source: http://promise.site.uottawa.ca/SERepository/datasets/cocomonasa_v1.arff\n",
        "\n",
        "Tasks:\n",
        "1.\tObtain the software cost estimation dataset\n",
        "2.\tApply pre-processing techniques (if any)\n",
        "3.\tApply feature subset selection techniques such as correlation analysis, forward selection, backward elimination, recursive feature elimination etc. Find best possible subset of features from each method.\n",
        "4.\tDivide dataset into training and testing set, respectively.\n",
        "5.\tImplement support vector regression (SVR), Linear regression, and Decision tree.\n",
        "6.\tEnsemble SVR, Linear regression and Decision tree. \n",
        "7.\tEvaluate Coefficient of determination and Root mean square error for all the models including the ensemble one.\n",
        "8.\tConclude the results\n",
        "\n",
        "Helpful links: https://scikit-learn.org/stable/modules/ensemble.html\n",
        "https://www.analyticsvidhya.com/blog/2020/03/support-vector-regression-tutorial-for-machine-learning/\n",
        "https://medium.com/pursuitnotes/support-vector-regression-in-6-steps-with-python-c4569acd062d\n",
        "https://scikit-learn.org/stable/auto_examples/svm/plot_svm_regression.html\n"
      ]
    },
    {
      "cell_type": "markdown",
      "metadata": {
        "id": "5uFw2frEUF0y"
      },
      "source": [
        "## Task 1: Implementation of regression models "
      ]
    },
    {
      "cell_type": "code",
      "metadata": {
        "id": "Duh_Q74qIidS"
      },
      "source": [
        "# Load the libraries\n"
      ],
      "execution_count": null,
      "outputs": []
    },
    {
      "cell_type": "code",
      "metadata": {
        "id": "SyioH2iYIjhk"
      },
      "source": [
        "# Load the dataset \n",
        "\n"
      ],
      "execution_count": null,
      "outputs": []
    },
    {
      "cell_type": "code",
      "metadata": {
        "id": "vtfupr9JInhf"
      },
      "source": [
        "# Preprocessing\n",
        "# Encoding categorical variables (if any)\n",
        "# Feature Scaling\n",
        "# Filling missing values (if any)\n",
        "\n"
      ],
      "execution_count": null,
      "outputs": []
    },
    {
      "cell_type": "code",
      "metadata": {
        "id": "ylhtVecl-5kT"
      },
      "source": [
        "# Apply feature subset selection techniques "
      ],
      "execution_count": null,
      "outputs": []
    },
    {
      "cell_type": "code",
      "metadata": {
        "id": "13owZH7mIpZp"
      },
      "source": [
        "# Divide the dataset to training and testing set\n",
        "\n"
      ],
      "execution_count": null,
      "outputs": []
    },
    {
      "cell_type": "code",
      "metadata": {
        "id": "-KEJ1BB8a5xQ"
      },
      "source": [
        "# Build regression models \n",
        "\n",
        "\n",
        "\n"
      ],
      "execution_count": null,
      "outputs": []
    },
    {
      "cell_type": "code",
      "metadata": {
        "id": "jOIhehoYbSsJ"
      },
      "source": [
        "# Evaluate the build model on test dataset\n",
        "\n"
      ],
      "execution_count": null,
      "outputs": []
    },
    {
      "cell_type": "code",
      "metadata": {
        "id": "XUBOrqrbbX-u"
      },
      "source": [
        "# Evaluate training and testing coefficient of determination and root mean squre error\n",
        "\n"
      ],
      "execution_count": null,
      "outputs": []
    },
    {
      "cell_type": "markdown",
      "metadata": {
        "id": "9hZF7xcjbdAF"
      },
      "source": [
        "##Task 2: Ensemble regression models\n"
      ]
    },
    {
      "cell_type": "code",
      "metadata": {
        "id": "GHOGKAXiCsSN"
      },
      "source": [
        "# Ensemble the regression models"
      ],
      "execution_count": null,
      "outputs": []
    },
    {
      "cell_type": "code",
      "metadata": {
        "id": "-Gue0Z-p_WXw"
      },
      "source": [
        "# Evaluate Coefficient of determination and Root mean square error "
      ],
      "execution_count": null,
      "outputs": []
    },
    {
      "cell_type": "markdown",
      "metadata": {
        "id": "EPw_-SMyrka_"
      },
      "source": [
        "\n",
        "##Task 3: Conclude the results\n"
      ]
    }
  ]
}