{
  "nbformat": 4,
  "nbformat_minor": 0,
  "metadata": {
    "kernelspec": {
      "display_name": "Python 3",
      "language": "python",
      "name": "python3"
    },
    "language_info": {
      "codemirror_mode": {
        "name": "ipython",
        "version": 3
      },
      "file_extension": ".py",
      "mimetype": "text/x-python",
      "name": "python",
      "nbconvert_exporter": "python",
      "pygments_lexer": "ipython3",
      "version": "3.7.6"
    },
    "colab": {
      "name": "task_2_dt_log.ipynb",
      "provenance": [],
      "include_colab_link": true
    }
  },
  "cells": [
    {
      "cell_type": "markdown",
      "metadata": {
        "id": "view-in-github",
        "colab_type": "text"
      },
      "source": [
        "<a href=\"https://colab.research.google.com/github/adityav1810/Semester_5_Labs/blob/master/ECSE303L-AIandML/Lab6/task_2_dt_log.ipynb\" target=\"_parent\"><img src=\"https://colab.research.google.com/assets/colab-badge.svg\" alt=\"Open In Colab\"/></a>"
      ]
    },
    {
      "cell_type": "markdown",
      "metadata": {
        "id": "o-T4UFzYDgKo",
        "colab_type": "text"
      },
      "source": [
        "# Prediction of Employee Attrition "
      ]
    },
    {
      "cell_type": "code",
      "metadata": {
        "id": "8Ke4hUROWvKH",
        "colab_type": "code",
        "colab": {}
      },
      "source": [
        "from sklearn.model_selection import learning_curve\n",
        "import numpy as np\n",
        "def plot_learning_curve(estimator, title, X, y, axes=None, ylim=None, cv=None,\n",
        "                        n_jobs=None, train_sizes=np.linspace(.1, 1.0, 5)):\n",
        "    \n",
        "\n",
        "    if axes is None:\n",
        "        _, axes = plt.subplots(1, 3, figsize=(20, 5))\n",
        "\n",
        "    axes[0].set_title(title)\n",
        "    if ylim is not None:\n",
        "        axes[0].set_ylim(*ylim)\n",
        "    axes[0].set_xlabel(\"Training examples\")\n",
        "    axes[0].set_ylabel(\"Score\")\n",
        "\n",
        "    train_sizes, train_scores, test_scores, fit_times, _ = \\\n",
        "        learning_curve(estimator, X, y, cv=cv, n_jobs=n_jobs,\n",
        "                       train_sizes=train_sizes,\n",
        "                       return_times=True)\n",
        "    train_scores_mean = np.mean(train_scores, axis=1)\n",
        "    train_scores_std = np.std(train_scores, axis=1)\n",
        "    test_scores_mean = np.mean(test_scores, axis=1)\n",
        "    test_scores_std = np.std(test_scores, axis=1)\n",
        "    fit_times_mean = np.mean(fit_times, axis=1)\n",
        "    fit_times_std = np.std(fit_times, axis=1)\n",
        "\n",
        "    # Plot learning curve\n",
        "    axes[0].grid()\n",
        "    axes[0].fill_between(train_sizes, train_scores_mean - train_scores_std,\n",
        "                         train_scores_mean + train_scores_std, alpha=0.1,\n",
        "                         color=\"r\")\n",
        "    axes[0].fill_between(train_sizes, test_scores_mean - test_scores_std,\n",
        "                         test_scores_mean + test_scores_std, alpha=0.1,\n",
        "                         color=\"g\")\n",
        "    axes[0].plot(train_sizes, train_scores_mean, 'o-', color=\"r\",\n",
        "                 label=\"Training score\")\n",
        "    axes[0].plot(train_sizes, test_scores_mean, 'o-', color=\"g\",\n",
        "                 label=\"Cross-validation score\")\n",
        "    axes[0].legend(loc=\"best\")\n",
        "\n",
        "    # Plot n_samples vs fit_times\n",
        "    axes[1].grid()\n",
        "    axes[1].plot(train_sizes, fit_times_mean, 'o-')\n",
        "    axes[1].fill_between(train_sizes, fit_times_mean - fit_times_std,\n",
        "                         fit_times_mean + fit_times_std, alpha=0.1)\n",
        "    axes[1].set_xlabel(\"Training examples\")\n",
        "    axes[1].set_ylabel(\"fit_times\")\n",
        "    axes[1].set_title(\"Scalability of the model\")\n",
        "\n",
        "    # Plot fit_time vs score\n",
        "    axes[2].grid()\n",
        "    axes[2].plot(fit_times_mean, test_scores_mean, 'o-')\n",
        "    axes[2].fill_between(fit_times_mean, test_scores_mean - test_scores_std,\n",
        "                         test_scores_mean + test_scores_std, alpha=0.1)\n",
        "    axes[2].set_xlabel(\"fit_times\")\n",
        "    axes[2].set_ylabel(\"Score\")\n",
        "    axes[2].set_title(\"Performance of the model\")"
      ],
      "execution_count": 35,
      "outputs": []
    },
    {
      "cell_type": "markdown",
      "metadata": {
        "id": "-x67iRenDgKq",
        "colab_type": "text"
      },
      "source": [
        "#### Dataset\n",
        "The dataset is available at <strong>\"data/attrition.csv\"</strong> in the respective challenge's repo.<br>\n",
        "This is a fictional data set created by IBM data scientists.\n",
        "\n",
        "#### Features (X)\n",
        "1. Age - Employee's current age. (Numeric)\n",
        "2. BusinessTravel - Frequency of travelling for business (Categorical)\n",
        "    - Travel Frequently\n",
        "    - Travel Rarely\n",
        "    - Not Travel at all\n",
        "3. DailyRate - Daily rate of earning. (Numeric)\n",
        "4. Department - Job-specific Department. (Categorical)\n",
        "    - R&D\n",
        "    - Sales\n",
        "    - HR\n",
        "5. DistanceFromHome (Numeric)\n",
        "6. Education (Numeric) -\n",
        "    - Below College (1)\n",
        "    - College (2)\n",
        "    - Bachelor (3)\n",
        "    - Master (4)\n",
        "    - Doctor (5)\n",
        "7. Education Field (Categorical) -\n",
        "    - Life Sciences\n",
        "    - Medical\n",
        "    - Marketing\n",
        "    - Techincal Degree\n",
        "    - Human Resources\n",
        "    - Other\n",
        "8. EmployeeCount (Numeric)\n",
        "9. EmployeeNumber (Numeric)\n",
        "10. EnvironmentSatisfaction (1-4) (Numeric)\n",
        "11. Gender (Binary)\n",
        "12. HourlyRate (Numeric)\n",
        "13. JobInvolvement (1-4) (Numeric)\n",
        "14. JobLevel (1-5) (Numeric)\n",
        "15. JobRole (Categorical)\n",
        "    - Research Scientist\n",
        "    - Laboratory Technician\n",
        "    - Manufacturing Director\n",
        "    - Healthcare Representative\n",
        "    - Manager\n",
        "    - Research Director\n",
        "    - Sales Executive\n",
        "    - Sales Representative\n",
        "    - Human Resources\n",
        "16. JobSatisfaction (1-4) (Numeric)\n",
        "17. MaritalStatus (Categorical)\n",
        "    - Married\n",
        "    - Single\n",
        "    - Divorced\n",
        "18. MonthlyIncome (Numeric)\n",
        "19. MonthlyRate (Numeric)\n",
        "20. NumCompaniesWorked (Numeric)\n",
        "21. OverTime (Yes/No) (Categorical)\n",
        "22. PercentSalaryHike (Numeric)\n",
        "23. PerformanceRating (1-4) (Numeric)\n",
        "24. RelationshipSatisfaction (1-4) (Numeric)\n",
        "25. StandardHours (numeric)\n",
        "26. StockOptionLevel (0-3) (Numeric)\n",
        "27. TotalWorkingYears (Numeric)\n",
        "28. TrainingTimesLastYear (0-5) (Numeric)\n",
        "29. WorkLifeBalance (1-4)(Numeric)\n",
        "30. YearsAtCompany (Numeric)\n",
        "31. YearsInCurrentRole (Numeric)\n",
        "32. YearsSinceLastPromotion(Numeric)\n",
        "33. YearsWithCurrManager (Numeric)\n",
        "\n",
        "#### Target (y)\n",
        "- Attrition (Binary)\n",
        "\n",
        "#### Objective\n",
        "- To apply Logistic Regression and Decision Tree Algorithms on the given dataset and understand the concepts of Underfitting and Overfitting and ways to combat these problems. There are three sections -\n",
        "- Section 1 \n",
        "    - Visualization of Overfitting and Underfitting (with results on cross validation)\n",
        "- Section 2\n",
        "    - Regularization\n",
        "\n",
        "\n",
        "#### Tasks\n",
        "- Download and load the data (csv file)\n",
        "- Process the data according to guidelines given in the comments of the respective cells.\n",
        "- Split the dataset into 60% for training and rest 40% for testing (sklearn.model_selection.train_test_split function)\n",
        "- Initialize Logistic Regression and Decision Tree Models (With parameters given in the cell)\n",
        "- Train the models on the same dataset\n",
        "- Complete Section 1 and 2\n",
        "\n",
        "#### Further Fun (will not be evaluated)\n",
        "- Train model on different train-test splits such as 60-40, 50-50, 70-30, 80-20, 90-10, 95-5 etc. and observe the respective plots and results on both X_train and X_test\n",
        "- Shuffle training samples with different random seed values in the train_test_split function. Check the model error for the testing data for each setup.\n",
        "- Explore ways to deal with imbalanced dataset. Use different methods (such as eliminating outliers and such) to experiment with the given dataset.\n",
        "\n",
        "#### Helpful links\n",
        "- pd.get_dummies() and One Hot Encoding: https://queirozf.com/entries/one-hot-encoding-a-feature-on-a-pandas-dataframe-an-example\n",
        "- Feature Scaling: https://scikit-learn.org/stable/modules/preprocessing.html\n",
        "- Train-test splitting: https://scikit-learn.org/stable/modules/generated/sklearn.model_selection.train_test_split.html\n",
        "- Differences between Logistic Regression and a Decision Tree: https://www.geeksforgeeks.org/ml-logistic-regression-v-s-decision-tree-classification/\n",
        "- When are Decision Trees better than Logistic Regression?: https://www.displayr.com/decision-trees-are-usually-better-than-logistic-regression\n",
        "- How to choose between Logistic Regression and Decision Trees given a dataset: https://datascience.stackexchange.com/questions/6048/should-i-use-a-decision-tree-or-logistic-regression-for-classification\n",
        "- Decision Tree Classifier by Sklearn: https://scikit-learn.org/stable/modules/generated/sklearn.tree.DecisionTreeClassifier.html\n",
        "- Regularization and Geometry- https://towardsdatascience.com/regularization-and-geometry-c69a2365de19\n",
        "- RidgeClassifier- https://scikit-learn.org/stable/modules/generated/sklearn.linear_model.RidgeClassifier.html\n",
        "- Use slack for doubts: https://join.slack.com/t/deepconnectai/shared_invite/zt-givlfnf6-~cn3SQ43k0BGDrG9_YOn4g\n"
      ]
    },
    {
      "cell_type": "code",
      "metadata": {
        "id": "eRKwUy6cDgKr",
        "colab_type": "code",
        "colab": {}
      },
      "source": [
        "import pandas as pd\n",
        "import numpy as np\n",
        "from sklearn.preprocessing import StandardScaler,MinMaxScaler\n",
        "from sklearn.linear_model import LogisticRegression,SGDClassifier, RidgeClassifier\n",
        "from sklearn.model_selection import train_test_split\n",
        "from sklearn.tree import DecisionTreeClassifier\n",
        "from sklearn.metrics import accuracy_score, log_loss\n",
        "import matplotlib.pyplot as plt\n",
        "import numpy as np\n",
        "# from data.learning_plot import plot_learning_curve\n",
        "from sklearn.model_selection import ShuffleSplit\n",
        "from sklearn.linear_model import SGDClassifier\n",
        "from sklearn.preprocessing import LabelEncoder, minmax_scale\n",
        "from sklearn import linear_model\n",
        "from warnings import simplefilter\n",
        "from sklearn.exceptions import ConvergenceWarning\n",
        "simplefilter(\"ignore\", category=ConvergenceWarning)"
      ],
      "execution_count": 36,
      "outputs": []
    },
    {
      "cell_type": "code",
      "metadata": {
        "id": "n8nu_ue7DgKw",
        "colab_type": "code",
        "colab": {}
      },
      "source": [
        "# Git clone the repo \n",
        "# !git clone"
      ],
      "execution_count": 37,
      "outputs": []
    },
    {
      "cell_type": "code",
      "metadata": {
        "id": "4R9FwU1eDgKz",
        "colab_type": "code",
        "colab": {}
      },
      "source": [
        "# Read the data from local cloud directory\n",
        "data =pd.read_csv('https://raw.githubusercontent.com/DeepConnectAI/challenge-week-6/master/data/attrition.csv') "
      ],
      "execution_count": 38,
      "outputs": []
    },
    {
      "cell_type": "code",
      "metadata": {
        "id": "m3saLjNADgK3",
        "colab_type": "code",
        "colab": {
          "base_uri": "https://localhost:8080/",
          "height": 309
        },
        "outputId": "59927ed0-8041-4698-c534-87c665161ef1"
      },
      "source": [
        "# Print the dataframe rows just to see some samples\n",
        "data.head()"
      ],
      "execution_count": 39,
      "outputs": [
        {
          "output_type": "execute_result",
          "data": {
            "text/html": [
              "<div>\n",
              "<style scoped>\n",
              "    .dataframe tbody tr th:only-of-type {\n",
              "        vertical-align: middle;\n",
              "    }\n",
              "\n",
              "    .dataframe tbody tr th {\n",
              "        vertical-align: top;\n",
              "    }\n",
              "\n",
              "    .dataframe thead th {\n",
              "        text-align: right;\n",
              "    }\n",
              "</style>\n",
              "<table border=\"1\" class=\"dataframe\">\n",
              "  <thead>\n",
              "    <tr style=\"text-align: right;\">\n",
              "      <th></th>\n",
              "      <th>Age</th>\n",
              "      <th>Attrition</th>\n",
              "      <th>BusinessTravel</th>\n",
              "      <th>DailyRate</th>\n",
              "      <th>Department</th>\n",
              "      <th>DistanceFromHome</th>\n",
              "      <th>Education</th>\n",
              "      <th>EducationField</th>\n",
              "      <th>EmployeeCount</th>\n",
              "      <th>EmployeeNumber</th>\n",
              "      <th>EnvironmentSatisfaction</th>\n",
              "      <th>Gender</th>\n",
              "      <th>HourlyRate</th>\n",
              "      <th>JobInvolvement</th>\n",
              "      <th>JobLevel</th>\n",
              "      <th>JobRole</th>\n",
              "      <th>JobSatisfaction</th>\n",
              "      <th>MaritalStatus</th>\n",
              "      <th>MonthlyIncome</th>\n",
              "      <th>MonthlyRate</th>\n",
              "      <th>NumCompaniesWorked</th>\n",
              "      <th>OverTime</th>\n",
              "      <th>PercentSalaryHike</th>\n",
              "      <th>PerformanceRating</th>\n",
              "      <th>RelationshipSatisfaction</th>\n",
              "      <th>StandardHours</th>\n",
              "      <th>StockOptionLevel</th>\n",
              "      <th>TotalWorkingYears</th>\n",
              "      <th>TrainingTimesLastYear</th>\n",
              "      <th>WorkLifeBalance</th>\n",
              "      <th>YearsAtCompany</th>\n",
              "      <th>YearsInCurrentRole</th>\n",
              "      <th>YearsSinceLastPromotion</th>\n",
              "      <th>YearsWithCurrManager</th>\n",
              "    </tr>\n",
              "  </thead>\n",
              "  <tbody>\n",
              "    <tr>\n",
              "      <th>0</th>\n",
              "      <td>49</td>\n",
              "      <td>No</td>\n",
              "      <td>Travel_Frequently</td>\n",
              "      <td>279</td>\n",
              "      <td>Research &amp; Development</td>\n",
              "      <td>8</td>\n",
              "      <td>1</td>\n",
              "      <td>Life Sciences</td>\n",
              "      <td>1</td>\n",
              "      <td>2</td>\n",
              "      <td>3</td>\n",
              "      <td>Male</td>\n",
              "      <td>61</td>\n",
              "      <td>2</td>\n",
              "      <td>2</td>\n",
              "      <td>Research Scientist</td>\n",
              "      <td>2</td>\n",
              "      <td>Married</td>\n",
              "      <td>5130</td>\n",
              "      <td>24907</td>\n",
              "      <td>1</td>\n",
              "      <td>No</td>\n",
              "      <td>23</td>\n",
              "      <td>4</td>\n",
              "      <td>4</td>\n",
              "      <td>80</td>\n",
              "      <td>1</td>\n",
              "      <td>10</td>\n",
              "      <td>3</td>\n",
              "      <td>3</td>\n",
              "      <td>10</td>\n",
              "      <td>7</td>\n",
              "      <td>1</td>\n",
              "      <td>7</td>\n",
              "    </tr>\n",
              "    <tr>\n",
              "      <th>1</th>\n",
              "      <td>33</td>\n",
              "      <td>No</td>\n",
              "      <td>Travel_Frequently</td>\n",
              "      <td>1392</td>\n",
              "      <td>Research &amp; Development</td>\n",
              "      <td>3</td>\n",
              "      <td>4</td>\n",
              "      <td>Life Sciences</td>\n",
              "      <td>1</td>\n",
              "      <td>5</td>\n",
              "      <td>4</td>\n",
              "      <td>Female</td>\n",
              "      <td>56</td>\n",
              "      <td>3</td>\n",
              "      <td>1</td>\n",
              "      <td>Research Scientist</td>\n",
              "      <td>3</td>\n",
              "      <td>Married</td>\n",
              "      <td>2909</td>\n",
              "      <td>23159</td>\n",
              "      <td>1</td>\n",
              "      <td>Yes</td>\n",
              "      <td>11</td>\n",
              "      <td>3</td>\n",
              "      <td>3</td>\n",
              "      <td>80</td>\n",
              "      <td>0</td>\n",
              "      <td>8</td>\n",
              "      <td>3</td>\n",
              "      <td>3</td>\n",
              "      <td>8</td>\n",
              "      <td>7</td>\n",
              "      <td>3</td>\n",
              "      <td>0</td>\n",
              "    </tr>\n",
              "    <tr>\n",
              "      <th>2</th>\n",
              "      <td>27</td>\n",
              "      <td>No</td>\n",
              "      <td>Travel_Rarely</td>\n",
              "      <td>591</td>\n",
              "      <td>Research &amp; Development</td>\n",
              "      <td>2</td>\n",
              "      <td>1</td>\n",
              "      <td>Medical</td>\n",
              "      <td>1</td>\n",
              "      <td>7</td>\n",
              "      <td>1</td>\n",
              "      <td>Male</td>\n",
              "      <td>40</td>\n",
              "      <td>3</td>\n",
              "      <td>1</td>\n",
              "      <td>Laboratory Technician</td>\n",
              "      <td>2</td>\n",
              "      <td>Married</td>\n",
              "      <td>3468</td>\n",
              "      <td>16632</td>\n",
              "      <td>9</td>\n",
              "      <td>No</td>\n",
              "      <td>12</td>\n",
              "      <td>3</td>\n",
              "      <td>4</td>\n",
              "      <td>80</td>\n",
              "      <td>1</td>\n",
              "      <td>6</td>\n",
              "      <td>3</td>\n",
              "      <td>3</td>\n",
              "      <td>2</td>\n",
              "      <td>2</td>\n",
              "      <td>2</td>\n",
              "      <td>2</td>\n",
              "    </tr>\n",
              "    <tr>\n",
              "      <th>3</th>\n",
              "      <td>32</td>\n",
              "      <td>No</td>\n",
              "      <td>Travel_Frequently</td>\n",
              "      <td>1005</td>\n",
              "      <td>Research &amp; Development</td>\n",
              "      <td>2</td>\n",
              "      <td>2</td>\n",
              "      <td>Life Sciences</td>\n",
              "      <td>1</td>\n",
              "      <td>8</td>\n",
              "      <td>4</td>\n",
              "      <td>Male</td>\n",
              "      <td>79</td>\n",
              "      <td>3</td>\n",
              "      <td>1</td>\n",
              "      <td>Laboratory Technician</td>\n",
              "      <td>4</td>\n",
              "      <td>Single</td>\n",
              "      <td>3068</td>\n",
              "      <td>11864</td>\n",
              "      <td>0</td>\n",
              "      <td>No</td>\n",
              "      <td>13</td>\n",
              "      <td>3</td>\n",
              "      <td>3</td>\n",
              "      <td>80</td>\n",
              "      <td>0</td>\n",
              "      <td>8</td>\n",
              "      <td>2</td>\n",
              "      <td>2</td>\n",
              "      <td>7</td>\n",
              "      <td>7</td>\n",
              "      <td>3</td>\n",
              "      <td>6</td>\n",
              "    </tr>\n",
              "    <tr>\n",
              "      <th>4</th>\n",
              "      <td>59</td>\n",
              "      <td>No</td>\n",
              "      <td>Travel_Rarely</td>\n",
              "      <td>1324</td>\n",
              "      <td>Research &amp; Development</td>\n",
              "      <td>3</td>\n",
              "      <td>3</td>\n",
              "      <td>Medical</td>\n",
              "      <td>1</td>\n",
              "      <td>10</td>\n",
              "      <td>3</td>\n",
              "      <td>Female</td>\n",
              "      <td>81</td>\n",
              "      <td>4</td>\n",
              "      <td>1</td>\n",
              "      <td>Laboratory Technician</td>\n",
              "      <td>1</td>\n",
              "      <td>Married</td>\n",
              "      <td>2670</td>\n",
              "      <td>9964</td>\n",
              "      <td>4</td>\n",
              "      <td>Yes</td>\n",
              "      <td>20</td>\n",
              "      <td>4</td>\n",
              "      <td>1</td>\n",
              "      <td>80</td>\n",
              "      <td>3</td>\n",
              "      <td>12</td>\n",
              "      <td>3</td>\n",
              "      <td>2</td>\n",
              "      <td>1</td>\n",
              "      <td>0</td>\n",
              "      <td>0</td>\n",
              "      <td>0</td>\n",
              "    </tr>\n",
              "  </tbody>\n",
              "</table>\n",
              "</div>"
            ],
            "text/plain": [
              "   Age Attrition  ... YearsSinceLastPromotion  YearsWithCurrManager\n",
              "0   49        No  ...                       1                     7\n",
              "1   33        No  ...                       3                     0\n",
              "2   27        No  ...                       2                     2\n",
              "3   32        No  ...                       3                     6\n",
              "4   59        No  ...                       0                     0\n",
              "\n",
              "[5 rows x 34 columns]"
            ]
          },
          "metadata": {
            "tags": []
          },
          "execution_count": 39
        }
      ]
    },
    {
      "cell_type": "code",
      "metadata": {
        "id": "HuOXwbe5DgK6",
        "colab_type": "code",
        "colab": {
          "base_uri": "https://localhost:8080/",
          "height": 34
        },
        "outputId": "14e456be-30de-4709-c222-415af1c241df"
      },
      "source": [
        "# Print shape of the dataframe\n",
        "data.shape"
      ],
      "execution_count": 40,
      "outputs": [
        {
          "output_type": "execute_result",
          "data": {
            "text/plain": [
              "(1270, 34)"
            ]
          },
          "metadata": {
            "tags": []
          },
          "execution_count": 40
        }
      ]
    },
    {
      "cell_type": "code",
      "metadata": {
        "id": "vDoz03QvbkxP",
        "colab_type": "code",
        "colab": {}
      },
      "source": [
        "X=data.loc[:,data.columns!='Attrition']\n",
        "y=data['Attrition']"
      ],
      "execution_count": 41,
      "outputs": []
    },
    {
      "cell_type": "code",
      "metadata": {
        "id": "tGflY-EsDgK9",
        "colab_type": "code",
        "colab": {
          "base_uri": "https://localhost:8080/",
          "height": 731
        },
        "outputId": "1d578104-19bf-40d5-c494-bc5e09e7af12"
      },
      "source": [
        "# Print info about dataset\n",
        "print(data.info())"
      ],
      "execution_count": 42,
      "outputs": [
        {
          "output_type": "stream",
          "text": [
            "<class 'pandas.core.frame.DataFrame'>\n",
            "RangeIndex: 1270 entries, 0 to 1269\n",
            "Data columns (total 34 columns):\n",
            " #   Column                    Non-Null Count  Dtype \n",
            "---  ------                    --------------  ----- \n",
            " 0   Age                       1270 non-null   int64 \n",
            " 1   Attrition                 1270 non-null   object\n",
            " 2   BusinessTravel            1270 non-null   object\n",
            " 3   DailyRate                 1270 non-null   int64 \n",
            " 4   Department                1270 non-null   object\n",
            " 5   DistanceFromHome          1270 non-null   int64 \n",
            " 6   Education                 1270 non-null   int64 \n",
            " 7   EducationField            1270 non-null   object\n",
            " 8   EmployeeCount             1270 non-null   int64 \n",
            " 9   EmployeeNumber            1270 non-null   int64 \n",
            " 10  EnvironmentSatisfaction   1270 non-null   int64 \n",
            " 11  Gender                    1270 non-null   object\n",
            " 12  HourlyRate                1270 non-null   int64 \n",
            " 13  JobInvolvement            1270 non-null   int64 \n",
            " 14  JobLevel                  1270 non-null   int64 \n",
            " 15  JobRole                   1270 non-null   object\n",
            " 16  JobSatisfaction           1270 non-null   int64 \n",
            " 17  MaritalStatus             1270 non-null   object\n",
            " 18  MonthlyIncome             1270 non-null   int64 \n",
            " 19  MonthlyRate               1270 non-null   int64 \n",
            " 20  NumCompaniesWorked        1270 non-null   int64 \n",
            " 21  OverTime                  1270 non-null   object\n",
            " 22  PercentSalaryHike         1270 non-null   int64 \n",
            " 23  PerformanceRating         1270 non-null   int64 \n",
            " 24  RelationshipSatisfaction  1270 non-null   int64 \n",
            " 25  StandardHours             1270 non-null   int64 \n",
            " 26  StockOptionLevel          1270 non-null   int64 \n",
            " 27  TotalWorkingYears         1270 non-null   int64 \n",
            " 28  TrainingTimesLastYear     1270 non-null   int64 \n",
            " 29  WorkLifeBalance           1270 non-null   int64 \n",
            " 30  YearsAtCompany            1270 non-null   int64 \n",
            " 31  YearsInCurrentRole        1270 non-null   int64 \n",
            " 32  YearsSinceLastPromotion   1270 non-null   int64 \n",
            " 33  YearsWithCurrManager      1270 non-null   int64 \n",
            "dtypes: int64(26), object(8)\n",
            "memory usage: 337.5+ KB\n",
            "None\n"
          ],
          "name": "stdout"
        }
      ]
    },
    {
      "cell_type": "code",
      "metadata": {
        "id": "LKzXk1u7DgK_",
        "colab_type": "code",
        "colab": {
          "base_uri": "https://localhost:8080/",
          "height": 612
        },
        "outputId": "9a0af3e8-ff2b-48c7-98bb-592444bc762a"
      },
      "source": [
        "# Fill Missing Values (if any)\n",
        "data.isna().any()"
      ],
      "execution_count": 43,
      "outputs": [
        {
          "output_type": "execute_result",
          "data": {
            "text/plain": [
              "Age                         False\n",
              "Attrition                   False\n",
              "BusinessTravel              False\n",
              "DailyRate                   False\n",
              "Department                  False\n",
              "DistanceFromHome            False\n",
              "Education                   False\n",
              "EducationField              False\n",
              "EmployeeCount               False\n",
              "EmployeeNumber              False\n",
              "EnvironmentSatisfaction     False\n",
              "Gender                      False\n",
              "HourlyRate                  False\n",
              "JobInvolvement              False\n",
              "JobLevel                    False\n",
              "JobRole                     False\n",
              "JobSatisfaction             False\n",
              "MaritalStatus               False\n",
              "MonthlyIncome               False\n",
              "MonthlyRate                 False\n",
              "NumCompaniesWorked          False\n",
              "OverTime                    False\n",
              "PercentSalaryHike           False\n",
              "PerformanceRating           False\n",
              "RelationshipSatisfaction    False\n",
              "StandardHours               False\n",
              "StockOptionLevel            False\n",
              "TotalWorkingYears           False\n",
              "TrainingTimesLastYear       False\n",
              "WorkLifeBalance             False\n",
              "YearsAtCompany              False\n",
              "YearsInCurrentRole          False\n",
              "YearsSinceLastPromotion     False\n",
              "YearsWithCurrManager        False\n",
              "dtype: bool"
            ]
          },
          "metadata": {
            "tags": []
          },
          "execution_count": 43
        }
      ]
    },
    {
      "cell_type": "code",
      "metadata": {
        "id": "RKHTrPIlDgLC",
        "colab_type": "code",
        "colab": {}
      },
      "source": [
        "# One Hot Encode Categorical Columns (if required)\n",
        "for col in ['BusinessTravel','Department','EducationField','Gender','JobRole','MaritalStatus','OverTime']:\n",
        "  X=pd.concat([X,pd.get_dummies(X[col],prefix=col)],axis=1)\n",
        "  X.drop([col],axis=1, inplace=True)"
      ],
      "execution_count": 44,
      "outputs": []
    },
    {
      "cell_type": "code",
      "metadata": {
        "id": "0qOg_Th0XZOI",
        "colab_type": "code",
        "colab": {}
      },
      "source": [
        "train_columns=list(X.columns)"
      ],
      "execution_count": 45,
      "outputs": []
    },
    {
      "cell_type": "code",
      "metadata": {
        "id": "xMhMw28zDgLF",
        "colab_type": "code",
        "colab": {}
      },
      "source": [
        "# Normalize/Standardize numerical columns\n",
        "minmaxScaler=MinMaxScaler()\n",
        "X_raw=minmaxScaler.fit_transform(X.to_numpy())\n",
        "X=pd.DataFrame(data=X_raw,columns=train_columns)"
      ],
      "execution_count": 46,
      "outputs": []
    },
    {
      "cell_type": "code",
      "metadata": {
        "id": "W_Im4-RkanRf",
        "colab_type": "code",
        "colab": {
          "base_uri": "https://localhost:8080/",
          "height": 241
        },
        "outputId": "703540d3-a3cd-4123-fbbc-a759feb6f12d"
      },
      "source": [
        "X.head()"
      ],
      "execution_count": 47,
      "outputs": [
        {
          "output_type": "execute_result",
          "data": {
            "text/html": [
              "<div>\n",
              "<style scoped>\n",
              "    .dataframe tbody tr th:only-of-type {\n",
              "        vertical-align: middle;\n",
              "    }\n",
              "\n",
              "    .dataframe tbody tr th {\n",
              "        vertical-align: top;\n",
              "    }\n",
              "\n",
              "    .dataframe thead th {\n",
              "        text-align: right;\n",
              "    }\n",
              "</style>\n",
              "<table border=\"1\" class=\"dataframe\">\n",
              "  <thead>\n",
              "    <tr style=\"text-align: right;\">\n",
              "      <th></th>\n",
              "      <th>Age</th>\n",
              "      <th>DailyRate</th>\n",
              "      <th>DistanceFromHome</th>\n",
              "      <th>Education</th>\n",
              "      <th>EmployeeCount</th>\n",
              "      <th>EmployeeNumber</th>\n",
              "      <th>EnvironmentSatisfaction</th>\n",
              "      <th>HourlyRate</th>\n",
              "      <th>JobInvolvement</th>\n",
              "      <th>JobLevel</th>\n",
              "      <th>JobSatisfaction</th>\n",
              "      <th>MonthlyIncome</th>\n",
              "      <th>MonthlyRate</th>\n",
              "      <th>NumCompaniesWorked</th>\n",
              "      <th>PercentSalaryHike</th>\n",
              "      <th>PerformanceRating</th>\n",
              "      <th>RelationshipSatisfaction</th>\n",
              "      <th>StandardHours</th>\n",
              "      <th>StockOptionLevel</th>\n",
              "      <th>TotalWorkingYears</th>\n",
              "      <th>TrainingTimesLastYear</th>\n",
              "      <th>WorkLifeBalance</th>\n",
              "      <th>YearsAtCompany</th>\n",
              "      <th>YearsInCurrentRole</th>\n",
              "      <th>YearsSinceLastPromotion</th>\n",
              "      <th>YearsWithCurrManager</th>\n",
              "      <th>BusinessTravel_Non-Travel</th>\n",
              "      <th>BusinessTravel_Travel_Frequently</th>\n",
              "      <th>BusinessTravel_Travel_Rarely</th>\n",
              "      <th>Department_Human Resources</th>\n",
              "      <th>Department_Research &amp; Development</th>\n",
              "      <th>Department_Sales</th>\n",
              "      <th>EducationField_Human Resources</th>\n",
              "      <th>EducationField_Life Sciences</th>\n",
              "      <th>EducationField_Marketing</th>\n",
              "      <th>EducationField_Medical</th>\n",
              "      <th>EducationField_Other</th>\n",
              "      <th>EducationField_Technical Degree</th>\n",
              "      <th>Gender_Female</th>\n",
              "      <th>Gender_Male</th>\n",
              "      <th>JobRole_Healthcare Representative</th>\n",
              "      <th>JobRole_Human Resources</th>\n",
              "      <th>JobRole_Laboratory Technician</th>\n",
              "      <th>JobRole_Manager</th>\n",
              "      <th>JobRole_Manufacturing Director</th>\n",
              "      <th>JobRole_Research Director</th>\n",
              "      <th>JobRole_Research Scientist</th>\n",
              "      <th>JobRole_Sales Executive</th>\n",
              "      <th>JobRole_Sales Representative</th>\n",
              "      <th>MaritalStatus_Divorced</th>\n",
              "      <th>MaritalStatus_Married</th>\n",
              "      <th>MaritalStatus_Single</th>\n",
              "      <th>OverTime_No</th>\n",
              "      <th>OverTime_Yes</th>\n",
              "    </tr>\n",
              "  </thead>\n",
              "  <tbody>\n",
              "    <tr>\n",
              "      <th>0</th>\n",
              "      <td>0.738095</td>\n",
              "      <td>0.126700</td>\n",
              "      <td>0.250000</td>\n",
              "      <td>0.00</td>\n",
              "      <td>0.0</td>\n",
              "      <td>0.000000</td>\n",
              "      <td>0.666667</td>\n",
              "      <td>0.442857</td>\n",
              "      <td>0.333333</td>\n",
              "      <td>0.25</td>\n",
              "      <td>0.333333</td>\n",
              "      <td>0.215273</td>\n",
              "      <td>0.916074</td>\n",
              "      <td>0.111111</td>\n",
              "      <td>0.857143</td>\n",
              "      <td>1.0</td>\n",
              "      <td>1.000000</td>\n",
              "      <td>0.0</td>\n",
              "      <td>0.333333</td>\n",
              "      <td>0.263158</td>\n",
              "      <td>0.500000</td>\n",
              "      <td>0.666667</td>\n",
              "      <td>0.270270</td>\n",
              "      <td>0.388889</td>\n",
              "      <td>0.066667</td>\n",
              "      <td>0.411765</td>\n",
              "      <td>0.0</td>\n",
              "      <td>1.0</td>\n",
              "      <td>0.0</td>\n",
              "      <td>0.0</td>\n",
              "      <td>1.0</td>\n",
              "      <td>0.0</td>\n",
              "      <td>0.0</td>\n",
              "      <td>1.0</td>\n",
              "      <td>0.0</td>\n",
              "      <td>0.0</td>\n",
              "      <td>0.0</td>\n",
              "      <td>0.0</td>\n",
              "      <td>0.0</td>\n",
              "      <td>1.0</td>\n",
              "      <td>0.0</td>\n",
              "      <td>0.0</td>\n",
              "      <td>0.0</td>\n",
              "      <td>0.0</td>\n",
              "      <td>0.0</td>\n",
              "      <td>0.0</td>\n",
              "      <td>1.0</td>\n",
              "      <td>0.0</td>\n",
              "      <td>0.0</td>\n",
              "      <td>0.0</td>\n",
              "      <td>1.0</td>\n",
              "      <td>0.0</td>\n",
              "      <td>1.0</td>\n",
              "      <td>0.0</td>\n",
              "    </tr>\n",
              "    <tr>\n",
              "      <th>1</th>\n",
              "      <td>0.357143</td>\n",
              "      <td>0.923407</td>\n",
              "      <td>0.071429</td>\n",
              "      <td>0.75</td>\n",
              "      <td>0.0</td>\n",
              "      <td>0.001452</td>\n",
              "      <td>1.000000</td>\n",
              "      <td>0.371429</td>\n",
              "      <td>0.666667</td>\n",
              "      <td>0.00</td>\n",
              "      <td>0.666667</td>\n",
              "      <td>0.098058</td>\n",
              "      <td>0.845882</td>\n",
              "      <td>0.111111</td>\n",
              "      <td>0.000000</td>\n",
              "      <td>0.0</td>\n",
              "      <td>0.666667</td>\n",
              "      <td>0.0</td>\n",
              "      <td>0.000000</td>\n",
              "      <td>0.210526</td>\n",
              "      <td>0.500000</td>\n",
              "      <td>0.666667</td>\n",
              "      <td>0.216216</td>\n",
              "      <td>0.388889</td>\n",
              "      <td>0.200000</td>\n",
              "      <td>0.000000</td>\n",
              "      <td>0.0</td>\n",
              "      <td>1.0</td>\n",
              "      <td>0.0</td>\n",
              "      <td>0.0</td>\n",
              "      <td>1.0</td>\n",
              "      <td>0.0</td>\n",
              "      <td>0.0</td>\n",
              "      <td>1.0</td>\n",
              "      <td>0.0</td>\n",
              "      <td>0.0</td>\n",
              "      <td>0.0</td>\n",
              "      <td>0.0</td>\n",
              "      <td>1.0</td>\n",
              "      <td>0.0</td>\n",
              "      <td>0.0</td>\n",
              "      <td>0.0</td>\n",
              "      <td>0.0</td>\n",
              "      <td>0.0</td>\n",
              "      <td>0.0</td>\n",
              "      <td>0.0</td>\n",
              "      <td>1.0</td>\n",
              "      <td>0.0</td>\n",
              "      <td>0.0</td>\n",
              "      <td>0.0</td>\n",
              "      <td>1.0</td>\n",
              "      <td>0.0</td>\n",
              "      <td>0.0</td>\n",
              "      <td>1.0</td>\n",
              "    </tr>\n",
              "    <tr>\n",
              "      <th>2</th>\n",
              "      <td>0.214286</td>\n",
              "      <td>0.350036</td>\n",
              "      <td>0.035714</td>\n",
              "      <td>0.00</td>\n",
              "      <td>0.0</td>\n",
              "      <td>0.002420</td>\n",
              "      <td>0.000000</td>\n",
              "      <td>0.142857</td>\n",
              "      <td>0.666667</td>\n",
              "      <td>0.00</td>\n",
              "      <td>0.333333</td>\n",
              "      <td>0.127560</td>\n",
              "      <td>0.583785</td>\n",
              "      <td>1.000000</td>\n",
              "      <td>0.071429</td>\n",
              "      <td>0.0</td>\n",
              "      <td>1.000000</td>\n",
              "      <td>0.0</td>\n",
              "      <td>0.333333</td>\n",
              "      <td>0.157895</td>\n",
              "      <td>0.500000</td>\n",
              "      <td>0.666667</td>\n",
              "      <td>0.054054</td>\n",
              "      <td>0.111111</td>\n",
              "      <td>0.133333</td>\n",
              "      <td>0.117647</td>\n",
              "      <td>0.0</td>\n",
              "      <td>0.0</td>\n",
              "      <td>1.0</td>\n",
              "      <td>0.0</td>\n",
              "      <td>1.0</td>\n",
              "      <td>0.0</td>\n",
              "      <td>0.0</td>\n",
              "      <td>0.0</td>\n",
              "      <td>0.0</td>\n",
              "      <td>1.0</td>\n",
              "      <td>0.0</td>\n",
              "      <td>0.0</td>\n",
              "      <td>0.0</td>\n",
              "      <td>1.0</td>\n",
              "      <td>0.0</td>\n",
              "      <td>0.0</td>\n",
              "      <td>1.0</td>\n",
              "      <td>0.0</td>\n",
              "      <td>0.0</td>\n",
              "      <td>0.0</td>\n",
              "      <td>0.0</td>\n",
              "      <td>0.0</td>\n",
              "      <td>0.0</td>\n",
              "      <td>0.0</td>\n",
              "      <td>1.0</td>\n",
              "      <td>0.0</td>\n",
              "      <td>1.0</td>\n",
              "      <td>0.0</td>\n",
              "    </tr>\n",
              "    <tr>\n",
              "      <th>3</th>\n",
              "      <td>0.333333</td>\n",
              "      <td>0.646385</td>\n",
              "      <td>0.035714</td>\n",
              "      <td>0.25</td>\n",
              "      <td>0.0</td>\n",
              "      <td>0.002904</td>\n",
              "      <td>1.000000</td>\n",
              "      <td>0.700000</td>\n",
              "      <td>0.666667</td>\n",
              "      <td>0.00</td>\n",
              "      <td>1.000000</td>\n",
              "      <td>0.106449</td>\n",
              "      <td>0.392322</td>\n",
              "      <td>0.000000</td>\n",
              "      <td>0.142857</td>\n",
              "      <td>0.0</td>\n",
              "      <td>0.666667</td>\n",
              "      <td>0.0</td>\n",
              "      <td>0.000000</td>\n",
              "      <td>0.210526</td>\n",
              "      <td>0.333333</td>\n",
              "      <td>0.333333</td>\n",
              "      <td>0.189189</td>\n",
              "      <td>0.388889</td>\n",
              "      <td>0.200000</td>\n",
              "      <td>0.352941</td>\n",
              "      <td>0.0</td>\n",
              "      <td>1.0</td>\n",
              "      <td>0.0</td>\n",
              "      <td>0.0</td>\n",
              "      <td>1.0</td>\n",
              "      <td>0.0</td>\n",
              "      <td>0.0</td>\n",
              "      <td>1.0</td>\n",
              "      <td>0.0</td>\n",
              "      <td>0.0</td>\n",
              "      <td>0.0</td>\n",
              "      <td>0.0</td>\n",
              "      <td>0.0</td>\n",
              "      <td>1.0</td>\n",
              "      <td>0.0</td>\n",
              "      <td>0.0</td>\n",
              "      <td>1.0</td>\n",
              "      <td>0.0</td>\n",
              "      <td>0.0</td>\n",
              "      <td>0.0</td>\n",
              "      <td>0.0</td>\n",
              "      <td>0.0</td>\n",
              "      <td>0.0</td>\n",
              "      <td>0.0</td>\n",
              "      <td>0.0</td>\n",
              "      <td>1.0</td>\n",
              "      <td>1.0</td>\n",
              "      <td>0.0</td>\n",
              "    </tr>\n",
              "    <tr>\n",
              "      <th>4</th>\n",
              "      <td>0.976190</td>\n",
              "      <td>0.874732</td>\n",
              "      <td>0.071429</td>\n",
              "      <td>0.50</td>\n",
              "      <td>0.0</td>\n",
              "      <td>0.003872</td>\n",
              "      <td>0.666667</td>\n",
              "      <td>0.728571</td>\n",
              "      <td>1.000000</td>\n",
              "      <td>0.00</td>\n",
              "      <td>0.000000</td>\n",
              "      <td>0.085444</td>\n",
              "      <td>0.316026</td>\n",
              "      <td>0.444444</td>\n",
              "      <td>0.642857</td>\n",
              "      <td>1.0</td>\n",
              "      <td>0.000000</td>\n",
              "      <td>0.0</td>\n",
              "      <td>1.000000</td>\n",
              "      <td>0.315789</td>\n",
              "      <td>0.500000</td>\n",
              "      <td>0.333333</td>\n",
              "      <td>0.027027</td>\n",
              "      <td>0.000000</td>\n",
              "      <td>0.000000</td>\n",
              "      <td>0.000000</td>\n",
              "      <td>0.0</td>\n",
              "      <td>0.0</td>\n",
              "      <td>1.0</td>\n",
              "      <td>0.0</td>\n",
              "      <td>1.0</td>\n",
              "      <td>0.0</td>\n",
              "      <td>0.0</td>\n",
              "      <td>0.0</td>\n",
              "      <td>0.0</td>\n",
              "      <td>1.0</td>\n",
              "      <td>0.0</td>\n",
              "      <td>0.0</td>\n",
              "      <td>1.0</td>\n",
              "      <td>0.0</td>\n",
              "      <td>0.0</td>\n",
              "      <td>0.0</td>\n",
              "      <td>1.0</td>\n",
              "      <td>0.0</td>\n",
              "      <td>0.0</td>\n",
              "      <td>0.0</td>\n",
              "      <td>0.0</td>\n",
              "      <td>0.0</td>\n",
              "      <td>0.0</td>\n",
              "      <td>0.0</td>\n",
              "      <td>1.0</td>\n",
              "      <td>0.0</td>\n",
              "      <td>0.0</td>\n",
              "      <td>1.0</td>\n",
              "    </tr>\n",
              "  </tbody>\n",
              "</table>\n",
              "</div>"
            ],
            "text/plain": [
              "        Age  DailyRate  ...  OverTime_No  OverTime_Yes\n",
              "0  0.738095   0.126700  ...          1.0           0.0\n",
              "1  0.357143   0.923407  ...          0.0           1.0\n",
              "2  0.214286   0.350036  ...          1.0           0.0\n",
              "3  0.333333   0.646385  ...          1.0           0.0\n",
              "4  0.976190   0.874732  ...          0.0           1.0\n",
              "\n",
              "[5 rows x 54 columns]"
            ]
          },
          "metadata": {
            "tags": []
          },
          "execution_count": 47
        }
      ]
    },
    {
      "cell_type": "code",
      "metadata": {
        "id": "knWfIDyWDgLH",
        "colab_type": "code",
        "colab": {}
      },
      "source": [
        "#Define X and y"
      ],
      "execution_count": 48,
      "outputs": []
    },
    {
      "cell_type": "code",
      "metadata": {
        "id": "Jw4wGDp6DgLK",
        "colab_type": "code",
        "colab": {}
      },
      "source": [
        "# Split the data (60/40)\n",
        "X_train, X_test, y_train, y_test = train_test_split(X, y, test_size=0.3, random_state=42)"
      ],
      "execution_count": 49,
      "outputs": []
    },
    {
      "cell_type": "markdown",
      "metadata": {
        "id": "YeuWexv_DgLN",
        "colab_type": "text"
      },
      "source": [
        "# Section 1"
      ]
    },
    {
      "cell_type": "markdown",
      "metadata": {
        "id": "OSENAoPDDgLN",
        "colab_type": "text"
      },
      "source": [
        "In this section, we will be introducing you to a practical visualization of the concepts of Overfitting and Underfitting alongside Cross Validation as a metric to measure performance of your dataset"
      ]
    },
    {
      "cell_type": "markdown",
      "metadata": {
        "id": "_urcN_kzDgLO",
        "colab_type": "text"
      },
      "source": [
        "### Overfitting"
      ]
    },
    {
      "cell_type": "markdown",
      "metadata": {
        "id": "ZR_hrM_cDgLO",
        "colab_type": "text"
      },
      "source": [
        "Let's take a look at the accuracies we get when the models overfit (LR and DT)"
      ]
    },
    {
      "cell_type": "code",
      "metadata": {
        "id": "gvM0cZNbDgLP",
        "colab_type": "code",
        "colab": {}
      },
      "source": [
        "#Defining the models \n",
        "lr=LogisticRegression(class_weight='balanced',penalty='none',fit_intercept=False)\n",
        "dt=DecisionTreeClassifier()"
      ],
      "execution_count": 50,
      "outputs": []
    },
    {
      "cell_type": "code",
      "metadata": {
        "id": "Jfp7lPWKDgLR",
        "colab_type": "code",
        "colab": {
          "base_uri": "https://localhost:8080/",
          "height": 119
        },
        "outputId": "6176cf89-4119-4f02-cf3d-a30db9a35d84"
      },
      "source": [
        "#Fit the models\n",
        "lr.fit(X_train,y_train)\n",
        "dt.fit(X_train,y_train)"
      ],
      "execution_count": 51,
      "outputs": [
        {
          "output_type": "execute_result",
          "data": {
            "text/plain": [
              "DecisionTreeClassifier(ccp_alpha=0.0, class_weight=None, criterion='gini',\n",
              "                       max_depth=None, max_features=None, max_leaf_nodes=None,\n",
              "                       min_impurity_decrease=0.0, min_impurity_split=None,\n",
              "                       min_samples_leaf=1, min_samples_split=2,\n",
              "                       min_weight_fraction_leaf=0.0, presort='deprecated',\n",
              "                       random_state=None, splitter='best')"
            ]
          },
          "metadata": {
            "tags": []
          },
          "execution_count": 51
        }
      ]
    },
    {
      "cell_type": "code",
      "metadata": {
        "id": "NSaiqZxBDgLU",
        "colab_type": "code",
        "colab": {}
      },
      "source": [
        "#Print the accuracies of the training and test splits for both models\n",
        "\n",
        "y_train_lr=lr.predict(X_train)\n",
        "y_train_dt=dt.predict(X_train)\n",
        "\n",
        "y_test_lr=lr.predict(X_test)\n",
        "y_test_dt=dt.predict(X_test)"
      ],
      "execution_count": 52,
      "outputs": []
    },
    {
      "cell_type": "code",
      "metadata": {
        "id": "Bc_XABMhDgLW",
        "colab_type": "code",
        "colab": {
          "base_uri": "https://localhost:8080/",
          "height": 136
        },
        "outputId": "c7d971dd-3b30-4abb-cd68-b66c86f07ec0"
      },
      "source": [
        "print(\"----------LOGISTIC REGRESSION----------\")\n",
        "print(\"Accuracy of Training Split :\",accuracy_score(y_train,y_train_lr))\n",
        "print(\"Accuracy of Test Split :\",accuracy_score(y_test,y_test_lr))\n",
        "print()\n",
        "print(\"----------DECISION TREE----------\")\n",
        "print(\"Accuracy of Training Split :\",accuracy_score(y_train,y_train_dt))\n",
        "print(\"Accuracy of Test Split :\",accuracy_score(y_test,y_test_dt))"
      ],
      "execution_count": 53,
      "outputs": [
        {
          "output_type": "stream",
          "text": [
            "----------LOGISTIC REGRESSION----------\n",
            "Accuracy of Training Split : 0.983127109111361\n",
            "Accuracy of Test Split : 0.94750656167979\n",
            "\n",
            "----------DECISION TREE----------\n",
            "Accuracy of Training Split : 1.0\n",
            "Accuracy of Test Split : 0.94750656167979\n"
          ],
          "name": "stdout"
        }
      ]
    },
    {
      "cell_type": "markdown",
      "metadata": {
        "id": "tWB3oQdNDgLZ",
        "colab_type": "text"
      },
      "source": [
        "As we could see above, even though both models perform very well on the training set, they fail to show the same promise for the testing result. Now let's visualize our findings.\n",
        "\n",
        "<strong>Note</strong> - For cross validation, one can also use KFolds or StratifiedKFolds"
      ]
    },
    {
      "cell_type": "markdown",
      "metadata": {
        "id": "Y3QHCwZ7DgLZ",
        "colab_type": "text"
      },
      "source": [
        "We are splitting the original X into 10 train/test splits and\n",
        "reinitializing our models and thereby applying them onto the splits for evaluation"
      ]
    },
    {
      "cell_type": "code",
      "metadata": {
        "id": "g07BfqefDgLa",
        "colab_type": "code",
        "colab": {}
      },
      "source": [
        "#Cross Validation splitting for evaluation of Logistic Regression\n",
        "cv = ShuffleSplit(n_splits=10, test_size=0.2, random_state=0)"
      ],
      "execution_count": 54,
      "outputs": []
    },
    {
      "cell_type": "markdown",
      "metadata": {
        "id": "0sdjHlkjDgLd",
        "colab_type": "text"
      },
      "source": [
        "We then feed in X, y and the splits into our plot_learning_curve function which is user-defined and already imported"
      ]
    },
    {
      "cell_type": "code",
      "metadata": {
        "id": "kuuxP134DgLd",
        "colab_type": "code",
        "colab": {
          "base_uri": "https://localhost:8080/",
          "height": 892
        },
        "outputId": "20b53295-d984-4baa-b311-0380a68fd803"
      },
      "source": [
        "#Model Estimator\n",
        "estimator = LogisticRegression(class_weight='balanced',penalty='none')\n",
        "\n",
        "#Plot of Learning Curve (over original X and then cross val)\n",
        "plt.style.use(\"seaborn\")\n",
        "fig, axes = plt.subplots(3, 1, figsize=(10, 15))\n",
        "title = \"Learning Curves (Logistic Regression)\"\n",
        "plot_learning_curve(estimator, title, X, y, axes=axes, ylim=(0.7, 1.01),\n",
        "                    cv=cv, n_jobs=2)"
      ],
      "execution_count": 55,
      "outputs": [
        {
          "output_type": "display_data",
          "data": {
            "image/png": "[encoded data removed]",
            "text/plain": [
              "<Figure size 720x1080 with 3 Axes>"
            ]
          },
          "metadata": {
            "tags": []
          }
        }
      ]
    },
    {
      "cell_type": "markdown",
      "metadata": {
        "id": "eLcvM9RVDgLg",
        "colab_type": "text"
      },
      "source": [
        "We do the same for Decision Tree"
      ]
    },
    {
      "cell_type": "code",
      "metadata": {
        "id": "-jLe2DflDgLg",
        "colab_type": "code",
        "colab": {}
      },
      "source": [
        "#Cross Validation splitting for evaluation of Decision Tree\n",
        "cv = ShuffleSplit(n_splits=10, test_size=0.2, random_state=0)"
      ],
      "execution_count": 56,
      "outputs": []
    },
    {
      "cell_type": "code",
      "metadata": {
        "id": "ubVwgCCtDgLi",
        "colab_type": "code",
        "colab": {}
      },
      "source": [
        "#Model Estimator\n",
        "estimator = DecisionTreeClassifier()"
      ],
      "execution_count": 57,
      "outputs": []
    },
    {
      "cell_type": "code",
      "metadata": {
        "id": "rmmyD2I7DgLl",
        "colab_type": "code",
        "colab": {
          "base_uri": "https://localhost:8080/",
          "height": 892
        },
        "outputId": "2f49af4c-4689-421f-a8f3-91a613a12e2b"
      },
      "source": [
        "#Plot of Learning Curve (over original X and then cross val)\n",
        "title = r\"Learning Curves (Decision Tree)\"\n",
        "plt.style.use(\"seaborn\")\n",
        "fig, axes = plt.subplots(3, 1, figsize=(10, 15))\n",
        "plot_learning_curve(estimator, title, X, y, axes=axes, ylim=(0.7, 1.01),\n",
        "                    cv=cv, n_jobs=2)"
      ],
      "execution_count": 58,
      "outputs": [
        {
          "output_type": "display_data",
          "data": {
            "image/png": "[encoded data removed]",
            "text/plain": [
              "<Figure size 720x1080 with 3 Axes>"
            ]
          },
          "metadata": {
            "tags": []
          }
        }
      ]
    },
    {
      "cell_type": "markdown",
      "metadata": {
        "id": "BvzvmnsHDgLn",
        "colab_type": "text"
      },
      "source": [
        "### Underfitting"
      ]
    },
    {
      "cell_type": "markdown",
      "metadata": {
        "id": "x6KJ2JAVDgLo",
        "colab_type": "text"
      },
      "source": [
        "Let's take a look at the accuracies we get when the models underfit (LR and DT)"
      ]
    },
    {
      "cell_type": "code",
      "metadata": {
        "id": "8GL9TlilDgLo",
        "colab_type": "code",
        "colab": {}
      },
      "source": [
        "#Define the models\n",
        "lr=LogisticRegression(fit_intercept=False,class_weight='balanced',C=0.001)\n",
        "dt=DecisionTreeClassifier(max_leaf_nodes=2,max_features='log2',class_weight='balanced')"
      ],
      "execution_count": 59,
      "outputs": []
    },
    {
      "cell_type": "code",
      "metadata": {
        "id": "AMuYYbjVDgLr",
        "colab_type": "code",
        "colab": {
          "base_uri": "https://localhost:8080/",
          "height": 119
        },
        "outputId": "e28410ff-938f-46a5-ce47-ab63db222b42"
      },
      "source": [
        "#Fit the models\n",
        "lr.fit(X_train,y_train)\n",
        "dt.fit(X_train,y_train)"
      ],
      "execution_count": 60,
      "outputs": [
        {
          "output_type": "execute_result",
          "data": {
            "text/plain": [
              "DecisionTreeClassifier(ccp_alpha=0.0, class_weight='balanced', criterion='gini',\n",
              "                       max_depth=None, max_features='log2', max_leaf_nodes=2,\n",
              "                       min_impurity_decrease=0.0, min_impurity_split=None,\n",
              "                       min_samples_leaf=1, min_samples_split=2,\n",
              "                       min_weight_fraction_leaf=0.0, presort='deprecated',\n",
              "                       random_state=None, splitter='best')"
            ]
          },
          "metadata": {
            "tags": []
          },
          "execution_count": 60
        }
      ]
    },
    {
      "cell_type": "code",
      "metadata": {
        "id": "Xpqv0Y1VDgLt",
        "colab_type": "code",
        "colab": {}
      },
      "source": [
        "#Print the accuracies of the training and test splits for both models\n",
        "y_train_lr=lr.predict(X_train)\n",
        "y_train_dt=dt.predict(X_train)\n",
        "\n",
        "y_test_lr=lr.predict(X_test)\n",
        "y_test_dt=dt.predict(X_test)"
      ],
      "execution_count": 61,
      "outputs": []
    },
    {
      "cell_type": "code",
      "metadata": {
        "id": "n7Vpx-76DgLw",
        "colab_type": "code",
        "colab": {
          "base_uri": "https://localhost:8080/",
          "height": 136
        },
        "outputId": "0b75aee8-90ce-4581-b5c0-afb673ee062b"
      },
      "source": [
        "print(\"----------LOGISTIC REGRESSION----------\")\n",
        "print(\"Accuracy of Training Split :\",accuracy_score(y_train,y_train_lr))\n",
        "print(\"Accuracy of Test Split :\",accuracy_score(y_test,y_test_lr))\n",
        "print()\n",
        "print(\"----------DECISION TREE----------\")\n",
        "print(\"Accuracy of Training Split :\",accuracy_score(y_train,y_train_dt))\n",
        "print(\"Accuracy of Test Split :\",accuracy_score(y_test,y_test_dt))"
      ],
      "execution_count": 62,
      "outputs": [
        {
          "output_type": "stream",
          "text": [
            "----------LOGISTIC REGRESSION----------\n",
            "Accuracy of Training Split : 0.8222722159730034\n",
            "Accuracy of Test Split : 0.821522309711286\n",
            "\n",
            "----------DECISION TREE----------\n",
            "Accuracy of Training Split : 0.6659167604049494\n",
            "Accuracy of Test Split : 0.6797900262467191\n"
          ],
          "name": "stdout"
        }
      ]
    },
    {
      "cell_type": "markdown",
      "metadata": {
        "id": "HkJCpSbjDgLz",
        "colab_type": "text"
      },
      "source": [
        "As we could see above, both models perform poorly as far as training is concerned. As a result, we also perform poorly on the testing set. This happened because of the hyperparameters set in a specific way. Now, let's visualize this"
      ]
    },
    {
      "cell_type": "code",
      "metadata": {
        "id": "cfSAamssDgLz",
        "colab_type": "code",
        "colab": {}
      },
      "source": [
        "#Cross Validation splitting for evaluation of Logistic Regression\n",
        "cv = ShuffleSplit(n_splits=10, test_size=0.2, random_state=0)"
      ],
      "execution_count": 63,
      "outputs": []
    },
    {
      "cell_type": "code",
      "metadata": {
        "id": "JEnUNx4YDgL1",
        "colab_type": "code",
        "colab": {
          "base_uri": "https://localhost:8080/",
          "height": 892
        },
        "outputId": "00f38e43-3764-464d-e4ca-75b339f822a0"
      },
      "source": [
        "#Model Estimator\n",
        "estimator = LogisticRegression(fit_intercept=False,class_weight='balanced',C=0.001)\n",
        "\n",
        "#Plot of Learning Curve (over original X and then cross val)\n",
        "fig, axes = plt.subplots(3, 1, figsize=(10, 15))\n",
        "title = \"Learning Curves (Logistic Regression)\"\n",
        "plot_learning_curve(estimator, title, X, y, axes=axes, ylim=(0.1, 1.01),\n",
        "                    cv=cv, n_jobs=2)"
      ],
      "execution_count": 64,
      "outputs": [
        {
          "output_type": "display_data",
          "data": {
            "image/png": "[encoded data removed]",
            "text/plain": [
              "<Figure size 720x1080 with 3 Axes>"
            ]
          },
          "metadata": {
            "tags": []
          }
        }
      ]
    },
    {
      "cell_type": "markdown",
      "metadata": {
        "id": "I0zNPbgaDgL3",
        "colab_type": "text"
      },
      "source": [
        "Decision Tree"
      ]
    },
    {
      "cell_type": "code",
      "metadata": {
        "id": "O87prDWsDgL4",
        "colab_type": "code",
        "colab": {}
      },
      "source": [
        "#Cross Validation splitting for evaluation of Decision Tree\n",
        "cv = ShuffleSplit(n_splits=10, test_size=0.2, random_state=0)"
      ],
      "execution_count": 65,
      "outputs": []
    },
    {
      "cell_type": "code",
      "metadata": {
        "id": "F8rOE1UFDgL6",
        "colab_type": "code",
        "colab": {
          "base_uri": "https://localhost:8080/",
          "height": 892
        },
        "outputId": "9097b31e-bd04-4fbd-eff1-385db0615948"
      },
      "source": [
        "#Model Estimator\n",
        "estimator = DecisionTreeClassifier(max_leaf_nodes=2,max_features='log2',class_weight='balanced')\n",
        "\n",
        "#Plot of Learning Curve (over original X and then cross val)\n",
        "fig, axes = plt.subplots(3, 1, figsize=(10, 15))\n",
        "title = \"Learning Curves (Decision Tree)\"\n",
        "plot_learning_curve(estimator, title, X,y, axes=axes, ylim=(0.1, 1.01),\n",
        "                    cv=cv, n_jobs=2)"
      ],
      "execution_count": 66,
      "outputs": [
        {
          "output_type": "display_data",
          "data": {
            "image/png": "[encoded data removed]",
            "text/plain": [
              "<Figure size 720x1080 with 3 Axes>"
            ]
          },
          "metadata": {
            "tags": []
          }
        }
      ]
    },
    {
      "cell_type": "markdown",
      "metadata": {
        "id": "gRTs-kojDgL9",
        "colab_type": "text"
      },
      "source": [
        "# Section 2"
      ]
    },
    {
      "cell_type": "markdown",
      "metadata": {
        "id": "8RvIWvxhDgL9",
        "colab_type": "text"
      },
      "source": [
        "### L2 Regularization"
      ]
    },
    {
      "cell_type": "code",
      "metadata": {
        "id": "RU2jvFftDgL-",
        "colab_type": "code",
        "colab": {}
      },
      "source": [
        "#alpha: Regularization Strength, Larger values specify stronger regularization\n",
        "alphas = np.logspace(10, -3, 1000)"
      ],
      "execution_count": 67,
      "outputs": []
    },
    {
      "cell_type": "code",
      "metadata": {
        "id": "fKYCFpSmDgMA",
        "colab_type": "code",
        "colab": {}
      },
      "source": [
        "#Training Ridge CLassifier on different values of alpha\n",
        "ridge_coefs = []\n",
        "train_losses=[]\n",
        "test_losses=[]\n",
        "for a in alphas:\n",
        "    ridge = RidgeClassifier(alpha = a, fit_intercept = True, normalize = True)\n",
        "    ridge.fit(X_train,y_train)\n",
        "    train_losses.append(log_loss(y_train, ridge._predict_proba_lr(X_train)))\n",
        "    test_losses.append(log_loss(y_test, ridge._predict_proba_lr(X_test)))\n",
        "    ridge_coefs.append(ridge.coef_)"
      ],
      "execution_count": 69,
      "outputs": []
    },
    {
      "cell_type": "code",
      "metadata": {
        "id": "-VlIIDVxDgMC",
        "colab_type": "code",
        "colab": {}
      },
      "source": [
        "# Make ridge_coefs numpy array of shape (no_of_alphas,no_of_features)\n",
        "ridge_coefs ="
      ],
      "execution_count": null,
      "outputs": []
    },
    {
      "cell_type": "code",
      "metadata": {
        "id": "bIgbxWdCDgME",
        "colab_type": "code",
        "colab": {}
      },
      "source": [
        "# Plot showing how coefficients vary with value of alpha\n",
        "plt.style.use(\"seaborn\")\n",
        "ax = plt.gca()\n",
        "ax.plot(alphas, ridge_coefs)\n",
        "ax.set_xscale('log')\n",
        "plt.xlabel('Value of Lambda')\n",
        "plt.ylabel('Coefficients')\n",
        "plt.axis('tight')\n",
        "plt.show()"
      ],
      "execution_count": null,
      "outputs": []
    },
    {
      "cell_type": "code",
      "metadata": {
        "id": "Enln8qeXDgMG",
        "colab_type": "code",
        "colab": {}
      },
      "source": [
        "#Plot for Train Loss v/s Values of alpha\n",
        "plt.style.use(\"seaborn\")\n",
        "ax = plt.gca()\n",
        "plt.plot(alphas, train_losses)\n",
        "ax.set_xscale('log')\n",
        "plt.xlabel('Value of Lambda')\n",
        "plt.ylabel('Train Loss')\n",
        "plt.show()\n"
      ],
      "execution_count": null,
      "outputs": []
    },
    {
      "cell_type": "code",
      "metadata": {
        "id": "wAzI6W4HDgMJ",
        "colab_type": "code",
        "colab": {}
      },
      "source": [
        "#Plot for Test Loss v/s Values of alpha\n",
        "plt.style.use(\"seaborn\")\n",
        "ax = plt.gca()\n",
        "plt.plot(alphas, test_losses)\n",
        "ax.set_xscale('log')\n",
        "plt.xlabel('Value of Lambda')\n",
        "plt.ylabel('Test Loss')\n",
        "plt.show()"
      ],
      "execution_count": null,
      "outputs": []
    },
    {
      "cell_type": "markdown",
      "metadata": {
        "id": "uC7IMpKaDgML",
        "colab_type": "text"
      },
      "source": [
        "### L1 Regularization"
      ]
    },
    {
      "cell_type": "code",
      "metadata": {
        "id": "DwqPpQcqDgMM",
        "colab_type": "code",
        "colab": {}
      },
      "source": [
        "#c : Inverse of regularization strength; smaller values specify stronger regularization.\n",
        "C= np.logspace(-10,3,1000)"
      ],
      "execution_count": null,
      "outputs": []
    },
    {
      "cell_type": "code",
      "metadata": {
        "tags": [],
        "id": "aZxA89x5DgMO",
        "colab_type": "code",
        "colab": {}
      },
      "source": [
        "# Training logisitic Regression with l1 penalty for different values of C\n",
        "lasso_coefs = []\n",
        "train_losses=[]\n",
        "test_losses=[]\n",
        "for c in C:\n",
        "    lr = LogisticRegression(penalty='l1', C=c, fit_intercept=True, solver='liblinear')\n",
        "    lr.fit(?,?)\n",
        "    train_losses.append(log_loss(?, lr.predict_proba(?)))\n",
        "    test_losses.append(log_loss(?,lr.predict_proba(?)))\n",
        "    lasso_coefs.append(lr.coef_)"
      ],
      "execution_count": null,
      "outputs": []
    },
    {
      "cell_type": "code",
      "metadata": {
        "id": "nGA_ZYR_DgMQ",
        "colab_type": "code",
        "colab": {}
      },
      "source": [
        "#Make lasso_coefs numpy array of shape (no_of_C,no_of_features)\n",
        "lasso_coefs="
      ],
      "execution_count": null,
      "outputs": []
    },
    {
      "cell_type": "code",
      "metadata": {
        "id": "H_cs2ZlPDgMS",
        "colab_type": "code",
        "colab": {}
      },
      "source": [
        "#Plot showing how coefficients vary with value of c\n",
        "plt.style.use(\"seaborn\")\n",
        "ax = plt.gca()\n",
        "ax.plot(C, lasso_coefs)\n",
        "ax.set_xscale('log')\n",
        "plt.xlabel('Value of C')\n",
        "plt.ylabel('Coefficients')\n",
        "plt.axis('tight')\n",
        "plt.show()"
      ],
      "execution_count": null,
      "outputs": []
    },
    {
      "cell_type": "code",
      "metadata": {
        "id": "aklp0Ez8DgMV",
        "colab_type": "code",
        "colab": {}
      },
      "source": [
        "#Plot for Train Loss v/s Values of C\n",
        "plt.style.use(\"seaborn\")\n",
        "ax = plt.gca()\n",
        "plt.plot(C, train_losses)\n",
        "ax.set_xscale('log')\n",
        "plt.xlabel('Value of C')\n",
        "plt.ylabel('Train Loss')\n",
        "plt.show()"
      ],
      "execution_count": null,
      "outputs": []
    },
    {
      "cell_type": "code",
      "metadata": {
        "id": "lawZt-MuDgMX",
        "colab_type": "code",
        "colab": {}
      },
      "source": [
        "#Plot for Train Loss v/s Values of C\n",
        "plt.style.use(\"seaborn\")\n",
        "ax = plt.gca()\n",
        "plt.plot(C, test_losses)\n",
        "ax.set_xscale('log')\n",
        "plt.xlabel('Value of C')\n",
        "plt.ylabel('Test Loss')\n",
        "plt.show()"
      ],
      "execution_count": null,
      "outputs": []
    }
  ]
}