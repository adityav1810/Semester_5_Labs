{
  "nbformat": 4,
  "nbformat_minor": 0,
  "metadata": {
    "colab": {
      "name": "task1_LinearRegression.ipynb",
      "provenance": [],
      "collapsed_sections": [],
      "include_colab_link": true
    },
    "kernelspec": {
      "display_name": "Python 3",
      "language": "python",
      "name": "python3"
    },
    "language_info": {
      "codemirror_mode": {
        "name": "ipython",
        "version": 3
      },
      "file_extension": ".py",
      "mimetype": "text/x-python",
      "name": "python",
      "nbconvert_exporter": "python",
      "pygments_lexer": "ipython3",
      "version": "3.7.4"
    }
  },
  "cells": [
    {
      "cell_type": "markdown",
      "metadata": {
        "id": "view-in-github",
        "colab_type": "text"
      },
      "source": [
        "<a href=\"https://colab.research.google.com/github/adityav1810/Semester_5_Labs/blob/master/ECSE303L-AIandML/Lab6/task_1_linear_reg.ipynb\" target=\"_parent\"><img src=\"https://colab.research.google.com/assets/colab-badge.svg\" alt=\"Open In Colab\"/></a>"
      ]
    },
    {
      "cell_type": "markdown",
      "metadata": {
        "colab_type": "text",
        "id": "3tWQnVjqfFwv"
      },
      "source": [
        "## Data Leakage, L1(Lasso) and L2 (Ridge) regularization using Linear Regression\n",
        "\n",
        "We will use cross validation, lasso and ridge regression in this lab.\n",
        "\n",
        "Specifically speaking, <br>\n",
        "Regularization basically adds the penalty as model complexity increases.<br>\n",
        "Cross validation is used to evaluate how well our model can generalize on the dataset. <br>\n",
        "\n",
        "We will be using r2 score in this lab. It provides an indication of goodness of fit and therefore a measure of how well unseen samples are likely to be predicted by the model.\n",
        "\n",
        "\n",
        "In this task, we will explore the following things on linear regression model:\n",
        "- Cross Validation\n",
        "- L1 regularization (Lasso regression)\n",
        "- L2 regularization (Ridge regression)\n",
        "\n",
        "\n",
        "#### Dataset\n",
        "The dataset is available at \"data/bike.csv\" in the respective challenge's repo.<br>\n",
        "\n",
        "The dataset is __modified version__ of the dataset 'bike.csv' provided by UCI Machine Learning repository.\n",
        "\n",
        "Original dataset: https://archive.ics.uci.edu/ml/datasets/bike+sharing+dataset\n",
        "\n",
        "#### Objective\n",
        "To learn about how cross validation, L1 regularization and L2 regularization work.\n",
        "\n",
        "#### Tasks\n",
        "- load the dataset.\n",
        "- perform pre-processing on the data.\n",
        "- remove registered feature and keep the casual feature to understand data leakage.\n",
        "- construct train and test dataset.\n",
        "- create a linear regression model.\n",
        "- check the r2 score of the initial linear regression model on train and test dataset\n",
        "- observe distribution of weights in the initial linear regression model. \n",
        "- split the dataset into k consecutive folds.\n",
        "- calculate cross validation score for the k fold and check how well our model can generalize on the training dataset.\n",
        "- checking the variance threshold of dataset and remove features with low variance.\n",
        "- apply L1 regularization on the dataset and check the r2_score.\n",
        "- visualize the distribution of weights on the lasso regression model.\n",
        "- apply L2 regularization on the dataset and check the r2_score.\n",
        "- visualize the distribution of weights on the ridge regression model. \n",
        "\n",
        "#### Further fun\n",
        "- apply RFE on the dataset to automatically remove uneccessary features which would prevent overfitting.\n",
        "- don't remove casual and registered features and check the effect of data leakage on the model\n",
        "- implement lasso and ridge regression without using inbuilt librarires.\n",
        "- apply elastic net to visualize the effect of both ridge and lasso regression.\n",
        "\n",
        "\n",
        "#### Helpful links\n",
        "- Cross validation : https://machinelearningmastery.com/k-fold-cross-validation/#:~:text=Cross%2Dvalidation%20is%20a%20resampling,k%2Dfold%20cross%2Dvalidation.\n",
        "- Cross validation: https://scikit-learn.org/stable/modules/cross_validation.html\n",
        "- L1 and L2 regularization : https://towardsdatascience.com/ridge-and-lasso-regression-a-complete-guide-with-python-scikit-learn-e20e34bcbf0b\n",
        "- L1 and L2 regularization : https://www.youtube.com/watch?v=9lRv01HDU0s&list=PLZoTAELRMXVPBTrWtJkn3wWQxZkmTXGwe&index=30&t=904s\n",
        "- r2_score: https://scikit-learn.org/stable/modules/generated/sklearn.metrics.r2_score.html#sklearn.metrics.r2_score\n",
        "- pd.get_dummies() and One Hot Encoding: https://queirozf.com/entries/one-hot-encoding-a-feature-on-a-pandas-dataframe-an-example\n",
        "- Data Leakage : \"https://machinelearningmastery.com/data-leakage-machine-learning/\n",
        "- sklearn k-fold : https://scikit-learn.org/stable/modules/generated/sklearn.model_selection.KFold.html\n",
        "- sklearn cross_val_score : https://scikit-learn.org/stable/modules/generated/sklearn.model_selection.cross_val_score.html?highlight=cross_val_score#sklearn.model_selection.cross_val_score\n",
        "- sklearn lasso regression : https://scikit-learn.org/stable/modules/generated/sklearn.linear_model.Lasso.html?highlight=lasso#sklearn.linear_model.Lasso\n",
        "- sklearn ridge regression : https://scikit-learn.org/stable/modules/generated/sklearn.linear_model.Ridge.html?highlight=ridge#sklearn.linear_model.Ridge\n",
        "- RFE : https://machinelearningmastery.com/rfe-feature-selection-in-python/\n",
        "- RFE sklearn : https://scikit-learn.org/stable/modules/generated/sklearn.feature_selection.RFE.html\n",
        "- Use slack for doubts: "
      ]
    },
    {
      "cell_type": "code",
      "metadata": {
        "colab_type": "code",
        "id": "mRl7KPgwjRHI",
        "colab": {}
      },
      "source": [
        "#import the necessary libraries\n",
        "import pandas as pd\n",
        "import numpy as np\n",
        "import matplotlib.pyplot as plt\n",
        "\n",
        "# Sklearn processing\n",
        "from sklearn.preprocessing import MinMaxScaler\n",
        "from sklearn.model_selection import train_test_split\n",
        "from sklearn.model_selection import KFold\n",
        "from sklearn.model_selection import cross_val_score\n",
        "\n",
        "# Sklearn linear regression model\n",
        "from sklearn.linear_model import LinearRegression\n",
        "\n",
        "# Sklearn regression model evaluation functions\n",
        "from sklearn.metrics import r2_score\n",
        "\n",
        "# Perform feature selection using a variance threshold\n",
        "from sklearn.feature_selection import VarianceThreshold\n",
        "\n",
        "# Feature selection using Recursive Feature Elimimation\n",
        "from sklearn.feature_selection import RFE"
      ],
      "execution_count": 166,
      "outputs": []
    },
    {
      "cell_type": "code",
      "metadata": {
        "colab_type": "code",
        "id": "Vq1jiQz-kIpA",
        "colab": {}
      },
      "source": [
        "#load the data and inspect the first 5 rows\n",
        "data = pd.read_csv('https://raw.githubusercontent.com/DeepConnectAI/challenge-week-6/master/data/bike.csv')"
      ],
      "execution_count": 167,
      "outputs": []
    },
    {
      "cell_type": "code",
      "metadata": {
        "id": "Fan9SuiYtll7",
        "colab_type": "code",
        "colab": {
          "base_uri": "https://localhost:8080/",
          "height": 215
        },
        "outputId": "7906f4ea-f744-460b-e7cc-47e126dc5292"
      },
      "source": [
        "data.head()"
      ],
      "execution_count": 168,
      "outputs": [
        {
          "output_type": "execute_result",
          "data": {
            "text/html": [
              "<div>\n",
              "<style scoped>\n",
              "    .dataframe tbody tr th:only-of-type {\n",
              "        vertical-align: middle;\n",
              "    }\n",
              "\n",
              "    .dataframe tbody tr th {\n",
              "        vertical-align: top;\n",
              "    }\n",
              "\n",
              "    .dataframe thead th {\n",
              "        text-align: right;\n",
              "    }\n",
              "</style>\n",
              "<table border=\"1\" class=\"dataframe\">\n",
              "  <thead>\n",
              "    <tr style=\"text-align: right;\">\n",
              "      <th></th>\n",
              "      <th>id</th>\n",
              "      <th>season</th>\n",
              "      <th>year</th>\n",
              "      <th>holiday</th>\n",
              "      <th>weekday</th>\n",
              "      <th>workingday</th>\n",
              "      <th>weather</th>\n",
              "      <th>temp</th>\n",
              "      <th>feel_temp</th>\n",
              "      <th>hum</th>\n",
              "      <th>windspeed</th>\n",
              "      <th>promotion_level</th>\n",
              "      <th>promotion_type</th>\n",
              "      <th>promotion_level_external</th>\n",
              "      <th>promotion_type_external</th>\n",
              "      <th>casual</th>\n",
              "      <th>registered</th>\n",
              "      <th>cnt</th>\n",
              "    </tr>\n",
              "  </thead>\n",
              "  <tbody>\n",
              "    <tr>\n",
              "      <th>0</th>\n",
              "      <td>12765</td>\n",
              "      <td>winter</td>\n",
              "      <td>2016</td>\n",
              "      <td>0</td>\n",
              "      <td>6</td>\n",
              "      <td>0</td>\n",
              "      <td>cloud</td>\n",
              "      <td>0.344167</td>\n",
              "      <td>0.363625</td>\n",
              "      <td>0.805833</td>\n",
              "      <td>0.160446</td>\n",
              "      <td>7</td>\n",
              "      <td>1</td>\n",
              "      <td>2</td>\n",
              "      <td>2</td>\n",
              "      <td>226</td>\n",
              "      <td>654</td>\n",
              "      <td>880</td>\n",
              "    </tr>\n",
              "    <tr>\n",
              "      <th>1</th>\n",
              "      <td>12766</td>\n",
              "      <td>winter</td>\n",
              "      <td>2016</td>\n",
              "      <td>0</td>\n",
              "      <td>0</td>\n",
              "      <td>0</td>\n",
              "      <td>cloud</td>\n",
              "      <td>0.363478</td>\n",
              "      <td>0.353739</td>\n",
              "      <td>0.696087</td>\n",
              "      <td>0.248539</td>\n",
              "      <td>8</td>\n",
              "      <td>1</td>\n",
              "      <td>8</td>\n",
              "      <td>1</td>\n",
              "      <td>125</td>\n",
              "      <td>670</td>\n",
              "      <td>795</td>\n",
              "    </tr>\n",
              "    <tr>\n",
              "      <th>2</th>\n",
              "      <td>12767</td>\n",
              "      <td>winter</td>\n",
              "      <td>2016</td>\n",
              "      <td>0</td>\n",
              "      <td>1</td>\n",
              "      <td>1</td>\n",
              "      <td>fair</td>\n",
              "      <td>0.196364</td>\n",
              "      <td>0.189405</td>\n",
              "      <td>0.437273</td>\n",
              "      <td>0.248309</td>\n",
              "      <td>3</td>\n",
              "      <td>1</td>\n",
              "      <td>10</td>\n",
              "      <td>2</td>\n",
              "      <td>75</td>\n",
              "      <td>1229</td>\n",
              "      <td>1304</td>\n",
              "    </tr>\n",
              "    <tr>\n",
              "      <th>3</th>\n",
              "      <td>12768</td>\n",
              "      <td>winter</td>\n",
              "      <td>2016</td>\n",
              "      <td>0</td>\n",
              "      <td>2</td>\n",
              "      <td>1</td>\n",
              "      <td>fair</td>\n",
              "      <td>0.200000</td>\n",
              "      <td>0.212122</td>\n",
              "      <td>0.590435</td>\n",
              "      <td>0.160296</td>\n",
              "      <td>0</td>\n",
              "      <td>1</td>\n",
              "      <td>8</td>\n",
              "      <td>3</td>\n",
              "      <td>67</td>\n",
              "      <td>1454</td>\n",
              "      <td>1521</td>\n",
              "    </tr>\n",
              "    <tr>\n",
              "      <th>4</th>\n",
              "      <td>12769</td>\n",
              "      <td>winter</td>\n",
              "      <td>2016</td>\n",
              "      <td>0</td>\n",
              "      <td>3</td>\n",
              "      <td>1</td>\n",
              "      <td>fair</td>\n",
              "      <td>0.226957</td>\n",
              "      <td>0.229270</td>\n",
              "      <td>0.436957</td>\n",
              "      <td>0.186900</td>\n",
              "      <td>2</td>\n",
              "      <td>0</td>\n",
              "      <td>5</td>\n",
              "      <td>1</td>\n",
              "      <td>58</td>\n",
              "      <td>1518</td>\n",
              "      <td>1576</td>\n",
              "    </tr>\n",
              "  </tbody>\n",
              "</table>\n",
              "</div>"
            ],
            "text/plain": [
              "      id  season  year  ...  casual  registered   cnt\n",
              "0  12765  winter  2016  ...     226         654   880\n",
              "1  12766  winter  2016  ...     125         670   795\n",
              "2  12767  winter  2016  ...      75        1229  1304\n",
              "3  12768  winter  2016  ...      67        1454  1521\n",
              "4  12769  winter  2016  ...      58        1518  1576\n",
              "\n",
              "[5 rows x 18 columns]"
            ]
          },
          "metadata": {
            "tags": []
          },
          "execution_count": 168
        }
      ]
    },
    {
      "cell_type": "code",
      "metadata": {
        "colab_type": "code",
        "id": "pw5T1NvekL65",
        "colab": {
          "base_uri": "https://localhost:8080/",
          "height": 336
        },
        "outputId": "3f31e8fc-118c-441b-ff50-4d239d2b6e97"
      },
      "source": [
        "# print the data types of each feature name\n",
        "data.dtypes"
      ],
      "execution_count": 169,
      "outputs": [
        {
          "output_type": "execute_result",
          "data": {
            "text/plain": [
              "id                            int64\n",
              "season                       object\n",
              "year                          int64\n",
              "holiday                       int64\n",
              "weekday                       int64\n",
              "workingday                    int64\n",
              "weather                      object\n",
              "temp                        float64\n",
              "feel_temp                   float64\n",
              "hum                         float64\n",
              "windspeed                   float64\n",
              "promotion_level               int64\n",
              "promotion_type                int64\n",
              "promotion_level_external      int64\n",
              "promotion_type_external       int64\n",
              "casual                        int64\n",
              "registered                    int64\n",
              "cnt                           int64\n",
              "dtype: object"
            ]
          },
          "metadata": {
            "tags": []
          },
          "execution_count": 169
        }
      ]
    },
    {
      "cell_type": "code",
      "metadata": {
        "colab_type": "code",
        "id": "RE0sjCi4kREL",
        "colab": {
          "base_uri": "https://localhost:8080/",
          "height": 336
        },
        "outputId": "6476147d-3f8d-43f8-b689-db8a96b2768c"
      },
      "source": [
        "# check for null values in each column\n",
        "data.isna().any()"
      ],
      "execution_count": 170,
      "outputs": [
        {
          "output_type": "execute_result",
          "data": {
            "text/plain": [
              "id                          False\n",
              "season                      False\n",
              "year                        False\n",
              "holiday                     False\n",
              "weekday                     False\n",
              "workingday                  False\n",
              "weather                     False\n",
              "temp                        False\n",
              "feel_temp                   False\n",
              "hum                         False\n",
              "windspeed                   False\n",
              "promotion_level             False\n",
              "promotion_type              False\n",
              "promotion_level_external    False\n",
              "promotion_type_external     False\n",
              "casual                      False\n",
              "registered                  False\n",
              "cnt                         False\n",
              "dtype: bool"
            ]
          },
          "metadata": {
            "tags": []
          },
          "execution_count": 170
        }
      ]
    },
    {
      "cell_type": "code",
      "metadata": {
        "colab_type": "code",
        "id": "jWJz8TAgketK",
        "colab": {
          "base_uri": "https://localhost:8080/",
          "height": 84
        },
        "outputId": "760256d1-f8ff-4d62-a81a-a9d620b15a93"
      },
      "source": [
        "# print out the unique values of the features ['season', 'year', 'weather', 'promotion_type']\n",
        "for col in  ['season', 'year', 'weather', 'promotion_type']:\n",
        "  print('Unique Values in ',col, ' are : ',end=' ')\n",
        "  print(data[col].unique())"
      ],
      "execution_count": 171,
      "outputs": [
        {
          "output_type": "stream",
          "text": [
            "Unique Values in  season  are :  ['winter' 'spring' 'summer' 'autumn']\n",
            "Unique Values in  year  are :  [2016]\n",
            "Unique Values in  weather  are :  ['cloud' 'fair' 'rain']\n",
            "Unique Values in  promotion_type  are :  [1 0]\n"
          ],
          "name": "stdout"
        }
      ]
    },
    {
      "cell_type": "code",
      "metadata": {
        "colab_type": "code",
        "id": "1nkDe68NkyZ2",
        "colab": {
          "base_uri": "https://localhost:8080/",
          "height": 386
        },
        "outputId": "44e451bd-92c8-442d-b2e2-26215369b2a5"
      },
      "source": [
        "# print out the value counts (frequency of occurence) of the unique values in these features ['season', 'year', 'weather', 'promotion_type']\n",
        "for col in  ['season', 'year', 'weather', 'promotion_type']:\n",
        "  print('Unique Values in ',str.upper(col), ' are : ')\n",
        "  print(data[col].value_counts())\n",
        "  print()"
      ],
      "execution_count": 172,
      "outputs": [
        {
          "output_type": "stream",
          "text": [
            "Unique Values in  SEASON  are : \n",
            "summer    92\n",
            "spring    92\n",
            "autumn    91\n",
            "winter    90\n",
            "Name: season, dtype: int64\n",
            "\n",
            "Unique Values in  YEAR  are : \n",
            "2016    365\n",
            "Name: year, dtype: int64\n",
            "\n",
            "Unique Values in  WEATHER  are : \n",
            "fair     226\n",
            "cloud    124\n",
            "rain      15\n",
            "Name: weather, dtype: int64\n",
            "\n",
            "Unique Values in  PROMOTION_TYPE  are : \n",
            "1    183\n",
            "0    182\n",
            "Name: promotion_type, dtype: int64\n",
            "\n"
          ],
          "name": "stdout"
        }
      ]
    },
    {
      "cell_type": "code",
      "metadata": {
        "colab_type": "code",
        "id": "yIsIIQWFmJRK",
        "colab": {
          "base_uri": "https://localhost:8080/",
          "height": 34
        },
        "outputId": "4331d2f1-a6a9-4a9a-ce78-c0abbd669139"
      },
      "source": [
        "# print the shape of data\n",
        "data.shape"
      ],
      "execution_count": 173,
      "outputs": [
        {
          "output_type": "execute_result",
          "data": {
            "text/plain": [
              "(365, 18)"
            ]
          },
          "metadata": {
            "tags": []
          },
          "execution_count": 173
        }
      ]
    },
    {
      "cell_type": "code",
      "metadata": {
        "colab_type": "code",
        "id": "1xXsOHMilNTz",
        "colab": {}
      },
      "source": [
        "# drop the feature 'id' as it has no information to deliver.\n",
        "\n",
        "data = data.drop(['id'], axis = 1)"
      ],
      "execution_count": 174,
      "outputs": []
    },
    {
      "cell_type": "code",
      "metadata": {
        "colab_type": "code",
        "id": "i4BXZ-_qmNYh",
        "colab": {
          "base_uri": "https://localhost:8080/",
          "height": 34
        },
        "outputId": "32540b69-a38b-4963-a5a1-ba3616f2b8ef"
      },
      "source": [
        "# print the shape of data\n",
        "data.shape"
      ],
      "execution_count": 175,
      "outputs": [
        {
          "output_type": "execute_result",
          "data": {
            "text/plain": [
              "(365, 17)"
            ]
          },
          "metadata": {
            "tags": []
          },
          "execution_count": 175
        }
      ]
    },
    {
      "cell_type": "code",
      "metadata": {
        "id": "VZJD01m52X88",
        "colab_type": "code",
        "colab": {
          "base_uri": "https://localhost:8080/",
          "height": 215
        },
        "outputId": "f6f53a6c-41f5-449f-a42e-751f6efd5eb8"
      },
      "source": [
        "data.head()"
      ],
      "execution_count": 176,
      "outputs": [
        {
          "output_type": "execute_result",
          "data": {
            "text/html": [
              "<div>\n",
              "<style scoped>\n",
              "    .dataframe tbody tr th:only-of-type {\n",
              "        vertical-align: middle;\n",
              "    }\n",
              "\n",
              "    .dataframe tbody tr th {\n",
              "        vertical-align: top;\n",
              "    }\n",
              "\n",
              "    .dataframe thead th {\n",
              "        text-align: right;\n",
              "    }\n",
              "</style>\n",
              "<table border=\"1\" class=\"dataframe\">\n",
              "  <thead>\n",
              "    <tr style=\"text-align: right;\">\n",
              "      <th></th>\n",
              "      <th>season</th>\n",
              "      <th>year</th>\n",
              "      <th>holiday</th>\n",
              "      <th>weekday</th>\n",
              "      <th>workingday</th>\n",
              "      <th>weather</th>\n",
              "      <th>temp</th>\n",
              "      <th>feel_temp</th>\n",
              "      <th>hum</th>\n",
              "      <th>windspeed</th>\n",
              "      <th>promotion_level</th>\n",
              "      <th>promotion_type</th>\n",
              "      <th>promotion_level_external</th>\n",
              "      <th>promotion_type_external</th>\n",
              "      <th>casual</th>\n",
              "      <th>registered</th>\n",
              "      <th>cnt</th>\n",
              "    </tr>\n",
              "  </thead>\n",
              "  <tbody>\n",
              "    <tr>\n",
              "      <th>0</th>\n",
              "      <td>winter</td>\n",
              "      <td>2016</td>\n",
              "      <td>0</td>\n",
              "      <td>6</td>\n",
              "      <td>0</td>\n",
              "      <td>cloud</td>\n",
              "      <td>0.344167</td>\n",
              "      <td>0.363625</td>\n",
              "      <td>0.805833</td>\n",
              "      <td>0.160446</td>\n",
              "      <td>7</td>\n",
              "      <td>1</td>\n",
              "      <td>2</td>\n",
              "      <td>2</td>\n",
              "      <td>226</td>\n",
              "      <td>654</td>\n",
              "      <td>880</td>\n",
              "    </tr>\n",
              "    <tr>\n",
              "      <th>1</th>\n",
              "      <td>winter</td>\n",
              "      <td>2016</td>\n",
              "      <td>0</td>\n",
              "      <td>0</td>\n",
              "      <td>0</td>\n",
              "      <td>cloud</td>\n",
              "      <td>0.363478</td>\n",
              "      <td>0.353739</td>\n",
              "      <td>0.696087</td>\n",
              "      <td>0.248539</td>\n",
              "      <td>8</td>\n",
              "      <td>1</td>\n",
              "      <td>8</td>\n",
              "      <td>1</td>\n",
              "      <td>125</td>\n",
              "      <td>670</td>\n",
              "      <td>795</td>\n",
              "    </tr>\n",
              "    <tr>\n",
              "      <th>2</th>\n",
              "      <td>winter</td>\n",
              "      <td>2016</td>\n",
              "      <td>0</td>\n",
              "      <td>1</td>\n",
              "      <td>1</td>\n",
              "      <td>fair</td>\n",
              "      <td>0.196364</td>\n",
              "      <td>0.189405</td>\n",
              "      <td>0.437273</td>\n",
              "      <td>0.248309</td>\n",
              "      <td>3</td>\n",
              "      <td>1</td>\n",
              "      <td>10</td>\n",
              "      <td>2</td>\n",
              "      <td>75</td>\n",
              "      <td>1229</td>\n",
              "      <td>1304</td>\n",
              "    </tr>\n",
              "    <tr>\n",
              "      <th>3</th>\n",
              "      <td>winter</td>\n",
              "      <td>2016</td>\n",
              "      <td>0</td>\n",
              "      <td>2</td>\n",
              "      <td>1</td>\n",
              "      <td>fair</td>\n",
              "      <td>0.200000</td>\n",
              "      <td>0.212122</td>\n",
              "      <td>0.590435</td>\n",
              "      <td>0.160296</td>\n",
              "      <td>0</td>\n",
              "      <td>1</td>\n",
              "      <td>8</td>\n",
              "      <td>3</td>\n",
              "      <td>67</td>\n",
              "      <td>1454</td>\n",
              "      <td>1521</td>\n",
              "    </tr>\n",
              "    <tr>\n",
              "      <th>4</th>\n",
              "      <td>winter</td>\n",
              "      <td>2016</td>\n",
              "      <td>0</td>\n",
              "      <td>3</td>\n",
              "      <td>1</td>\n",
              "      <td>fair</td>\n",
              "      <td>0.226957</td>\n",
              "      <td>0.229270</td>\n",
              "      <td>0.436957</td>\n",
              "      <td>0.186900</td>\n",
              "      <td>2</td>\n",
              "      <td>0</td>\n",
              "      <td>5</td>\n",
              "      <td>1</td>\n",
              "      <td>58</td>\n",
              "      <td>1518</td>\n",
              "      <td>1576</td>\n",
              "    </tr>\n",
              "  </tbody>\n",
              "</table>\n",
              "</div>"
            ],
            "text/plain": [
              "   season  year  holiday  ...  casual  registered   cnt\n",
              "0  winter  2016        0  ...     226         654   880\n",
              "1  winter  2016        0  ...     125         670   795\n",
              "2  winter  2016        0  ...      75        1229  1304\n",
              "3  winter  2016        0  ...      67        1454  1521\n",
              "4  winter  2016        0  ...      58        1518  1576\n",
              "\n",
              "[5 rows x 17 columns]"
            ]
          },
          "metadata": {
            "tags": []
          },
          "execution_count": 176
        }
      ]
    },
    {
      "cell_type": "code",
      "metadata": {
        "colab_type": "code",
        "id": "1G-eQ8ULmO3J",
        "colab": {}
      },
      "source": [
        "# one hot encode the categorical columns.\n",
        "for col in ['season','holiday','weekday','workingday','weather','promotion_level','promotion_level_external','promotion_type_external']:\n",
        "  data=pd.concat([data,pd.get_dummies(data[col],prefix=col)],axis=1)\n",
        "  data.drop([col],axis=1, inplace=True)"
      ],
      "execution_count": 177,
      "outputs": []
    },
    {
      "cell_type": "code",
      "metadata": {
        "colab_type": "code",
        "id": "qcf6heimmZaQ",
        "colab": {
          "base_uri": "https://localhost:8080/",
          "height": 34
        },
        "outputId": "804ff8de-ac12-4669-c2ac-18c9ff9d25f3"
      },
      "source": [
        "# print the shape of data \n",
        "# notice the increase in the no. of features\n",
        "data.shape"
      ],
      "execution_count": 178,
      "outputs": [
        {
          "output_type": "execute_result",
          "data": {
            "text/plain": [
              "(365, 51)"
            ]
          },
          "metadata": {
            "tags": []
          },
          "execution_count": 178
        }
      ]
    },
    {
      "cell_type": "markdown",
      "metadata": {
        "colab_type": "text",
        "id": "vLOkfanFfWDK"
      },
      "source": [
        "Notice that our target feature \"cnt\" is the sum of the features \"registered\" + \"casual\"<br>\n",
        "\n",
        "To avoid data leakage remove the feature \"casual\" for the training purpose. <br>\n",
        "\n",
        "To understand more about data leakage refer the article mentioned in the uselful links."
      ]
    },
    {
      "cell_type": "code",
      "metadata": {
        "colab_type": "code",
        "id": "vZ2HK7RGmO63",
        "colab": {}
      },
      "source": [
        "# Split the dataset into X and y\n",
        "# While loading data into X drop the columns \"cnt\" and \"casual\". \n",
        "X = data.drop(columns=['casual','cnt'])\n",
        "\n",
        "# notice the target variable is 'cnt'\n",
        "y = data['cnt']"
      ],
      "execution_count": 179,
      "outputs": []
    },
    {
      "cell_type": "code",
      "metadata": {
        "colab_type": "code",
        "id": "y1kT6PpR4F1s",
        "colab": {
          "base_uri": "https://localhost:8080/",
          "height": 54
        },
        "outputId": "a8f28b5c-756b-47a9-941a-954f3b57e2e0"
      },
      "source": [
        "# store the names of the training features / name of the columns used for training. [Very important step for visualization later.]\n",
        "\n",
        "train_columns = list(X.columns)\n",
        "print(train_columns)"
      ],
      "execution_count": 180,
      "outputs": [
        {
          "output_type": "stream",
          "text": [
            "['year', 'temp', 'feel_temp', 'hum', 'windspeed', 'promotion_type', 'registered', 'season_autumn', 'season_spring', 'season_summer', 'season_winter', 'holiday_0', 'holiday_1', 'weekday_0', 'weekday_1', 'weekday_2', 'weekday_3', 'weekday_4', 'weekday_5', 'weekday_6', 'workingday_0', 'workingday_1', 'weather_cloud', 'weather_fair', 'weather_rain', 'promotion_level_0', 'promotion_level_1', 'promotion_level_2', 'promotion_level_3', 'promotion_level_4', 'promotion_level_5', 'promotion_level_6', 'promotion_level_7', 'promotion_level_8', 'promotion_level_9', 'promotion_level_external_1', 'promotion_level_external_2', 'promotion_level_external_3', 'promotion_level_external_4', 'promotion_level_external_5', 'promotion_level_external_6', 'promotion_level_external_7', 'promotion_level_external_8', 'promotion_level_external_9', 'promotion_level_external_10', 'promotion_type_external_0', 'promotion_type_external_1', 'promotion_type_external_2', 'promotion_type_external_3']\n"
          ],
          "name": "stdout"
        }
      ]
    },
    {
      "cell_type": "code",
      "metadata": {
        "colab_type": "code",
        "id": "6blYZrz7mPBG",
        "colab": {}
      },
      "source": [
        "# Apply scaling if our data is spread across wide differences of range values.\n",
        "minmaxScaler=MinMaxScaler()\n",
        "X_raw=minmaxScaler.fit_transform(X)"
      ],
      "execution_count": 181,
      "outputs": []
    },
    {
      "cell_type": "markdown",
      "metadata": {
        "colab_type": "text",
        "id": "Jtau8HV73t7Y"
      },
      "source": [
        "Note : <br>\n",
        "Type of X should be pandas dataframe.\n",
        "If not then convert X into pandas DataFrame object before proceeding further.\n"
      ]
    },
    {
      "cell_type": "code",
      "metadata": {
        "colab_type": "code",
        "id": "V5II0AWy4AHK",
        "colab": {
          "base_uri": "https://localhost:8080/",
          "height": 215
        },
        "outputId": "7d7c93d8-5a1f-4a60-df0e-0759d1e61b75"
      },
      "source": [
        "# convert X into pandas Dataframe\n",
        "# in the parameters specify columns = train_columns.\n",
        "\n",
        "X = pd.DataFrame(X_raw, columns = train_columns)\n",
        "X.head()"
      ],
      "execution_count": 182,
      "outputs": [
        {
          "output_type": "execute_result",
          "data": {
            "text/html": [
              "<div>\n",
              "<style scoped>\n",
              "    .dataframe tbody tr th:only-of-type {\n",
              "        vertical-align: middle;\n",
              "    }\n",
              "\n",
              "    .dataframe tbody tr th {\n",
              "        vertical-align: top;\n",
              "    }\n",
              "\n",
              "    .dataframe thead th {\n",
              "        text-align: right;\n",
              "    }\n",
              "</style>\n",
              "<table border=\"1\" class=\"dataframe\">\n",
              "  <thead>\n",
              "    <tr style=\"text-align: right;\">\n",
              "      <th></th>\n",
              "      <th>year</th>\n",
              "      <th>temp</th>\n",
              "      <th>feel_temp</th>\n",
              "      <th>hum</th>\n",
              "      <th>windspeed</th>\n",
              "      <th>promotion_type</th>\n",
              "      <th>registered</th>\n",
              "      <th>season_autumn</th>\n",
              "      <th>season_spring</th>\n",
              "      <th>season_summer</th>\n",
              "      <th>season_winter</th>\n",
              "      <th>holiday_0</th>\n",
              "      <th>holiday_1</th>\n",
              "      <th>weekday_0</th>\n",
              "      <th>weekday_1</th>\n",
              "      <th>weekday_2</th>\n",
              "      <th>weekday_3</th>\n",
              "      <th>weekday_4</th>\n",
              "      <th>weekday_5</th>\n",
              "      <th>weekday_6</th>\n",
              "      <th>workingday_0</th>\n",
              "      <th>workingday_1</th>\n",
              "      <th>weather_cloud</th>\n",
              "      <th>weather_fair</th>\n",
              "      <th>weather_rain</th>\n",
              "      <th>promotion_level_0</th>\n",
              "      <th>promotion_level_1</th>\n",
              "      <th>promotion_level_2</th>\n",
              "      <th>promotion_level_3</th>\n",
              "      <th>promotion_level_4</th>\n",
              "      <th>promotion_level_5</th>\n",
              "      <th>promotion_level_6</th>\n",
              "      <th>promotion_level_7</th>\n",
              "      <th>promotion_level_8</th>\n",
              "      <th>promotion_level_9</th>\n",
              "      <th>promotion_level_external_1</th>\n",
              "      <th>promotion_level_external_2</th>\n",
              "      <th>promotion_level_external_3</th>\n",
              "      <th>promotion_level_external_4</th>\n",
              "      <th>promotion_level_external_5</th>\n",
              "      <th>promotion_level_external_6</th>\n",
              "      <th>promotion_level_external_7</th>\n",
              "      <th>promotion_level_external_8</th>\n",
              "      <th>promotion_level_external_9</th>\n",
              "      <th>promotion_level_external_10</th>\n",
              "      <th>promotion_type_external_0</th>\n",
              "      <th>promotion_type_external_1</th>\n",
              "      <th>promotion_type_external_2</th>\n",
              "      <th>promotion_type_external_3</th>\n",
              "    </tr>\n",
              "  </thead>\n",
              "  <tbody>\n",
              "    <tr>\n",
              "      <th>0</th>\n",
              "      <td>0.0</td>\n",
              "      <td>0.360789</td>\n",
              "      <td>0.373517</td>\n",
              "      <td>0.828620</td>\n",
              "      <td>0.284606</td>\n",
              "      <td>1.0</td>\n",
              "      <td>0.056694</td>\n",
              "      <td>0.0</td>\n",
              "      <td>0.0</td>\n",
              "      <td>0.0</td>\n",
              "      <td>1.0</td>\n",
              "      <td>1.0</td>\n",
              "      <td>0.0</td>\n",
              "      <td>0.0</td>\n",
              "      <td>0.0</td>\n",
              "      <td>0.0</td>\n",
              "      <td>0.0</td>\n",
              "      <td>0.0</td>\n",
              "      <td>0.0</td>\n",
              "      <td>1.0</td>\n",
              "      <td>1.0</td>\n",
              "      <td>0.0</td>\n",
              "      <td>1.0</td>\n",
              "      <td>0.0</td>\n",
              "      <td>0.0</td>\n",
              "      <td>0.0</td>\n",
              "      <td>0.0</td>\n",
              "      <td>0.0</td>\n",
              "      <td>0.0</td>\n",
              "      <td>0.0</td>\n",
              "      <td>0.0</td>\n",
              "      <td>0.0</td>\n",
              "      <td>1.0</td>\n",
              "      <td>0.0</td>\n",
              "      <td>0.0</td>\n",
              "      <td>0.0</td>\n",
              "      <td>1.0</td>\n",
              "      <td>0.0</td>\n",
              "      <td>0.0</td>\n",
              "      <td>0.0</td>\n",
              "      <td>0.0</td>\n",
              "      <td>0.0</td>\n",
              "      <td>0.0</td>\n",
              "      <td>0.0</td>\n",
              "      <td>0.0</td>\n",
              "      <td>0.0</td>\n",
              "      <td>0.0</td>\n",
              "      <td>1.0</td>\n",
              "      <td>0.0</td>\n",
              "    </tr>\n",
              "    <tr>\n",
              "      <th>1</th>\n",
              "      <td>0.0</td>\n",
              "      <td>0.385232</td>\n",
              "      <td>0.360541</td>\n",
              "      <td>0.715771</td>\n",
              "      <td>0.466215</td>\n",
              "      <td>1.0</td>\n",
              "      <td>0.060505</td>\n",
              "      <td>0.0</td>\n",
              "      <td>0.0</td>\n",
              "      <td>0.0</td>\n",
              "      <td>1.0</td>\n",
              "      <td>1.0</td>\n",
              "      <td>0.0</td>\n",
              "      <td>1.0</td>\n",
              "      <td>0.0</td>\n",
              "      <td>0.0</td>\n",
              "      <td>0.0</td>\n",
              "      <td>0.0</td>\n",
              "      <td>0.0</td>\n",
              "      <td>0.0</td>\n",
              "      <td>1.0</td>\n",
              "      <td>0.0</td>\n",
              "      <td>1.0</td>\n",
              "      <td>0.0</td>\n",
              "      <td>0.0</td>\n",
              "      <td>0.0</td>\n",
              "      <td>0.0</td>\n",
              "      <td>0.0</td>\n",
              "      <td>0.0</td>\n",
              "      <td>0.0</td>\n",
              "      <td>0.0</td>\n",
              "      <td>0.0</td>\n",
              "      <td>0.0</td>\n",
              "      <td>1.0</td>\n",
              "      <td>0.0</td>\n",
              "      <td>0.0</td>\n",
              "      <td>0.0</td>\n",
              "      <td>0.0</td>\n",
              "      <td>0.0</td>\n",
              "      <td>0.0</td>\n",
              "      <td>0.0</td>\n",
              "      <td>0.0</td>\n",
              "      <td>1.0</td>\n",
              "      <td>0.0</td>\n",
              "      <td>0.0</td>\n",
              "      <td>0.0</td>\n",
              "      <td>1.0</td>\n",
              "      <td>0.0</td>\n",
              "      <td>0.0</td>\n",
              "    </tr>\n",
              "    <tr>\n",
              "      <th>2</th>\n",
              "      <td>0.0</td>\n",
              "      <td>0.173705</td>\n",
              "      <td>0.144830</td>\n",
              "      <td>0.449638</td>\n",
              "      <td>0.465740</td>\n",
              "      <td>1.0</td>\n",
              "      <td>0.193664</td>\n",
              "      <td>0.0</td>\n",
              "      <td>0.0</td>\n",
              "      <td>0.0</td>\n",
              "      <td>1.0</td>\n",
              "      <td>1.0</td>\n",
              "      <td>0.0</td>\n",
              "      <td>0.0</td>\n",
              "      <td>1.0</td>\n",
              "      <td>0.0</td>\n",
              "      <td>0.0</td>\n",
              "      <td>0.0</td>\n",
              "      <td>0.0</td>\n",
              "      <td>0.0</td>\n",
              "      <td>0.0</td>\n",
              "      <td>1.0</td>\n",
              "      <td>0.0</td>\n",
              "      <td>1.0</td>\n",
              "      <td>0.0</td>\n",
              "      <td>0.0</td>\n",
              "      <td>0.0</td>\n",
              "      <td>0.0</td>\n",
              "      <td>1.0</td>\n",
              "      <td>0.0</td>\n",
              "      <td>0.0</td>\n",
              "      <td>0.0</td>\n",
              "      <td>0.0</td>\n",
              "      <td>0.0</td>\n",
              "      <td>0.0</td>\n",
              "      <td>0.0</td>\n",
              "      <td>0.0</td>\n",
              "      <td>0.0</td>\n",
              "      <td>0.0</td>\n",
              "      <td>0.0</td>\n",
              "      <td>0.0</td>\n",
              "      <td>0.0</td>\n",
              "      <td>0.0</td>\n",
              "      <td>0.0</td>\n",
              "      <td>1.0</td>\n",
              "      <td>0.0</td>\n",
              "      <td>0.0</td>\n",
              "      <td>1.0</td>\n",
              "      <td>0.0</td>\n",
              "    </tr>\n",
              "    <tr>\n",
              "      <th>3</th>\n",
              "      <td>0.0</td>\n",
              "      <td>0.178308</td>\n",
              "      <td>0.174649</td>\n",
              "      <td>0.607131</td>\n",
              "      <td>0.284297</td>\n",
              "      <td>1.0</td>\n",
              "      <td>0.247261</td>\n",
              "      <td>0.0</td>\n",
              "      <td>0.0</td>\n",
              "      <td>0.0</td>\n",
              "      <td>1.0</td>\n",
              "      <td>1.0</td>\n",
              "      <td>0.0</td>\n",
              "      <td>0.0</td>\n",
              "      <td>0.0</td>\n",
              "      <td>1.0</td>\n",
              "      <td>0.0</td>\n",
              "      <td>0.0</td>\n",
              "      <td>0.0</td>\n",
              "      <td>0.0</td>\n",
              "      <td>0.0</td>\n",
              "      <td>1.0</td>\n",
              "      <td>0.0</td>\n",
              "      <td>1.0</td>\n",
              "      <td>0.0</td>\n",
              "      <td>1.0</td>\n",
              "      <td>0.0</td>\n",
              "      <td>0.0</td>\n",
              "      <td>0.0</td>\n",
              "      <td>0.0</td>\n",
              "      <td>0.0</td>\n",
              "      <td>0.0</td>\n",
              "      <td>0.0</td>\n",
              "      <td>0.0</td>\n",
              "      <td>0.0</td>\n",
              "      <td>0.0</td>\n",
              "      <td>0.0</td>\n",
              "      <td>0.0</td>\n",
              "      <td>0.0</td>\n",
              "      <td>0.0</td>\n",
              "      <td>0.0</td>\n",
              "      <td>0.0</td>\n",
              "      <td>1.0</td>\n",
              "      <td>0.0</td>\n",
              "      <td>0.0</td>\n",
              "      <td>0.0</td>\n",
              "      <td>0.0</td>\n",
              "      <td>0.0</td>\n",
              "      <td>1.0</td>\n",
              "    </tr>\n",
              "    <tr>\n",
              "      <th>4</th>\n",
              "      <td>0.0</td>\n",
              "      <td>0.212429</td>\n",
              "      <td>0.197158</td>\n",
              "      <td>0.449313</td>\n",
              "      <td>0.339143</td>\n",
              "      <td>0.0</td>\n",
              "      <td>0.262506</td>\n",
              "      <td>0.0</td>\n",
              "      <td>0.0</td>\n",
              "      <td>0.0</td>\n",
              "      <td>1.0</td>\n",
              "      <td>1.0</td>\n",
              "      <td>0.0</td>\n",
              "      <td>0.0</td>\n",
              "      <td>0.0</td>\n",
              "      <td>0.0</td>\n",
              "      <td>1.0</td>\n",
              "      <td>0.0</td>\n",
              "      <td>0.0</td>\n",
              "      <td>0.0</td>\n",
              "      <td>0.0</td>\n",
              "      <td>1.0</td>\n",
              "      <td>0.0</td>\n",
              "      <td>1.0</td>\n",
              "      <td>0.0</td>\n",
              "      <td>0.0</td>\n",
              "      <td>0.0</td>\n",
              "      <td>1.0</td>\n",
              "      <td>0.0</td>\n",
              "      <td>0.0</td>\n",
              "      <td>0.0</td>\n",
              "      <td>0.0</td>\n",
              "      <td>0.0</td>\n",
              "      <td>0.0</td>\n",
              "      <td>0.0</td>\n",
              "      <td>0.0</td>\n",
              "      <td>0.0</td>\n",
              "      <td>0.0</td>\n",
              "      <td>0.0</td>\n",
              "      <td>1.0</td>\n",
              "      <td>0.0</td>\n",
              "      <td>0.0</td>\n",
              "      <td>0.0</td>\n",
              "      <td>0.0</td>\n",
              "      <td>0.0</td>\n",
              "      <td>0.0</td>\n",
              "      <td>1.0</td>\n",
              "      <td>0.0</td>\n",
              "      <td>0.0</td>\n",
              "    </tr>\n",
              "  </tbody>\n",
              "</table>\n",
              "</div>"
            ],
            "text/plain": [
              "   year      temp  ...  promotion_type_external_2  promotion_type_external_3\n",
              "0   0.0  0.360789  ...                        1.0                        0.0\n",
              "1   0.0  0.385232  ...                        0.0                        0.0\n",
              "2   0.0  0.173705  ...                        1.0                        0.0\n",
              "3   0.0  0.178308  ...                        0.0                        1.0\n",
              "4   0.0  0.212429  ...                        0.0                        0.0\n",
              "\n",
              "[5 rows x 49 columns]"
            ]
          },
          "metadata": {
            "tags": []
          },
          "execution_count": 182
        }
      ]
    },
    {
      "cell_type": "code",
      "metadata": {
        "colab_type": "code",
        "id": "Ad4MfGe1mPDk",
        "colab": {}
      },
      "source": [
        "# split the dataset into X_train, X_test, y_train, y_test\n",
        "# play around with test sizes.\n",
        "\n",
        "test_size = 0.3\n",
        "X_train, X_test, y_train, y_test = train_test_split(X,y,test_size=test_size,random_state=42)"
      ],
      "execution_count": 183,
      "outputs": []
    },
    {
      "cell_type": "code",
      "metadata": {
        "colab_type": "code",
        "id": "6czlxW2tnQqP",
        "colab": {
          "base_uri": "https://localhost:8080/",
          "height": 84
        },
        "outputId": "e69ac097-7462-4add-85c2-ab53b3c93d8f"
      },
      "source": [
        "# print the shapes\n",
        "print(X_train.shape)\n",
        "print(X_test.shape)\n",
        "print(y_train.shape)\n",
        "print(y_test.shape)"
      ],
      "execution_count": 184,
      "outputs": [
        {
          "output_type": "stream",
          "text": [
            "(255, 49)\n",
            "(110, 49)\n",
            "(255,)\n",
            "(110,)\n"
          ],
          "name": "stdout"
        }
      ]
    },
    {
      "cell_type": "code",
      "metadata": {
        "id": "wucUwZBj_W-j",
        "colab_type": "code",
        "colab": {
          "base_uri": "https://localhost:8080/",
          "height": 34
        },
        "outputId": "79d11251-e76c-41de-bc56-8f578841f8b3"
      },
      "source": [
        "type(X_train)"
      ],
      "execution_count": 185,
      "outputs": [
        {
          "output_type": "execute_result",
          "data": {
            "text/plain": [
              "pandas.core.frame.DataFrame"
            ]
          },
          "metadata": {
            "tags": []
          },
          "execution_count": 185
        }
      ]
    },
    {
      "cell_type": "code",
      "metadata": {
        "colab_type": "code",
        "id": "w-lp9O74nUm7",
        "colab": {
          "base_uri": "https://localhost:8080/",
          "height": 34
        },
        "outputId": "c8ab8415-8985-4a78-ed3c-f0d4b46c746f"
      },
      "source": [
        "# build the Linear Regression model.\n",
        "\n",
        "model = LinearRegression()\n",
        "\n",
        "# fit the model on the training data\n",
        "model.fit(X_train, y_train)"
      ],
      "execution_count": 186,
      "outputs": [
        {
          "output_type": "execute_result",
          "data": {
            "text/plain": [
              "LinearRegression(copy_X=True, fit_intercept=True, n_jobs=None, normalize=False)"
            ]
          },
          "metadata": {
            "tags": []
          },
          "execution_count": 186
        }
      ]
    },
    {
      "cell_type": "code",
      "metadata": {
        "colab_type": "code",
        "id": "Ga_f-66JoVri",
        "colab": {
          "base_uri": "https://localhost:8080/",
          "height": 34
        },
        "outputId": "703bafbc-1f59-45cd-e6ca-98a353c2c961"
      },
      "source": [
        "# print the score on training set\n",
        "y_pred_train = model.predict(X_train)\n",
        "print(\"On Training set : \", r2_score(y_train, y_pred_train))"
      ],
      "execution_count": 187,
      "outputs": [
        {
          "output_type": "stream",
          "text": [
            "On Training set :  0.9679114660123109\n"
          ],
          "name": "stdout"
        }
      ]
    },
    {
      "cell_type": "code",
      "metadata": {
        "colab_type": "code",
        "id": "IKmlrtpDoilu",
        "colab": {
          "base_uri": "https://localhost:8080/",
          "height": 34
        },
        "outputId": "f47eaf9a-ac35-4261-ea9b-ba16ec498bd0"
      },
      "source": [
        "# print the score on the test set\n",
        "y_pred_test = model.predict(X_test)\n",
        "print(\"On testing set : \", r2_score(y_test, y_pred_test))"
      ],
      "execution_count": 188,
      "outputs": [
        {
          "output_type": "stream",
          "text": [
            "On testing set :  0.9605614267788112\n"
          ],
          "name": "stdout"
        }
      ]
    },
    {
      "cell_type": "markdown",
      "metadata": {
        "colab_type": "text",
        "id": "cYyTP91_pB-u"
      },
      "source": [
        "Do not edit the code given below. Observe the distribution of weights. \n",
        "Which feature has the maximum coefficient ? <br>\n",
        "Keep this figure as a base reference for visualizing the effects of l1-norm and l2-norm later in this notebook."
      ]
    },
    {
      "cell_type": "code",
      "metadata": {
        "colab_type": "code",
        "id": "Ck8Vx1bWozcf",
        "colab": {}
      },
      "source": [
        "# custom summary function to plot the coefficients / weightage of the features.\n",
        "def custom_summary(model, column_names, title):\n",
        "    '''Show a summary of the trained linear regression model'''\n",
        "\n",
        "    # Plot the coeffients as bars\n",
        "    fig = plt.figure(figsize=(8,len(column_names)/3))\n",
        "    fig.suptitle(title, fontsize=16)\n",
        "    rects = plt.barh(column_names, model.coef_,color=\"lightblue\")\n",
        "\n",
        "    # Annotate the bars with the coefficient values\n",
        "    for rect in rects:\n",
        "        width = round(rect.get_width(),4)\n",
        "        plt.gca().annotate('  {}  '.format(width),\n",
        "                    xy=(0, rect.get_y()),\n",
        "                    xytext=(0,2),  \n",
        "                    textcoords=\"offset points\",  \n",
        "                    ha='left' if width<0 else 'right', va='bottom')        \n",
        "    plt.show()"
      ],
      "execution_count": 189,
      "outputs": []
    },
    {
      "cell_type": "code",
      "metadata": {
        "colab_type": "code",
        "id": "QuyEBDrYotzb",
        "colab": {
          "base_uri": "https://localhost:8080/",
          "height": 1000
        },
        "outputId": "0138d1f5-5d83-419a-85ba-662e3779a1d1"
      },
      "source": [
        "# coefficients plot\n",
        "# let's call the above custom function.\n",
        "\n",
        "custom_summary(model, train_columns, \"Linear Regression coefficients.\")"
      ],
      "execution_count": 190,
      "outputs": [
        {
          "output_type": "display_data",
          "data": {
            "image/png": "[encoded data removed]",
            "text/plain": [
              "<Figure size 576x1176 with 1 Axes>"
            ]
          },
          "metadata": {
            "tags": [],
            "needs_background": "light"
          }
        }
      ]
    },
    {
      "cell_type": "code",
      "metadata": {
        "colab_type": "code",
        "id": "E77vWyd7plQ2",
        "colab": {
          "base_uri": "https://localhost:8080/",
          "height": 134
        },
        "outputId": "f6d05281-2847-4b2e-fcc0-ff7220f0fece"
      },
      "source": [
        "# evaluate the model with k = 10 Fold Cross validation\n",
        "\n",
        "folds = KFold(n_splits = 10, shuffle = True, random_state = 100)\n",
        "results = cross_val_score(model, X, y, scoring = 'r2', cv = folds)\n",
        "\n",
        "print(type(model).__name__)\n",
        "print(\"kFoldCV:\")\n",
        "print(\"Fold R2 scores:\", results)\n",
        "print(\"Mean R2 score:\", results.mean())\n",
        "print(\"Std R2 score:\", results.std())\n",
        "print(\"Generalizability on training set : \", results.mean(), \" +/- \", results.std())"
      ],
      "execution_count": 191,
      "outputs": [
        {
          "output_type": "stream",
          "text": [
            "LinearRegression\n",
            "kFoldCV:\n",
            "Fold R2 scores: [0.98483689 0.8931801  0.9809411  0.9728069  0.9852697  0.98994142\n",
            " 0.94952108 0.9556539  0.98686484 0.96652553]\n",
            "Mean R2 score: 0.9665541445183063\n",
            "Std R2 score: 0.027717851288768112\n",
            "Generalizability on training set :  0.9665541445183063  +/-  0.027717851288768112\n"
          ],
          "name": "stdout"
        }
      ]
    },
    {
      "cell_type": "markdown",
      "metadata": {
        "colab_type": "text",
        "id": "xNVstf3MRWTS"
      },
      "source": [
        "Feature Selection using Variance Thresholding"
      ]
    },
    {
      "cell_type": "code",
      "metadata": {
        "colab_type": "code",
        "id": "3fWmra-LRSvk",
        "colab": {
          "base_uri": "https://localhost:8080/",
          "height": 34
        },
        "outputId": "372b0573-b192-447f-fa36-0fa2fa3db163"
      },
      "source": [
        "print(\"Original shape of X_train : \", X_train.shape)"
      ],
      "execution_count": 192,
      "outputs": [
        {
          "output_type": "stream",
          "text": [
            "Original shape of X_train :  (255, 49)\n"
          ],
          "name": "stdout"
        }
      ]
    },
    {
      "cell_type": "code",
      "metadata": {
        "id": "BVVjNqPb_ohd",
        "colab_type": "code",
        "colab": {
          "base_uri": "https://localhost:8080/",
          "height": 34
        },
        "outputId": "d2b4caca-daa1-4838-ded4-91567399665a"
      },
      "source": [
        "type(X_train)"
      ],
      "execution_count": 193,
      "outputs": [
        {
          "output_type": "execute_result",
          "data": {
            "text/plain": [
              "pandas.core.frame.DataFrame"
            ]
          },
          "metadata": {
            "tags": []
          },
          "execution_count": 193
        }
      ]
    },
    {
      "cell_type": "code",
      "metadata": {
        "colab_type": "code",
        "id": "ZdfMwVybRl9o",
        "colab": {
          "base_uri": "https://localhost:8080/",
          "height": 857
        },
        "outputId": "ebc741ac-df1c-4d71-e185-1d78baefc2ef"
      },
      "source": [
        "# check the variance of X.\n",
        "# Note the type(X) should be a pandas DataFrame as stated earlier.\n",
        "\n",
        "X.var()"
      ],
      "execution_count": 194,
      "outputs": [
        {
          "output_type": "execute_result",
          "data": {
            "text/plain": [
              "year                           0.000000\n",
              "temp                           0.057592\n",
              "feel_temp                      0.049115\n",
              "hum                            0.023394\n",
              "windspeed                      0.025126\n",
              "promotion_type                 0.250685\n",
              "registered                     0.063770\n",
              "season_autumn                  0.187671\n",
              "season_spring                  0.189041\n",
              "season_summer                  0.189041\n",
              "season_winter                  0.186286\n",
              "holiday_0                      0.026720\n",
              "holiday_1                      0.026720\n",
              "weekday_0                      0.122505\n",
              "weekday_1                      0.122505\n",
              "weekday_2                      0.122505\n",
              "weekday_3                      0.122505\n",
              "weekday_4                      0.122505\n",
              "weekday_5                      0.122505\n",
              "weekday_6                      0.124462\n",
              "workingday_0                   0.216393\n",
              "workingday_1                   0.216393\n",
              "weather_cloud                  0.224928\n",
              "weather_fair                   0.236444\n",
              "weather_rain                   0.039515\n",
              "promotion_level_0              0.021496\n",
              "promotion_level_1              0.047012\n",
              "promotion_level_2              0.071022\n",
              "promotion_level_3              0.112494\n",
              "promotion_level_4              0.160440\n",
              "promotion_level_5              0.173145\n",
              "promotion_level_6              0.124462\n",
              "promotion_level_7              0.095695\n",
              "promotion_level_8              0.039515\n",
              "promotion_level_9              0.008174\n",
              "promotion_level_external_1     0.108385\n",
              "promotion_level_external_2     0.093527\n",
              "promotion_level_external_3     0.116544\n",
              "promotion_level_external_4     0.093527\n",
              "promotion_level_external_5     0.089146\n",
              "promotion_level_external_6     0.084706\n",
              "promotion_level_external_7     0.071022\n",
              "promotion_level_external_8     0.075644\n",
              "promotion_level_external_9     0.084706\n",
              "promotion_level_external_10    0.082463\n",
              "promotion_type_external_0      0.182041\n",
              "promotion_type_external_1      0.207783\n",
              "promotion_type_external_2      0.176170\n",
              "promotion_type_external_3      0.183471\n",
              "dtype: float64"
            ]
          },
          "metadata": {
            "tags": []
          },
          "execution_count": 194
        }
      ]
    },
    {
      "cell_type": "markdown",
      "metadata": {
        "colab_type": "text",
        "id": "kk36hVk_Rv6l"
      },
      "source": [
        "Remove low variance features using Variance Threshold. \n",
        "\n",
        "Note : If the variance is less, it implies the values of that particular feature spans limited range of values."
      ]
    },
    {
      "cell_type": "code",
      "metadata": {
        "colab_type": "code",
        "id": "3RkbbmcuRtkJ",
        "colab": {
          "base_uri": "https://localhost:8080/",
          "height": 34
        },
        "outputId": "3ba0c772-299b-49a9-ced1-974d24c286b3"
      },
      "source": [
        "# play around with the threshold values\n",
        "\n",
        "sel = VarianceThreshold(threshold = (0.01))\n",
        "sel.fit(X_train)"
      ],
      "execution_count": 195,
      "outputs": [
        {
          "output_type": "execute_result",
          "data": {
            "text/plain": [
              "VarianceThreshold(threshold=0.01)"
            ]
          },
          "metadata": {
            "tags": []
          },
          "execution_count": 195
        }
      ]
    },
    {
      "cell_type": "code",
      "metadata": {
        "colab_type": "code",
        "id": "Bk525DOySWJp",
        "colab": {
          "base_uri": "https://localhost:8080/",
          "height": 70
        },
        "outputId": "a7372d2b-52f2-4242-9d88-adde9950ca0d"
      },
      "source": [
        "# do not edit.\n",
        "\n",
        "selected_features = list(X_train.columns[sel.get_support()])\n",
        "print(\"Selected features : \", selected_features)\n",
        "print(\"Removed features : \", list(X_train.columns[~sel.get_support()]))"
      ],
      "execution_count": 196,
      "outputs": [
        {
          "output_type": "stream",
          "text": [
            "Selected features :  ['temp', 'feel_temp', 'hum', 'windspeed', 'promotion_type', 'registered', 'season_autumn', 'season_spring', 'season_summer', 'season_winter', 'holiday_0', 'holiday_1', 'weekday_0', 'weekday_1', 'weekday_2', 'weekday_3', 'weekday_4', 'weekday_5', 'weekday_6', 'workingday_0', 'workingday_1', 'weather_cloud', 'weather_fair', 'weather_rain', 'promotion_level_0', 'promotion_level_1', 'promotion_level_2', 'promotion_level_3', 'promotion_level_4', 'promotion_level_5', 'promotion_level_6', 'promotion_level_7', 'promotion_level_8', 'promotion_level_external_1', 'promotion_level_external_2', 'promotion_level_external_3', 'promotion_level_external_4', 'promotion_level_external_5', 'promotion_level_external_6', 'promotion_level_external_7', 'promotion_level_external_8', 'promotion_level_external_9', 'promotion_level_external_10', 'promotion_type_external_0', 'promotion_type_external_1', 'promotion_type_external_2', 'promotion_type_external_3']\n",
            "Removed features :  ['year', 'promotion_level_9']\n"
          ],
          "name": "stdout"
        }
      ]
    },
    {
      "cell_type": "code",
      "metadata": {
        "id": "L6sBOzTC_BoB",
        "colab_type": "code",
        "colab": {
          "base_uri": "https://localhost:8080/",
          "height": 34
        },
        "outputId": "ec1cdc18-e924-4009-a792-d8b2346805e5"
      },
      "source": [
        "type(X_train)"
      ],
      "execution_count": 197,
      "outputs": [
        {
          "output_type": "execute_result",
          "data": {
            "text/plain": [
              "pandas.core.frame.DataFrame"
            ]
          },
          "metadata": {
            "tags": []
          },
          "execution_count": 197
        }
      ]
    },
    {
      "cell_type": "markdown",
      "metadata": {
        "id": "Hx-3tvsyCKgB",
        "colab_type": "text"
      },
      "source": [
        "the following codecell should be removed"
      ]
    },
    {
      "cell_type": "code",
      "metadata": {
        "colab_type": "code",
        "id": "Ci3BFPnE5ex4",
        "colab": {}
      },
      "source": [
        "# # Delete the removed features from the train_columns list.\n",
        "# removed_features=list(X_train.columns[~sel.get_support()])\n",
        "# for i in removed_features:\n",
        "#   train_columns.remove(i)"
      ],
      "execution_count": 198,
      "outputs": []
    },
    {
      "cell_type": "code",
      "metadata": {
        "colab_type": "code",
        "id": "k1AQhlAhSXI5",
        "colab": {}
      },
      "source": [
        "#transform / remove the low variance features\n",
        "\n",
        "X_train = sel.transform(X_train)\n",
        "X_test = sel.transform(X_test)"
      ],
      "execution_count": 199,
      "outputs": []
    },
    {
      "cell_type": "markdown",
      "metadata": {
        "colab_type": "text",
        "id": "UH8mZBs3S-i3"
      },
      "source": [
        "## Lasso Regression : L1 - norm"
      ]
    },
    {
      "cell_type": "code",
      "metadata": {
        "colab_type": "code",
        "id": "0XTVvk4gS98-",
        "colab": {
          "base_uri": "https://localhost:8080/",
          "height": 34
        },
        "outputId": "4920c528-4299-41ce-da4c-f280f0ca948a"
      },
      "source": [
        "from sklearn.linear_model import Lasso\n",
        "\n",
        "X_train, X_test, y_train, y_test = train_test_split(X,y, test_size = 0.3, random_state = 100)\n",
        "\n",
        "# hyperparamater alpha : controls the degree of penaliation.\n",
        "# play around with alpha values.\n",
        "alpha = 1.0\n",
        "\n",
        "#create the model\n",
        "model_lasso = Lasso(alpha = alpha)\n",
        "\n",
        "#fit the model on training data\n",
        "model_lasso.fit(X_train, y_train)\n",
        "\n",
        "#calculate the score on training data\n",
        "y_pred_train = model_lasso.predict(X_train)\n",
        "print(\"On train set : \", r2_score(y_train, y_pred_train))"
      ],
      "execution_count": 200,
      "outputs": [
        {
          "output_type": "stream",
          "text": [
            "On train set :  0.9882203247415634\n"
          ],
          "name": "stdout"
        }
      ]
    },
    {
      "cell_type": "code",
      "metadata": {
        "colab_type": "code",
        "id": "PD4NpuxYTWoV",
        "colab": {
          "base_uri": "https://localhost:8080/",
          "height": 34
        },
        "outputId": "922f935b-c86f-48fa-d0b9-238ed8c7e196"
      },
      "source": [
        "#evaluate the model on testing data\n",
        "y_pred_test = model_lasso.predict(X_test)\n",
        "print(\"On test set : \", r2_score(y_test, y_pred_test))"
      ],
      "execution_count": 201,
      "outputs": [
        {
          "output_type": "stream",
          "text": [
            "On test set :  0.9863438856173423\n"
          ],
          "name": "stdout"
        }
      ]
    },
    {
      "cell_type": "code",
      "metadata": {
        "colab_type": "code",
        "id": "bN7w1V5hT2Dp",
        "colab": {
          "base_uri": "https://localhost:8080/",
          "height": 1000
        },
        "outputId": "cae970c5-8602-43da-e980-9cf9f62151ba"
      },
      "source": [
        "# visualize the coefficients.\n",
        "# compare the results with the plot obtained earlier.\n",
        "\n",
        "custom_summary(model_lasso, train_columns, \"Lasso Regression Coefficients.\")"
      ],
      "execution_count": 202,
      "outputs": [
        {
          "output_type": "display_data",
          "data": {
            "image/png": "[encoded data removed]",
            "text/plain": [
              "<Figure size 576x1176 with 1 Axes>"
            ]
          },
          "metadata": {
            "tags": [],
            "needs_background": "light"
          }
        }
      ]
    },
    {
      "cell_type": "markdown",
      "metadata": {
        "colab_type": "text",
        "id": "dsjziyZzUS8P"
      },
      "source": [
        "We can see that Lasso regression has automatically done a lot of feature selection. Some columns might have zero coefficients. It has been effectively removed. <br> \n",
        "The model is much more interpretable than the baseline linear regression model.\n",
        "<br>\n",
        "Hence, Lasso regression has embedded Feature Selection."
      ]
    },
    {
      "cell_type": "markdown",
      "metadata": {
        "colab_type": "text",
        "id": "O9IlW2V2UfD0"
      },
      "source": [
        "# Ridge Regression : L2 - norm"
      ]
    },
    {
      "cell_type": "code",
      "metadata": {
        "colab_type": "code",
        "id": "j6PRlLONUckx",
        "colab": {
          "base_uri": "https://localhost:8080/",
          "height": 34
        },
        "outputId": "6663d393-96c8-4f1f-9e9a-06b446bd9de2"
      },
      "source": [
        "from sklearn.linear_model import Ridge\n",
        "\n",
        "# hyperparamater alpha : controls the degree of penaliation.\n",
        "# play around with alpha values.\n",
        "alpha = 1.0\n",
        "\n",
        "#create the model\n",
        "model_ridge = Ridge(alpha = alpha)\n",
        "\n",
        "#fit the model on training data\n",
        "model_ridge.fit(X_train, y_train)\n",
        "\n",
        "#calculate the score on training data\n",
        "y_pred_train = model_ridge.predict(X_train)\n",
        "print(\"On train set : \", r2_score(y_train, y_pred_train))\n"
      ],
      "execution_count": 203,
      "outputs": [
        {
          "output_type": "stream",
          "text": [
            "On train set :  0.9815236376827813\n"
          ],
          "name": "stdout"
        }
      ]
    },
    {
      "cell_type": "code",
      "metadata": {
        "colab_type": "code",
        "id": "jzukav_PVTG2",
        "colab": {
          "base_uri": "https://localhost:8080/",
          "height": 34
        },
        "outputId": "2c96a2f0-dbf8-46dc-97d7-bfce75ae55a1"
      },
      "source": [
        "#evaluate the model on testing data\n",
        "y_pred_test = model_ridge.predict(X_test)\n",
        "print(\"On test set : \", r2_score(y_test, y_pred_test))"
      ],
      "execution_count": 204,
      "outputs": [
        {
          "output_type": "stream",
          "text": [
            "On test set :  0.9751015154913982\n"
          ],
          "name": "stdout"
        }
      ]
    },
    {
      "cell_type": "code",
      "metadata": {
        "colab_type": "code",
        "id": "c39ZBnmvVYSA",
        "colab": {
          "base_uri": "https://localhost:8080/",
          "height": 1000
        },
        "outputId": "e20171be-675c-427c-ed92-f1f279cdd2fc"
      },
      "source": [
        "# visualize the coefficients.\n",
        "# compare the results with the plot obtained earlier.\n",
        "\n",
        "custom_summary(model_ridge, train_columns, \"Ridge Regression Coefficients.\")"
      ],
      "execution_count": 205,
      "outputs": [
        {
          "output_type": "display_data",
          "data": {
            "image/png": "[encoded data removed]",
            "text/plain": [
              "<Figure size 576x1176 with 1 Axes>"
            ]
          },
          "metadata": {
            "tags": [],
            "needs_background": "light"
          }
        }
      ]
    },
    {
      "cell_type": "markdown",
      "metadata": {
        "colab_type": "text",
        "id": "TqLF3812VefE"
      },
      "source": [
        "Ridge regression doesn't drive smaller coefficients to 0 hence it doesn't possess internal feature selection."
      ]
    },
    {
      "cell_type": "markdown",
      "metadata": {
        "colab_type": "text",
        "id": "DUCm0xOc6inT"
      },
      "source": [
        "Points to Ponder ! [Optional]"
      ]
    },
    {
      "cell_type": "markdown",
      "metadata": {
        "colab_type": "text",
        "id": "l9FHk5sw6nLb"
      },
      "source": [
        "Did you notice the highest dependency on the feature \"registered\" if you haven't removed it till now ?\n",
        "\n",
        "Since our target is \"cnt\" which is the simple combination of \"registered\" and \"casual\".\n",
        "\n",
        "we have removed \"casual\", but the model was smart enough to predict the target \"cnt\" simply from one feature \"registered\" itself. \n",
        "\n",
        "This is the classic example of Data Leakage. So the aim here is not to make 99 percent accurate predictions, the aim is to take into account the factors for making predictions.\n",
        "\n",
        "So, to get a detailed report, we should avoid data leakage thereby removing both the features \"registered\" and \"casual\"."
      ]
    },
    {
      "cell_type": "code",
      "metadata": {
        "colab_type": "code",
        "id": "4euMcAFR6kLG",
        "colab": {}
      },
      "source": [
        ""
      ],
      "execution_count": 205,
      "outputs": []
    }
  ]
}