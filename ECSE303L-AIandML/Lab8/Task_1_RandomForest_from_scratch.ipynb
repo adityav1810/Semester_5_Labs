{
  "nbformat": 4,
  "nbformat_minor": 0,
  "metadata": {
    "kernelspec": {
      "display_name": "Python 2",
      "language": "python",
      "name": "python2"
    },
    "language_info": {
      "codemirror_mode": {
        "name": "ipython",
        "version": 2
      },
      "file_extension": ".py",
      "mimetype": "text/x-python",
      "name": "python",
      "nbconvert_exporter": "python",
      "pygments_lexer": "ipython2",
      "version": "2.7.12"
    },
    "colab": {
      "name": "Task 1 - RandomForest_from_scratch.ipynb",
      "provenance": [],
      "collapsed_sections": [],
      "include_colab_link": true
    }
  },
  "cells": [
    {
      "cell_type": "markdown",
      "metadata": {
        "id": "view-in-github",
        "colab_type": "text"
      },
      "source": [
        "<a href=\"https://colab.research.google.com/github/adityav1810/Semester_5_Labs/blob/master/ECSE303L-AIandML/Lab8/Task_1_RandomForest_from_scratch.ipynb\" target=\"_parent\"><img src=\"https://colab.research.google.com/assets/colab-badge.svg\" alt=\"Open In Colab\"/></a>"
      ]
    },
    {
      "cell_type": "markdown",
      "metadata": {
        "id": "m5A6n7jvYxPC"
      },
      "source": [
        "#Vehicle silhouettes\n",
        "\n",
        "##Objective\n",
        "To classify a given silhouette as one of four types of vehicle, \tusing a set of features extracted from the silhouette. The \tvehicle may be viewed from one of many different angles.   \n",
        "\n",
        "##Description\n",
        "\n",
        "###The features were extracted from the silhouettes by the HIPS\n",
        "(Hierarchical Image Processing System) extension BINATTS, which extracts a combination of scale independent features utilising\tboth classical moments based measures such as scaled variance,\tskewness and kurtosis about the major/minor axes and heuristic\tmeasures such as hollows, circularity, rectangularity and\tcompactness. Four \"Corgie\" model vehicles were used for the experiment: a double decker bus, Cheverolet van, Saab 9000 and an Opel Manta 400.\tThis particular combination of vehicles was chosen with the expectation that the bus, van and either one of the cars would be readily distinguishable, but it would be more difficult to distinguish between the cars.\n",
        "\t\n",
        "##Source: https://www.kaggle.com/rajansharma780/vehicle\n",
        "\n",
        "## ATTRIBUTES\n",
        "1.\tcompactness\tfloat\taverage perimeter**2/area\n",
        "2.\tcircularity\tfloat\taverage radius**2/area\n",
        "3.\tdistance_circularity\tfloat\tarea/(av.distance from border)**2\n",
        "4.\tradius_ratio\tfloat\t(max.rad-min.rad)/av.radius\n",
        "5.\tpr_axis_aspect_ratio\tfloat\t(minor axis)/(major axis)\n",
        "6.\tmax_length_aspect_ratio\tfloat\t(length perp. max length)/(max length)\n",
        "7.\tscatter_ratio\tfloat\t(inertia about minor axis)/(inertia about major axis)\n",
        "8.\telongatedness\tfloat\tarea/(shrink width)**2\n",
        "9.\tpr_axis_rectangularity\tfloat\tarea/(pr.axis length*pr.axis width)\n",
        "10.\tmax_length_rectangularity\tfloat\tarea/(max.length*length perp. to this)\n",
        "11.\tscaled_variance_major_axis\tfloat\t(2nd order moment about minor axis)/area\n",
        "12.\tscaled_variance_minor_axis\tfloat\t(2nd order moment about major axis)/area\n",
        "13.\tscaled_radius_gyration\tfloat\t(mavar+mivar)/area\n",
        "14.\tskewness_major_axis\tfloat\t(3rd order moment about major axis)/sigma_min**3\n",
        "15.\tskewness_minor_axis\tfloat\t(3rd order moment about minor axis)/sigma_maj**3\n",
        "16.\tkurtosis_minor_axis\tfloat\t(4th order moment about major axis)/sigma_min**4\n",
        "17.\tkurtosis_major_axis\tfloat\t(4th order moment about minor axis)/sigma_maj**4\n",
        "18.\thollows_ratio\tfloat\t(area of hollows)/(area of bounding polygon)\n",
        "\n",
        "##Target variable\n",
        "19.\tvehicle_class\tstring\tPredictor Class. Values: Opel, Saab, Bus, Van\t\n",
        "\n",
        "#Tasks:\n",
        "1.\tObtain the multi-class dataset from the given link\n",
        "2.\tLoad the dataset\n",
        "3.\tApply pre-processing techniques: Encoding, Scaling\n",
        "4.\tDivide the dataset into training (70%) and testing (30%)\n",
        "5.\tBuild your own random forest model from scratch (using invidual decision tree model from sklearn)\n",
        "6.\tTrain the random forest model\n",
        "7.\tTest the random forest model\n",
        "8.\tTrain and test the random forest model using sklearn.\n",
        "9.\tCompare the performance of both the models\n",
        "\n",
        "##Useful links:\n",
        "https://machinelearningmastery.com/implement-random-forest-scratch-python/\n",
        "\n",
        "https://towardsdatascience.com/random-forests-and-decision-trees-from-scratch-in-python-3e4fa5ae4249\n",
        "\n",
        "https://www.analyticsvidhya.com/blog/2018/12/building-a-random-forest-from-scratch-understanding-real-world-data-products-ml-for-programmers-part-3/"
      ]
    },
    {
      "cell_type": "markdown",
      "metadata": {
        "id": "W-FoSpD3QDP4"
      },
      "source": [
        "# Part 1: Random Forest from scratch\n",
        "\n",
        "Random forests are an ensemble learning method for classification and regression that operate by constructing multiple decision trees at training time and outputting the class that is the mode of the classes (classification) or mean prediction (regression) of the individual trees."
      ]
    },
    {
      "cell_type": "code",
      "metadata": {
        "id": "4q0F2HVFPl0R"
      },
      "source": [
        "# Load the libraries\n",
        "import pandas as pd\n",
        "import numpy as np\n",
        "from sklearn.tree import DecisionTreeClassifier\n",
        "data_path='https://raw.githubusercontent.com/adityav1810/Semester_5_Labs/master/ECSE303L-AIandML/Lab8/vehicle.csv'"
      ],
      "execution_count": 59,
      "outputs": []
    },
    {
      "cell_type": "code",
      "metadata": {
        "id": "VACehGfwPoAg",
        "outputId": "dc928996-f4e6-41e2-cd71-1248b12a0bcd",
        "colab": {
          "base_uri": "https://localhost:8080/",
          "height": 218
        }
      },
      "source": [
        "# Load the dataset \n",
        "data=pd.read_csv(data_path)\n",
        "data.head()\n",
        "\n"
      ],
      "execution_count": 60,
      "outputs": [
        {
          "output_type": "execute_result",
          "data": {
            "text/plain": [
              "   compactness  circularity  distance_circularity  radius_ratio  \\\n",
              "0           95         48.0                  83.0         178.0   \n",
              "1           91         41.0                  84.0         141.0   \n",
              "2          104         50.0                 106.0         209.0   \n",
              "3           93         41.0                  82.0         159.0   \n",
              "4           85         44.0                  70.0         205.0   \n",
              "\n",
              "   pr.axis_aspect_ratio  max.length_aspect_ratio  scatter_ratio  \\\n",
              "0                  72.0                       10          162.0   \n",
              "1                  57.0                        9          149.0   \n",
              "2                  66.0                       10          207.0   \n",
              "3                  63.0                        9          144.0   \n",
              "4                 103.0                       52          149.0   \n",
              "\n",
              "   elongatedness  pr.axis_rectangularity  max.length_rectangularity  \\\n",
              "0           42.0                    20.0                        159   \n",
              "1           45.0                    19.0                        143   \n",
              "2           32.0                    23.0                        158   \n",
              "3           46.0                    19.0                        143   \n",
              "4           45.0                    19.0                        144   \n",
              "\n",
              "   scaled_variance  scaled_variance.1  scaled_radius_of_gyration  \\\n",
              "0            176.0              379.0                      184.0   \n",
              "1            170.0              330.0                      158.0   \n",
              "2            223.0              635.0                      220.0   \n",
              "3            160.0              309.0                      127.0   \n",
              "4            241.0              325.0                      188.0   \n",
              "\n",
              "   scaled_radius_of_gyration.1  skewness_about  skewness_about.1  \\\n",
              "0                         70.0             6.0              16.0   \n",
              "1                         72.0             9.0              14.0   \n",
              "2                         73.0            14.0               9.0   \n",
              "3                         63.0             6.0              10.0   \n",
              "4                        127.0             9.0              11.0   \n",
              "\n",
              "   skewness_about.2  hollows_ratio class  \n",
              "0             187.0            197   van  \n",
              "1             189.0            199   van  \n",
              "2             188.0            196   car  \n",
              "3             199.0            207   van  \n",
              "4             180.0            183   bus  "
            ],
            "text/html": [
              "<div>\n",
              "<style scoped>\n",
              "    .dataframe tbody tr th:only-of-type {\n",
              "        vertical-align: middle;\n",
              "    }\n",
              "\n",
              "    .dataframe tbody tr th {\n",
              "        vertical-align: top;\n",
              "    }\n",
              "\n",
              "    .dataframe thead th {\n",
              "        text-align: right;\n",
              "    }\n",
              "</style>\n",
              "<table border=\"1\" class=\"dataframe\">\n",
              "  <thead>\n",
              "    <tr style=\"text-align: right;\">\n",
              "      <th></th>\n",
              "      <th>compactness</th>\n",
              "      <th>circularity</th>\n",
              "      <th>distance_circularity</th>\n",
              "      <th>radius_ratio</th>\n",
              "      <th>pr.axis_aspect_ratio</th>\n",
              "      <th>max.length_aspect_ratio</th>\n",
              "      <th>scatter_ratio</th>\n",
              "      <th>elongatedness</th>\n",
              "      <th>pr.axis_rectangularity</th>\n",
              "      <th>max.length_rectangularity</th>\n",
              "      <th>scaled_variance</th>\n",
              "      <th>scaled_variance.1</th>\n",
              "      <th>scaled_radius_of_gyration</th>\n",
              "      <th>scaled_radius_of_gyration.1</th>\n",
              "      <th>skewness_about</th>\n",
              "      <th>skewness_about.1</th>\n",
              "      <th>skewness_about.2</th>\n",
              "      <th>hollows_ratio</th>\n",
              "      <th>class</th>\n",
              "    </tr>\n",
              "  </thead>\n",
              "  <tbody>\n",
              "    <tr>\n",
              "      <th>0</th>\n",
              "      <td>95</td>\n",
              "      <td>48.0</td>\n",
              "      <td>83.0</td>\n",
              "      <td>178.0</td>\n",
              "      <td>72.0</td>\n",
              "      <td>10</td>\n",
              "      <td>162.0</td>\n",
              "      <td>42.0</td>\n",
              "      <td>20.0</td>\n",
              "      <td>159</td>\n",
              "      <td>176.0</td>\n",
              "      <td>379.0</td>\n",
              "      <td>184.0</td>\n",
              "      <td>70.0</td>\n",
              "      <td>6.0</td>\n",
              "      <td>16.0</td>\n",
              "      <td>187.0</td>\n",
              "      <td>197</td>\n",
              "      <td>van</td>\n",
              "    </tr>\n",
              "    <tr>\n",
              "      <th>1</th>\n",
              "      <td>91</td>\n",
              "      <td>41.0</td>\n",
              "      <td>84.0</td>\n",
              "      <td>141.0</td>\n",
              "      <td>57.0</td>\n",
              "      <td>9</td>\n",
              "      <td>149.0</td>\n",
              "      <td>45.0</td>\n",
              "      <td>19.0</td>\n",
              "      <td>143</td>\n",
              "      <td>170.0</td>\n",
              "      <td>330.0</td>\n",
              "      <td>158.0</td>\n",
              "      <td>72.0</td>\n",
              "      <td>9.0</td>\n",
              "      <td>14.0</td>\n",
              "      <td>189.0</td>\n",
              "      <td>199</td>\n",
              "      <td>van</td>\n",
              "    </tr>\n",
              "    <tr>\n",
              "      <th>2</th>\n",
              "      <td>104</td>\n",
              "      <td>50.0</td>\n",
              "      <td>106.0</td>\n",
              "      <td>209.0</td>\n",
              "      <td>66.0</td>\n",
              "      <td>10</td>\n",
              "      <td>207.0</td>\n",
              "      <td>32.0</td>\n",
              "      <td>23.0</td>\n",
              "      <td>158</td>\n",
              "      <td>223.0</td>\n",
              "      <td>635.0</td>\n",
              "      <td>220.0</td>\n",
              "      <td>73.0</td>\n",
              "      <td>14.0</td>\n",
              "      <td>9.0</td>\n",
              "      <td>188.0</td>\n",
              "      <td>196</td>\n",
              "      <td>car</td>\n",
              "    </tr>\n",
              "    <tr>\n",
              "      <th>3</th>\n",
              "      <td>93</td>\n",
              "      <td>41.0</td>\n",
              "      <td>82.0</td>\n",
              "      <td>159.0</td>\n",
              "      <td>63.0</td>\n",
              "      <td>9</td>\n",
              "      <td>144.0</td>\n",
              "      <td>46.0</td>\n",
              "      <td>19.0</td>\n",
              "      <td>143</td>\n",
              "      <td>160.0</td>\n",
              "      <td>309.0</td>\n",
              "      <td>127.0</td>\n",
              "      <td>63.0</td>\n",
              "      <td>6.0</td>\n",
              "      <td>10.0</td>\n",
              "      <td>199.0</td>\n",
              "      <td>207</td>\n",
              "      <td>van</td>\n",
              "    </tr>\n",
              "    <tr>\n",
              "      <th>4</th>\n",
              "      <td>85</td>\n",
              "      <td>44.0</td>\n",
              "      <td>70.0</td>\n",
              "      <td>205.0</td>\n",
              "      <td>103.0</td>\n",
              "      <td>52</td>\n",
              "      <td>149.0</td>\n",
              "      <td>45.0</td>\n",
              "      <td>19.0</td>\n",
              "      <td>144</td>\n",
              "      <td>241.0</td>\n",
              "      <td>325.0</td>\n",
              "      <td>188.0</td>\n",
              "      <td>127.0</td>\n",
              "      <td>9.0</td>\n",
              "      <td>11.0</td>\n",
              "      <td>180.0</td>\n",
              "      <td>183</td>\n",
              "      <td>bus</td>\n",
              "    </tr>\n",
              "  </tbody>\n",
              "</table>\n",
              "</div>"
            ]
          },
          "metadata": {
            "tags": []
          },
          "execution_count": 60
        }
      ]
    },
    {
      "cell_type": "code",
      "metadata": {
        "id": "YonBdcVNydkS",
        "outputId": "06ae1469-60c5-4c61-fad1-e8ba97ff7849",
        "colab": {
          "base_uri": "https://localhost:8080/",
          "height": 446
        }
      },
      "source": [
        "data.info()"
      ],
      "execution_count": 61,
      "outputs": [
        {
          "output_type": "stream",
          "text": [
            "<class 'pandas.core.frame.DataFrame'>\n",
            "RangeIndex: 846 entries, 0 to 845\n",
            "Data columns (total 19 columns):\n",
            "compactness                    846 non-null int64\n",
            "circularity                    841 non-null float64\n",
            "distance_circularity           842 non-null float64\n",
            "radius_ratio                   840 non-null float64\n",
            "pr.axis_aspect_ratio           844 non-null float64\n",
            "max.length_aspect_ratio        846 non-null int64\n",
            "scatter_ratio                  845 non-null float64\n",
            "elongatedness                  845 non-null float64\n",
            "pr.axis_rectangularity         843 non-null float64\n",
            "max.length_rectangularity      846 non-null int64\n",
            "scaled_variance                843 non-null float64\n",
            "scaled_variance.1              844 non-null float64\n",
            "scaled_radius_of_gyration      844 non-null float64\n",
            "scaled_radius_of_gyration.1    842 non-null float64\n",
            "skewness_about                 840 non-null float64\n",
            "skewness_about.1               845 non-null float64\n",
            "skewness_about.2               845 non-null float64\n",
            "hollows_ratio                  846 non-null int64\n",
            "class                          846 non-null object\n",
            "dtypes: float64(14), int64(4), object(1)\n",
            "memory usage: 125.6+ KB\n"
          ],
          "name": "stdout"
        }
      ]
    },
    {
      "cell_type": "code",
      "metadata": {
        "id": "XmyfpVczyfD0",
        "outputId": "6c42e010-84fb-4dd5-883a-b0e971135884",
        "colab": {
          "base_uri": "https://localhost:8080/",
          "height": 374
        }
      },
      "source": [
        "data.isnull().sum()"
      ],
      "execution_count": 62,
      "outputs": [
        {
          "output_type": "execute_result",
          "data": {
            "text/plain": [
              "compactness                    0\n",
              "circularity                    5\n",
              "distance_circularity           4\n",
              "radius_ratio                   6\n",
              "pr.axis_aspect_ratio           2\n",
              "max.length_aspect_ratio        0\n",
              "scatter_ratio                  1\n",
              "elongatedness                  1\n",
              "pr.axis_rectangularity         3\n",
              "max.length_rectangularity      0\n",
              "scaled_variance                3\n",
              "scaled_variance.1              2\n",
              "scaled_radius_of_gyration      2\n",
              "scaled_radius_of_gyration.1    4\n",
              "skewness_about                 6\n",
              "skewness_about.1               1\n",
              "skewness_about.2               1\n",
              "hollows_ratio                  0\n",
              "class                          0\n",
              "dtype: int64"
            ]
          },
          "metadata": {
            "tags": []
          },
          "execution_count": 62
        }
      ]
    },
    {
      "cell_type": "code",
      "metadata": {
        "id": "S47gOYRhPqKF"
      },
      "source": [
        "# Preprocessing\n",
        "# Encoding categorical variables (if any)\n",
        "# Feature Scaling\n",
        "# Filling missing values (if any)\n",
        "\n",
        "from sklearn.preprocessing import MinMaxScaler\n",
        "from sklearn.preprocessing import LabelEncoder\n",
        "le=LabelEncoder()\n",
        "col=['class']\n",
        "data[col[0:]] = data[col[0:]].apply(lambda col: le.fit_transform(col))\n",
        "columns = data.columns\n",
        "minmaxscaler = MinMaxScaler()\n",
        "data[columns[:-1]] = minmaxscaler.fit_transform(data[columns[:-1]])"
      ],
      "execution_count": 63,
      "outputs": []
    },
    {
      "cell_type": "code",
      "metadata": {
        "id": "tPxXifzEzV27",
        "outputId": "ff32ac3d-5f04-4eae-c324-56ecc8b6cade",
        "colab": {
          "base_uri": "https://localhost:8080/",
          "height": 374
        }
      },
      "source": [
        "data=data.fillna(0)\n",
        "data.isnull().sum()"
      ],
      "execution_count": 64,
      "outputs": [
        {
          "output_type": "execute_result",
          "data": {
            "text/plain": [
              "compactness                    0\n",
              "circularity                    0\n",
              "distance_circularity           0\n",
              "radius_ratio                   0\n",
              "pr.axis_aspect_ratio           0\n",
              "max.length_aspect_ratio        0\n",
              "scatter_ratio                  0\n",
              "elongatedness                  0\n",
              "pr.axis_rectangularity         0\n",
              "max.length_rectangularity      0\n",
              "scaled_variance                0\n",
              "scaled_variance.1              0\n",
              "scaled_radius_of_gyration      0\n",
              "scaled_radius_of_gyration.1    0\n",
              "skewness_about                 0\n",
              "skewness_about.1               0\n",
              "skewness_about.2               0\n",
              "hollows_ratio                  0\n",
              "class                          0\n",
              "dtype: int64"
            ]
          },
          "metadata": {
            "tags": []
          },
          "execution_count": 64
        }
      ]
    },
    {
      "cell_type": "code",
      "metadata": {
        "id": "ywJGz-VZP2R9",
        "outputId": "a6c796b0-259c-4d2f-ea7b-2e73e18bd01a",
        "colab": {
          "base_uri": "https://localhost:8080/",
          "height": 35
        }
      },
      "source": [
        "# Divide the dataset to training and testing set\n",
        "from sklearn.model_selection import train_test_split\n",
        "X=data.iloc[:,:-1]\n",
        "y=data.iloc[:,-1]\n",
        "X=X.astype('float')\n",
        "y=y.astype('float')\n",
        "X_train,X_test,y_train,y_test=train_test_split(X,y,test_size=0.33,random_state=42)\n",
        "print('Shape of data: ',X_train.shape,X_test.shape,y_test.shape,y_train.shape)\n"
      ],
      "execution_count": 65,
      "outputs": [
        {
          "output_type": "stream",
          "text": [
            "('Shape of data: ', (566, 18), (280, 18), (280,), (566,))\n"
          ],
          "name": "stdout"
        }
      ]
    },
    {
      "cell_type": "code",
      "metadata": {
        "id": "hu9YAA53YxPG"
      },
      "source": [
        "# Randomly choose the features from training set and build decision tree\n",
        "# Randomness in the features will help us to achieve different DTrees every time\n",
        "# You can keep minimum number of random features every time so that trees will have sufficient features\n",
        "# Note: You can use builtin function for DT training using Sklearn\n",
        "import random\n",
        "from sklearn.metrics import precision_recall_fscore_support\n",
        "import matplotlib.pyplot as plt\n",
        "\n",
        "\n",
        "def get_random_features(X_train,no_of_features):\n",
        "  return random.sample(list(X_train.columns),k=no_of_features)\n",
        "def random_forest(n_trees,n_features):\n",
        "  trees=[]\n",
        "  feature_set=[]\n",
        "  for i in range(n_trees):\n",
        "    features=get_random_features(X_train,n_features+i)\n",
        "    feature_set.append(features)\n",
        "    dtc=DecisionTreeClassifier()\n",
        "    dtc.fit(X_train[features].values,y_train.values)\n",
        "    trees.append(dtc)\n",
        "\n",
        "  accuracy,precision,recall,f_score=[],[],[],[]\n",
        "  res=[]\n",
        "  for i in range(len(trees)):\n",
        "    res.append((trees[i],feature_set[i]))\n",
        "  for tree,feature in res:\n",
        "    predictions=tree.predict(X_test[feature].values)\n",
        "    y_pred=[]\n",
        "    weights=tree.score(X_test[feature].values,predictions)\n",
        "    for i in range(predictions.shape[0]):\n",
        "      y_pred.append(np.mean(predictions[i,])*weights)\n",
        "    y_pred=np.array(y_pred)\n",
        "    acc=tree.score(X_test[feature].values,y_test.values)\n",
        "    prec, rec, fs, _ = precision_recall_fscore_support(y_test, y_pred,beta=1.0)\n",
        "    accuracy.append(np.mean(acc))\n",
        "    precision.append(np.mean(prec))\n",
        "    f_score.append(np.mean(fs))\n",
        "  \n",
        "  plt.plot(accuracy)\n",
        "  plt.plot(precision)\n",
        "  plt.plot(recall)\n",
        "  plt.plot(f_score)\n",
        "  plt.legend(['Accuracy','Precision','Recall','fscore'])\n",
        "  plt.show()\n",
        "\n"
      ],
      "execution_count": 70,
      "outputs": []
    },
    {
      "cell_type": "code",
      "metadata": {
        "id": "22bKlgbZYxPQ",
        "outputId": "918774e9-d41f-493e-ac21-7cd5706ea2f1",
        "colab": {
          "base_uri": "https://localhost:8080/",
          "height": 389
        }
      },
      "source": [
        "# Train N number of decision trees using random feature selection strategy\n",
        "# Number of trees N can be user input\n",
        "n_trees=int(input('Enter number of trees'))\n",
        "n_features=int(input('Enter minimum features'))\n",
        "random_forest(n_trees,n_features)\n"
      ],
      "execution_count": 77,
      "outputs": [
        {
          "output_type": "stream",
          "text": [
            "Enter number of trees8\n",
            "Enter minimum features12\n"
          ],
          "name": "stdout"
        },
        {
          "output_type": "error",
          "ename": "ValueError",
          "evalue": "ignored",
          "traceback": [
            "\u001b[0;31m\u001b[0m",
            "\u001b[0;31mValueError\u001b[0mTraceback (most recent call last)",
            "\u001b[0;32m<ipython-input-77-04a8238e86e2>\u001b[0m in \u001b[0;36m<module>\u001b[0;34m()\u001b[0m\n\u001b[1;32m      3\u001b[0m \u001b[0mn_trees\u001b[0m\u001b[0;34m=\u001b[0m\u001b[0mint\u001b[0m\u001b[0;34m(\u001b[0m\u001b[0minput\u001b[0m\u001b[0;34m(\u001b[0m\u001b[0;34m'Enter number of trees'\u001b[0m\u001b[0;34m)\u001b[0m\u001b[0;34m)\u001b[0m\u001b[0;34m\u001b[0m\u001b[0m\n\u001b[1;32m      4\u001b[0m \u001b[0mn_features\u001b[0m\u001b[0;34m=\u001b[0m\u001b[0mint\u001b[0m\u001b[0;34m(\u001b[0m\u001b[0minput\u001b[0m\u001b[0;34m(\u001b[0m\u001b[0;34m'Enter minimum features'\u001b[0m\u001b[0;34m)\u001b[0m\u001b[0;34m)\u001b[0m\u001b[0;34m\u001b[0m\u001b[0m\n\u001b[0;32m----> 5\u001b[0;31m \u001b[0mrandom_forest\u001b[0m\u001b[0;34m(\u001b[0m\u001b[0mn_trees\u001b[0m\u001b[0;34m,\u001b[0m\u001b[0mn_features\u001b[0m\u001b[0;34m)\u001b[0m\u001b[0;34m\u001b[0m\u001b[0m\n\u001b[0m",
            "\u001b[0;32m<ipython-input-70-8a228ec67038>\u001b[0m in \u001b[0;36mrandom_forest\u001b[0;34m(n_trees, n_features)\u001b[0m\n\u001b[1;32m     14\u001b[0m   \u001b[0mfeature_set\u001b[0m\u001b[0;34m=\u001b[0m\u001b[0;34m[\u001b[0m\u001b[0;34m]\u001b[0m\u001b[0;34m\u001b[0m\u001b[0m\n\u001b[1;32m     15\u001b[0m   \u001b[0;32mfor\u001b[0m \u001b[0mi\u001b[0m \u001b[0;32min\u001b[0m \u001b[0mrange\u001b[0m\u001b[0;34m(\u001b[0m\u001b[0mn_trees\u001b[0m\u001b[0;34m)\u001b[0m\u001b[0;34m:\u001b[0m\u001b[0;34m\u001b[0m\u001b[0m\n\u001b[0;32m---> 16\u001b[0;31m     \u001b[0mfeatures\u001b[0m\u001b[0;34m=\u001b[0m\u001b[0mget_random_features\u001b[0m\u001b[0;34m(\u001b[0m\u001b[0mX_train\u001b[0m\u001b[0;34m,\u001b[0m\u001b[0mn_features\u001b[0m\u001b[0;34m+\u001b[0m\u001b[0mi\u001b[0m\u001b[0;34m)\u001b[0m\u001b[0;34m\u001b[0m\u001b[0m\n\u001b[0m\u001b[1;32m     17\u001b[0m     \u001b[0mfeature_set\u001b[0m\u001b[0;34m.\u001b[0m\u001b[0mappend\u001b[0m\u001b[0;34m(\u001b[0m\u001b[0mfeatures\u001b[0m\u001b[0;34m)\u001b[0m\u001b[0;34m\u001b[0m\u001b[0m\n\u001b[1;32m     18\u001b[0m     \u001b[0mdtc\u001b[0m\u001b[0;34m=\u001b[0m\u001b[0mDecisionTreeClassifier\u001b[0m\u001b[0;34m(\u001b[0m\u001b[0;34m)\u001b[0m\u001b[0;34m\u001b[0m\u001b[0m\n",
            "\u001b[0;32m<ipython-input-70-8a228ec67038>\u001b[0m in \u001b[0;36mget_random_features\u001b[0;34m(X_train, no_of_features)\u001b[0m\n\u001b[1;32m      9\u001b[0m \u001b[0;34m\u001b[0m\u001b[0m\n\u001b[1;32m     10\u001b[0m \u001b[0;32mdef\u001b[0m \u001b[0mget_random_features\u001b[0m\u001b[0;34m(\u001b[0m\u001b[0mX_train\u001b[0m\u001b[0;34m,\u001b[0m\u001b[0mno_of_features\u001b[0m\u001b[0;34m)\u001b[0m\u001b[0;34m:\u001b[0m\u001b[0;34m\u001b[0m\u001b[0m\n\u001b[0;32m---> 11\u001b[0;31m   \u001b[0;32mreturn\u001b[0m \u001b[0mrandom\u001b[0m\u001b[0;34m.\u001b[0m\u001b[0msample\u001b[0m\u001b[0;34m(\u001b[0m\u001b[0mlist\u001b[0m\u001b[0;34m(\u001b[0m\u001b[0mX_train\u001b[0m\u001b[0;34m.\u001b[0m\u001b[0mcolumns\u001b[0m\u001b[0;34m)\u001b[0m\u001b[0;34m,\u001b[0m\u001b[0mk\u001b[0m\u001b[0;34m=\u001b[0m\u001b[0mno_of_features\u001b[0m\u001b[0;34m)\u001b[0m\u001b[0;34m\u001b[0m\u001b[0m\n\u001b[0m\u001b[1;32m     12\u001b[0m \u001b[0;32mdef\u001b[0m \u001b[0mrandom_forest\u001b[0m\u001b[0;34m(\u001b[0m\u001b[0mn_trees\u001b[0m\u001b[0;34m,\u001b[0m\u001b[0mn_features\u001b[0m\u001b[0;34m)\u001b[0m\u001b[0;34m:\u001b[0m\u001b[0;34m\u001b[0m\u001b[0m\n\u001b[1;32m     13\u001b[0m   \u001b[0mtrees\u001b[0m\u001b[0;34m=\u001b[0m\u001b[0;34m[\u001b[0m\u001b[0;34m]\u001b[0m\u001b[0;34m\u001b[0m\u001b[0m\n",
            "\u001b[0;32m/usr/lib/python2.7/random.pyc\u001b[0m in \u001b[0;36msample\u001b[0;34m(self, population, k)\u001b[0m\n\u001b[1;32m    323\u001b[0m         \u001b[0mn\u001b[0m \u001b[0;34m=\u001b[0m \u001b[0mlen\u001b[0m\u001b[0;34m(\u001b[0m\u001b[0mpopulation\u001b[0m\u001b[0;34m)\u001b[0m\u001b[0;34m\u001b[0m\u001b[0m\n\u001b[1;32m    324\u001b[0m         \u001b[0;32mif\u001b[0m \u001b[0;32mnot\u001b[0m \u001b[0;36m0\u001b[0m \u001b[0;34m<=\u001b[0m \u001b[0mk\u001b[0m \u001b[0;34m<=\u001b[0m \u001b[0mn\u001b[0m\u001b[0;34m:\u001b[0m\u001b[0;34m\u001b[0m\u001b[0m\n\u001b[0;32m--> 325\u001b[0;31m             \u001b[0;32mraise\u001b[0m \u001b[0mValueError\u001b[0m\u001b[0;34m(\u001b[0m\u001b[0;34m\"sample larger than population\"\u001b[0m\u001b[0;34m)\u001b[0m\u001b[0;34m\u001b[0m\u001b[0m\n\u001b[0m\u001b[1;32m    326\u001b[0m         \u001b[0mrandom\u001b[0m \u001b[0;34m=\u001b[0m \u001b[0mself\u001b[0m\u001b[0;34m.\u001b[0m\u001b[0mrandom\u001b[0m\u001b[0;34m\u001b[0m\u001b[0m\n\u001b[1;32m    327\u001b[0m         \u001b[0m_int\u001b[0m \u001b[0;34m=\u001b[0m \u001b[0mint\u001b[0m\u001b[0;34m\u001b[0m\u001b[0m\n",
            "\u001b[0;31mValueError\u001b[0m: sample larger than population"
          ]
        }
      ]
    },
    {
      "cell_type": "code",
      "metadata": {
        "id": "DXBsseNEYxPX"
      },
      "source": [
        "# Apply different voting mechanisms such as \n",
        "# max voting/average voting/weighted average voting (using accuracy as weightage)\n",
        "# Perform the ensembling for the training set.\n",
        "\n",
        "accuracy,precision,recall,f_score=[],[],[],[]\n",
        "res=[]\n",
        "for i in range(len(trees)):\n",
        "  res.append((trees[i],feature_set[i]))\n"
      ],
      "execution_count": 44,
      "outputs": []
    },
    {
      "cell_type": "code",
      "metadata": {
        "id": "yOLj_PD-5cRc"
      },
      "source": [
        "for tree,feature in res:\n",
        "  predictions=tree.predict(X_test[feature].values)\n",
        "  y_pred=[]\n",
        "  for i in range(predictions.shape[0]):\n",
        "    y_pred.append(np.mean(predictions[i,]))\n",
        "  y_pred=np.array(y_pred)\n",
        "\n",
        "  acc=tree.score(X_test[feature].values,y_test.values)\n",
        "  prec, rec, fs, _ = precision_recall_fscore_support(y_test, y_pred,beta=1.0)\n",
        "  accuracy.append(np.mean(acc))\n",
        "  precision.append(np.mean(prec))\n",
        "  f_score.append(np.mean(fs))\n",
        "  \n",
        "\n"
      ],
      "execution_count": 46,
      "outputs": []
    },
    {
      "cell_type": "code",
      "metadata": {
        "id": "cKjrpdwBAdel",
        "outputId": "3d5deebb-b5d0-4c1c-9862-691e83e4a21d",
        "colab": {
          "base_uri": "https://localhost:8080/",
          "height": 269
        }
      },
      "source": [
        "import matplotlib.pyplot as plt\n",
        "\n",
        "plt.plot(accuracy)\n",
        "plt.plot(precision)\n",
        "plt.plot(recall)\n",
        "plt.plot(f_score)\n",
        "plt.legend(['Accuracy','Precision','Recall','fscore'])\n",
        "plt.show()"
      ],
      "execution_count": 55,
      "outputs": [
        {
          "output_type": "display_data",
          "data": {
            "image/png": "[encoded data removed]",
            "text/plain": [
              "<Figure size 432x288 with 1 Axes>"
            ]
          },
          "metadata": {
            "tags": [],
            "needs_background": "light"
          }
        }
      ]
    },
    {
      "cell_type": "code",
      "metadata": {
        "id": "nFEQjBB3RBpM"
      },
      "source": [
        "}# Apply invidual trees trained on the testingset\n",
        "# Note: You should've saved the feature sets used for training invidual trees,\n",
        "# so that same features can be chosen in testing set\n",
        "\n",
        "# Get predictions on testing set"
      ],
      "execution_count": null,
      "outputs": []
    },
    {
      "cell_type": "code",
      "metadata": {
        "id": "nZhsz8e5FCUc",
        "outputId": "88cb882d-b292-4908-f702-16873c7d2352",
        "colab": {
          "base_uri": "https://localhost:8080/",
          "height": 269
        }
      },
      "source": [
        "accuracy,precision,recall,f_score=[],[],[],[]\n",
        "\n",
        "for tree,feature in res:\n",
        "  predictions=tree.predict(X_test[feature].values)\n",
        "  y_pred=[]\n",
        "  weights=tree.score(X_test[feature].values,predictions)\n",
        "  for i in range(predictions.shape[0]):\n",
        "    y_pred.append(np.mean(predictions[i,])*weights)\n",
        "  y_pred=np.array(y_pred)\n",
        "\n",
        "  acc=tree.score(X_test[feature].values,y_test.values)\n",
        "  prec, rec, fs, _ = precision_recall_fscore_support(y_test, y_pred,beta=1.0)\n",
        "  accuracy.append(np.mean(acc))\n",
        "  precision.append(np.mean(prec))\n",
        "  f_score.append(np.mean(fs))\n",
        "  \n",
        "plt.plot(accuracy)\n",
        "plt.plot(precision)\n",
        "plt.plot(recall)\n",
        "plt.plot(f_score)\n",
        "plt.legend(['Accuracy','Precision','Recall','fscore'])\n",
        "plt.show()"
      ],
      "execution_count": 56,
      "outputs": [
        {
          "output_type": "display_data",
          "data": {
            "image/png": "[encoded data removed]",
            "text/plain": [
              "<Figure size 432x288 with 1 Axes>"
            ]
          },
          "metadata": {
            "tags": [],
            "needs_background": "light"
          }
        }
      ]
    },
    {
      "cell_type": "code",
      "metadata": {
        "id": "m2qQ84BJRcNP"
      },
      "source": [
        "# Evaluate the results using accuracy, precision, recall and f-measure\n",
        "\n"
      ],
      "execution_count": null,
      "outputs": []
    },
    {
      "cell_type": "code",
      "metadata": {
        "id": "z_-xfr-CRoDa"
      },
      "source": [
        "# Compare different voting mechanisms and their accuracies\n",
        "\n"
      ],
      "execution_count": null,
      "outputs": []
    },
    {
      "cell_type": "code",
      "metadata": {
        "id": "V2UXYktmRryu"
      },
      "source": [
        "# Compare the Random forest models with different number of trees N\n",
        "\n"
      ],
      "execution_count": null,
      "outputs": []
    },
    {
      "cell_type": "code",
      "metadata": {
        "id": "_grD0B0qRwOI"
      },
      "source": [
        "# Compare different values for minimum number of features needed for individual trees\n",
        "\n",
        "\n"
      ],
      "execution_count": null,
      "outputs": []
    },
    {
      "cell_type": "markdown",
      "metadata": {
        "id": "QGVYWKUcRnhA"
      },
      "source": [
        "## Part 2: Random Forest using Sklearn"
      ]
    },
    {
      "cell_type": "code",
      "metadata": {
        "id": "7vJ02XgwRm-O"
      },
      "source": [
        "# Use the preprocessed dataset here\n",
        "\n"
      ],
      "execution_count": null,
      "outputs": []
    },
    {
      "cell_type": "code",
      "metadata": {
        "id": "mHEEc7BrSDG0"
      },
      "source": [
        "# Train the Random Forest Model using builtin Sklearn Dataset\n",
        "\n"
      ],
      "execution_count": null,
      "outputs": []
    },
    {
      "cell_type": "code",
      "metadata": {
        "id": "I-YJEeqPSIk1"
      },
      "source": [
        "# Test the model with testing set and print the accuracy, precision, recall and f-measure\n",
        "\n"
      ],
      "execution_count": null,
      "outputs": []
    },
    {
      "cell_type": "code",
      "metadata": {
        "id": "qlwe8gonSVFd"
      },
      "source": [
        "# Play with parameters such as\n",
        "# number of decision trees\n",
        "# Criterion for splitting\n",
        "# Max depth\n",
        "# Minimum samples per split and leaf"
      ],
      "execution_count": null,
      "outputs": []
    }
  ]
}